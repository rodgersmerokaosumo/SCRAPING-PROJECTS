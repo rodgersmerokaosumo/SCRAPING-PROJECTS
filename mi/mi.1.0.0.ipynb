{
 "cells": [
  {
   "cell_type": "code",
   "execution_count": 1,
   "metadata": {},
   "outputs": [],
   "source": [
    "from selenium import webdriver\n",
    "from selenium.webdriver.common.keys import Keys\n",
    "import pandas as pd\n",
    "from webdriver_manager.chrome import ChromeDriverManager\n",
    "from selenium.webdriver.common.by import By\n",
    "from parsel import Selector\n",
    "from selenium.webdriver.chrome.options import Options\n",
    "from selenium.webdriver.support.ui import WebDriverWait\n",
    "from selenium.webdriver.support import expected_conditions as EC\n",
    "\n",
    "\n",
    "# configure webdriver\n",
    "options = Options()\n",
    "options.headless = True  # hide GUI\n",
    "options.add_argument(\"--window-size=1920,1080\")  # set window size to native GUI size\n",
    "options.add_argument(\"start-maximized\")  # ensure window is full-screen\n",
    "# configure chrome browser to not load images and javascript\n",
    "chrome_options = webdriver.ChromeOptions()\n",
    "chrome_options.add_experimental_option(\n",
    "    \"prefs\", {\"profile.managed_default_content_settings.images\": 2}\n",
    ")"
   ]
  },
  {
   "cell_type": "code",
   "execution_count": 2,
   "metadata": {},
   "outputs": [],
   "source": [
    "import httplib2\n",
    "from bs4 import BeautifulSoup\n",
    "import requests\n",
    "import pandas as pd\n",
    "import re\n",
    "from parsel import Selector\n",
    "from statistics import mean\n",
    "import time\n",
    "import requests\n",
    "from datetime import datetime\n",
    "headers = {\"User-Agent\":\"Mozilla/5.0 (Windows NT 10.0; Win64; x64) AppleWebKit/537.36 (KHTML, like Gecko) Chrome/103.0.0.0 Safari/537.36\"}\n",
    "http = httplib2.Http()\n",
    "import mysql.connector"
   ]
  },
  {
   "cell_type": "code",
   "execution_count": 3,
   "metadata": {},
   "outputs": [
    {
     "name": "stderr",
     "output_type": "stream",
     "text": [
      "C:\\Users\\user\\AppData\\Local\\Temp\\ipykernel_19616\\1503906442.py:1: DeprecationWarning: executable_path has been deprecated, please pass in a Service object\n",
      "  driver = webdriver.Chrome(ChromeDriverManager().install())\n"
     ]
    }
   ],
   "source": [
    "driver = webdriver.Chrome(ChromeDriverManager().install())"
   ]
  },
  {
   "cell_type": "code",
   "execution_count": 4,
   "metadata": {},
   "outputs": [],
   "source": [
    "url = \"https://mi.tv/br/entrar\"\n",
    "driver.get(url)\n",
    "driver.window_handles;\n",
    "driver.find_element(By.CSS_SELECTOR, \"body\").send_keys(Keys.CONTROL+\"t\");\n",
    "driver.find_element(By.XPATH, '//*[@id=\"login-email\"]').send_keys(\"osumorog@gmail.com\")\n",
    "driver.find_element(By.XPATH, '//*[@id=\"login-password\"]').send_keys(\"firefire\")\n",
    "driver.find_element(By.XPATH, '//*[@id=\"btn-email-login-perform\"]').click()"
   ]
  },
  {
   "cell_type": "code",
   "execution_count": 8,
   "metadata": {},
   "outputs": [],
   "source": [
    "driver.get(\"https://mi.tv/br/perfil/selecionar-canais\")\n",
    "page_source =driver.page_source\n",
    "soup = BeautifulSoup(page_source,'html.parser')"
   ]
  },
  {
   "cell_type": "code",
   "execution_count": 10,
   "metadata": {},
   "outputs": [
    {
     "name": "stdout",
     "output_type": "stream",
     "text": [
      "825\n"
     ]
    }
   ],
   "source": [
    "buttons = soup.find(\"div\", {\"class\":\"container\"})\n",
    "buttons = buttons.find_all(\"span\",{\"class\":\"channel-name\"})\n",
    "channel_names = []\n",
    "for button in buttons:\n",
    "    channel_names.append(button.text.replace('\\n',\"\"))\n",
    "    \n",
    "for i in range(1, len(channel_names[1:])):\n",
    "    channel_names[i] = channel_names[i] .replace(\"+\", \"\")\n",
    "    channel_names[i] = channel_names[i] .replace(\"&\", \"_\")\n",
    "    channel_names[i] = channel_names[i] .replace(\"-\", \"\") \n",
    "print(len(channel_names))"
   ]
  },
  {
   "cell_type": "code",
   "execution_count": 12,
   "metadata": {},
   "outputs": [
    {
     "name": "stdout",
     "output_type": "stream",
     "text": [
      "824\n"
     ]
    }
   ],
   "source": [
    "search_urls = []\n",
    "links = []\n",
    "base_url =\"https://mi.tv\"\n",
    "for i in channel_names[1:]:\n",
    "    search_link = 'https://mi.tv/br/pesquisar/'+i\n",
    "    search_urls.append(search_link)\n",
    "    \n",
    "print(len(search_urls))\n",
    "\n",
    "for i in search_urls:    \n",
    "    driver.get(i)\n",
    "    page_source =driver.page_source\n",
    "    soup = BeautifulSoup(page_source,'html.parser')\n",
    "    channel_links = soup.find(\"ul\", {\"class\":\"channels\"})\n",
    "    if channel_links !=None:\n",
    "        channel_links = channel_links.find_all(\"li\")\n",
    "        for channel_link in channel_links:\n",
    "            tv_link = channel_link.find(\"a\").get(\"href\")\n",
    "            tv_link = base_url+tv_link\n",
    "            if tv_link not in links:\n",
    "                links.append(tv_link)"
   ]
  },
  {
   "cell_type": "markdown",
   "metadata": {},
   "source": [
    "slink = \"https://mi.tv/br/canais/amc-hd/2022-09-01\"\n",
    "driver.get(slink)\n",
    "page_source =driver.page_source"
   ]
  },
  {
   "cell_type": "markdown",
   "metadata": {},
   "source": [
    "class Data:\n",
    "    def __init__(self, link, date):\n",
    "        self.driver = webdriver.Chrome(ChromeDriverManager().install())\n",
    "        self.link = link+\"/\"+date\n",
    "\n",
    "    def get_data(self):\n",
    "        from datetime import datetime\n",
    "        self.driver.get(self.link)\n",
    "        page_source =self.driver.page_source\n",
    "        soup = BeautifulSoup(page_source,'html.parser')\n",
    "        try:\n",
    "            channel_detail = soup.find(\"div\", {\"class\":\"channel-info\"})\n",
    "        except:\n",
    "            channel_detail = None\n",
    "        try:\n",
    "            channel_name = channel_detail.find(\"h1\").text.replace('\\n',\"\")\n",
    "        except:\n",
    "            channel_name = None\n",
    "        try:\n",
    "            program_date = channel_detail.find(\"span\").text.replace('\\n',\"\")\n",
    "        except:\n",
    "            program_date = None\n",
    "        try:\n",
    "            programs = soup.find(\"ul\", {\"class\":\"broadcasts time24\"})\n",
    "        except:\n",
    "            programs  =None\n",
    "        try:\n",
    "            programs = programs.find_all(\"li\")\n",
    "        except:\n",
    "            programs  =None\n",
    "        for program in programs:\n",
    "            content = program.find(\"div\", {\"class\":\"content\"})\n",
    "            try:\n",
    "                prog_link = program.find(\"a\", {\"class\":\"program-link\"}).get(\"href\")   \n",
    "            except:\n",
    "                prog_link = None\n",
    "            try:\n",
    "                prog_name = content.find(\"h2\").text.replace('\\n',\"\")\n",
    "                prog_name = re.sub(r\"[\\t]*\", \"\", prog_name)\n",
    "            except:\n",
    "                prog_name = None\n",
    "                \n",
    "            try:\n",
    "                prog_time = content.find(\"span\", {\"class\":\"time\"}).text.replace('\\n',\"\")\n",
    "            except:\n",
    "                prog_time = None\n",
    "            try:\n",
    "                prog_genre = content.find(\"span\", {\"class\":\"sub-title\"}).text.replace('\\n',\"\")\n",
    "                prog_genre = re.sub(r\"[\\t]*\", \"\", prog_genre)\n",
    "            except:\n",
    "                prog_genre = None\n",
    "            try:\n",
    "                prog_synopsis = content.find(\"p\", {\"class\":\"synopsis\"}).text.replace('\\n',\"\")\n",
    "                prog_synopsis = re.sub(r\"[\\t]*\", \"\", prog_synopsis)\n",
    "            except:\n",
    "                prog_synopsis = None\n",
    "                \n",
    "            try:\n",
    "                now = datetime.now()\n",
    "                date_scraped = now.strftime(\"%d/%m/%Y %H:%M:%S\")\n",
    "            except:\n",
    "                date_scraped = None\n",
    "            \n",
    "            tv = {\"channel\":channel_name, \"program name\":prog_name, \"program time\":prog_time,\"program genre\":prog_genre, \"program synopsis\":prog_synopsis, \"program link\":prog_link,  \"date\":program_date, \"scraped link\":self.link, \"scrape date\":date_scraped}\n",
    "            \n",
    "            return tv\n",
    "    "
   ]
  },
  {
   "cell_type": "code",
   "execution_count": 15,
   "metadata": {},
   "outputs": [
    {
     "ename": "AttributeError",
     "evalue": "'NoneType' object has no attribute 'find_all'",
     "output_type": "error",
     "traceback": [
      "\u001b[1;31m---------------------------------------------------------------------------\u001b[0m",
      "\u001b[1;31mAttributeError\u001b[0m                            Traceback (most recent call last)",
      "\u001b[1;32mc:\\Users\\user\\Documents\\Meroka\\Projects\\Scraping_Projects\\mi\\mi.1.0.0.ipynb Cell 10\u001b[0m in \u001b[0;36m<cell line: 3>\u001b[1;34m()\u001b[0m\n\u001b[0;32m      <a href='vscode-notebook-cell:/c%3A/Users/user/Documents/Meroka/Projects/Scraping_Projects/mi/mi.1.0.0.ipynb#W4sZmlsZQ%3D%3D?line=5'>6</a>\u001b[0m soup \u001b[39m=\u001b[39m BeautifulSoup(page_source,\u001b[39m'\u001b[39m\u001b[39mhtml.parser\u001b[39m\u001b[39m'\u001b[39m)\n\u001b[0;32m      <a href='vscode-notebook-cell:/c%3A/Users/user/Documents/Meroka/Projects/Scraping_Projects/mi/mi.1.0.0.ipynb#W4sZmlsZQ%3D%3D?line=7'>8</a>\u001b[0m programs \u001b[39m=\u001b[39m soup\u001b[39m.\u001b[39mfind(\u001b[39m\"\u001b[39m\u001b[39mul\u001b[39m\u001b[39m\"\u001b[39m, {\u001b[39m\"\u001b[39m\u001b[39mclass\u001b[39m\u001b[39m\"\u001b[39m:\u001b[39m\"\u001b[39m\u001b[39mbroadcasts time24\u001b[39m\u001b[39m\"\u001b[39m})\n\u001b[1;32m----> <a href='vscode-notebook-cell:/c%3A/Users/user/Documents/Meroka/Projects/Scraping_Projects/mi/mi.1.0.0.ipynb#W4sZmlsZQ%3D%3D?line=8'>9</a>\u001b[0m programs \u001b[39m=\u001b[39m programs\u001b[39m.\u001b[39;49mfind_all(\u001b[39m\"\u001b[39m\u001b[39mli\u001b[39m\u001b[39m\"\u001b[39m)\n\u001b[0;32m     <a href='vscode-notebook-cell:/c%3A/Users/user/Documents/Meroka/Projects/Scraping_Projects/mi/mi.1.0.0.ipynb#W4sZmlsZQ%3D%3D?line=9'>10</a>\u001b[0m \u001b[39mif\u001b[39;00m programs \u001b[39m!=\u001b[39m \u001b[39mNone\u001b[39;00m:\n\u001b[0;32m     <a href='vscode-notebook-cell:/c%3A/Users/user/Documents/Meroka/Projects/Scraping_Projects/mi/mi.1.0.0.ipynb#W4sZmlsZQ%3D%3D?line=10'>11</a>\u001b[0m     \u001b[39mfor\u001b[39;00m program \u001b[39min\u001b[39;00m programs:\n",
      "\u001b[1;31mAttributeError\u001b[0m: 'NoneType' object has no attribute 'find_all'"
     ]
    }
   ],
   "source": [
    "from datetime import datetime\n",
    "data = []\n",
    "for link in links:\n",
    "    driver.get(link)\n",
    "    page_source =driver.page_source\n",
    "    soup = BeautifulSoup(page_source,'html.parser')\n",
    "    \n",
    "    programs = soup.find(\"ul\", {\"class\":\"broadcasts time24\"})\n",
    "    if programs != None:\n",
    "        programs = programs.find_all(\"li\")\n",
    "        for program in programs:\n",
    "            content = program.find(\"div\", {\"class\":\"content\"})\n",
    "            channel_detail = soup.find(\"div\", {\"class\":\"channel-info\"})\n",
    "            try:\n",
    "                channel_name = channel_detail.find(\"h1\").text.replace('\\n',\"\")\n",
    "            except:\n",
    "                channel_name = None\n",
    "            try:\n",
    "                program_date = channel_detail.find(\"span\").text.replace('\\n',\"\")\n",
    "            except:\n",
    "                program_date = None\n",
    "            try:\n",
    "                prog_link = program.find(\"a\", {\"class\":\"program-link\"}).get(\"href\")   \n",
    "            except:\n",
    "                prog_link = None\n",
    "            try:\n",
    "                prog_name = content.find(\"h2\").text.replace('\\n',\"\")\n",
    "                prog_name = re.sub(r\"[\\t]*\", \"\", prog_name)\n",
    "            except:\n",
    "                prog_name = None\n",
    "                        \n",
    "            try:\n",
    "                prog_time = content.find(\"span\", {\"class\":\"time\"}).text.replace('\\n',\"\")\n",
    "            except:\n",
    "                prog_time = None\n",
    "            try:\n",
    "                prog_genre = content.find(\"span\", {\"class\":\"sub-title\"}).text.replace('\\n',\"\")\n",
    "                prog_genre = re.sub(r\"[\\t]*\", \"\", prog_genre)\n",
    "            except:\n",
    "                prog_genre = None\n",
    "            try:\n",
    "                prog_synopsis = content.find(\"p\", {\"class\":\"synopsis\"}).text.replace('\\n',\"\")\n",
    "                prog_synopsis = re.sub(r\"[\\t]*\", \"\", prog_synopsis)\n",
    "            except:\n",
    "                prog_synopsis = None\n",
    "                        \n",
    "            try:\n",
    "                now = datetime.now()\n",
    "                date_scraped = now.strftime(\"%d/%m/%Y %H:%M:%S\")\n",
    "            except:\n",
    "                date_scraped = None\n",
    "                    \n",
    "            tv = {\"channel\":channel_name, \"program name\":prog_name, \"program time\":prog_time,\"program genre\":prog_genre, \"program synopsis\":prog_synopsis, \"program link\":prog_link,  \"date\":program_date, \"scraped link\":link, \"scrape date\":date_scraped}\n",
    "                    \n",
    "            data.append(tv)\n",
    "    "
   ]
  },
  {
   "cell_type": "code",
   "execution_count": null,
   "metadata": {},
   "outputs": [],
   "source": [
    "df = pd.DataFrame.from_dict(data)\n",
    "df"
   ]
  }
 ],
 "metadata": {
  "kernelspec": {
   "display_name": "Python 3.9.6 64-bit",
   "language": "python",
   "name": "python3"
  },
  "language_info": {
   "codemirror_mode": {
    "name": "ipython",
    "version": 3
   },
   "file_extension": ".py",
   "mimetype": "text/x-python",
   "name": "python",
   "nbconvert_exporter": "python",
   "pygments_lexer": "ipython3",
   "version": "3.9.6"
  },
  "orig_nbformat": 4,
  "vscode": {
   "interpreter": {
    "hash": "82ed002fa2d4956f5c6aec99bcefe0f73a9f79882f3c9e2319b14958a5896ac5"
   }
  }
 },
 "nbformat": 4,
 "nbformat_minor": 2
}
