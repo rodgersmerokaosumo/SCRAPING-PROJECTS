{
 "cells": [
  {
   "cell_type": "code",
   "execution_count": 7,
   "outputs": [],
   "source": [
    "from requests_html import AsyncHTMLSession\n",
    "import time\n",
    "import requests\n",
    "import re\n",
    "from statistics import mean\n",
    "\n",
    "from bs4 import BeautifulSoup"
   ],
   "metadata": {
    "collapsed": false,
    "pycharm": {
     "name": "#%%\n"
    }
   }
  },
  {
   "cell_type": "code",
   "execution_count": 2,
   "outputs": [],
   "source": [
    "asession = AsyncHTMLSession()"
   ],
   "metadata": {
    "collapsed": false,
    "pycharm": {
     "name": "#%%\n"
    }
   }
  },
  {
   "cell_type": "code",
   "execution_count": 3,
   "outputs": [],
   "source": [
    "r = await asession.get('https://www.prisjakt.nu/produkt.php?p=5688342#properties')"
   ],
   "metadata": {
    "collapsed": false,
    "pycharm": {
     "name": "#%%\n"
    }
   }
  },
  {
   "cell_type": "code",
   "execution_count": 16,
   "outputs": [],
   "source": [
    "sel  = \"div.App-sc-2fu3f8-0.ljZBoE section.Main-sc-2fu3f8-1.hnCjSa:nth-child(5) div.Content-sc-2fu3f8-2.hybPGh div.PageContent-sc-1wgu331-5.dfQdce div.Wrapper-sc-1wgu331-1.gPsMfp div.Content-sc-1wgu331-0.gMPJqu div.ProductPage-sc-mnx6sq-0.iMqgaO div.SectionWrapper-sc-ia0zhw-0.bqrwQK:nth-child(4) div.PageSectionWrapper-sc-o2pbvx-0.kQdrfN section.PageSectionContent-sc-o2pbvx-1.hbBYkf section:nth-child(1) div.StyledList--ji0zot.McirA.StyledPanel--17i5iqi.ffQfPu:nth-child(2) > div:nth-child(1)\""
   ],
   "metadata": {
    "collapsed": false,
    "pycharm": {
     "name": "#%%\n"
    }
   }
  },
  {
   "cell_type": "code",
   "execution_count": 13,
   "outputs": [
    {
     "name": "stdout",
     "output_type": "stream",
     "text": [
      "[<div class=\"Column-sc-1jnk5ag-2 bIOAXd\"><span class=\"Text--bzqghn wmwsE bodysmalltext PropertyName-sc-1jnk5ag-5 hEdIXF\" title=\"\">Varumärke</span></div>, <div class=\"Column-sc-1jnk5ag-2 bIOAXd\"><span class=\"Text--bzqghn ddqBq bodysmalltext PropertyValue-sc-1jnk5ag-6 etcKHO\" title=\"\"><a class=\"InternalLink-sc-t916l0-1 hYGtTZ TextLink-sc-1sy8f60-0 dmKaMp\" data-test=\"InternalLink\" href=\"/c/tv?brand=13\">LG</a></span></div>]\n",
      "[<div class=\"Column-sc-1jnk5ag-2 bIOAXd\"><span class=\"Text--bzqghn wmwsE bodysmalltext PropertyName-sc-1jnk5ag-5 hEdIXF\" title=\"\">Bildstorlek</span></div>, <div class=\"Column-sc-1jnk5ag-2 bIOAXd\"><span class=\"Text--bzqghn ddqBq bodysmalltext PropertyValue-sc-1jnk5ag-6 etcKHO\" title=\"\">77 tum</span></div>]\n",
      "[<div class=\"Column-sc-1jnk5ag-2 bIOAXd\"><span class=\"Text--bzqghn wmwsE bodysmalltext PropertyName-sc-1jnk5ag-5 hEdIXF\" title=\"\">Upplösning</span></div>, <div class=\"Column-sc-1jnk5ag-2 bIOAXd\"><span class=\"Text--bzqghn ddqBq bodysmalltext PropertyValue-sc-1jnk5ag-6 etcKHO\" title=\"\"><a class=\"InternalLink-sc-t916l0-1 hYGtTZ TextLink-sc-1sy8f60-0 dmKaMp\" data-test=\"InternalLink\" href=\"/c/tv?2=24295\">4K Ultra HD (3840x2160)</a></span></div>]\n",
      "[<div class=\"Column-sc-1jnk5ag-2 bIOAXd\"><span class=\"Text--bzqghn wmwsE bodysmalltext PropertyName-sc-1jnk5ag-5 hEdIXF\" title=\"\">Bildskärmsteknik</span></div>, <div class=\"Column-sc-1jnk5ag-2 bIOAXd\"><span class=\"Text--bzqghn ddqBq bodysmalltext PropertyValue-sc-1jnk5ag-6 etcKHO\" title=\"\"><a class=\"InternalLink-sc-t916l0-1 hYGtTZ TextLink-sc-1sy8f60-0 dmKaMp\" data-test=\"InternalLink\" href=\"/c/tv?7243=39300\">OLED</a></span></div>]\n",
      "[<div class=\"Column-sc-1jnk5ag-2 bIOAXd\"><span class=\"Text--bzqghn wmwsE bodysmalltext PropertyName-sc-1jnk5ag-5 hEdIXF\" title=\"\">HDR</span></div>, <div class=\"Column-sc-1jnk5ag-2 bIOAXd\"><span class=\"Text--bzqghn ddqBq bodysmalltext PropertyValue-sc-1jnk5ag-6 etcKHO\" title=\"\"><span class=\"ColoredIconWrapper-sc-1b454pl-0 iqSbGx\" color=\"rgba(68, 197, 137, 1)\"><svg class=\"StyledIcon--139f62v jMpjPF iconcheckfilled\" size=\"18\" viewbox=\"0 0 24 24\"><path class=\"StyledIconPath--864mu8 rpLoE\" color=\"positive500\" d=\"M12 22C17.5228 22 22 17.5228 22 12C22 6.47715 17.5228 2 12 2C6.47715 2 2 6.47715 2 12C2 17.5228 6.47715 22 12 22ZM17.2667 7.53333L9.91667 14.9L7.01667 12L6.05 12.9833L9.91667 16.85L18.25 8.51667L17.2667 7.53333Z\"></path></svg><span>Ja</span></span></span></div>]\n",
      "[<div class=\"Column-sc-1jnk5ag-2 bIOAXd\"><span class=\"Text--bzqghn wmwsE bodysmalltext PropertyName-sc-1jnk5ag-5 hEdIXF\" title=\"\">Smart TV</span></div>, <div class=\"Column-sc-1jnk5ag-2 bIOAXd\"><span class=\"Text--bzqghn ddqBq bodysmalltext PropertyValue-sc-1jnk5ag-6 etcKHO\" title=\"\"><span class=\"ColoredIconWrapper-sc-1b454pl-0 iqSbGx\" color=\"rgba(68, 197, 137, 1)\"><svg class=\"StyledIcon--139f62v jMpjPF iconcheckfilled\" size=\"18\" viewbox=\"0 0 24 24\"><path class=\"StyledIconPath--864mu8 rpLoE\" color=\"positive500\" d=\"M12 22C17.5228 22 22 17.5228 22 12C22 6.47715 17.5228 2 12 2C6.47715 2 2 6.47715 2 12C2 17.5228 6.47715 22 12 22ZM17.2667 7.53333L9.91667 14.9L7.01667 12L6.05 12.9833L9.91667 16.85L18.25 8.51667L17.2667 7.53333Z\"></path></svg><span>Ja</span></span></span></div>]\n",
      "[<div class=\"Column-sc-1jnk5ag-2 bIOAXd\"><span class=\"Text--bzqghn wmwsE bodysmalltext PropertyName-sc-1jnk5ag-5 hEdIXF\" title=\"\">Lanseringsår</span></div>, <div class=\"Column-sc-1jnk5ag-2 bIOAXd\"><span class=\"Text--bzqghn ddqBq bodysmalltext PropertyValue-sc-1jnk5ag-6 etcKHO\" title=\"\">2021</span></div>]\n"
     ]
    }
   ],
   "source": [
    "soup = BeautifulSoup(r.text,'html.parser')\n",
    "sections = soup.find_all(\"section\", {\"class\":\"Section-sc-1jnk5ag-1 kLbzuK\"})\n",
    "for section in sections:\n",
    "    for list in section.find_all(\"div\", {\"class\":\"Row-sc-1jnk5ag-3 jQedgK\"}):\n",
    "        print(list.find_all(\"div\", {\"class\":\"Column-sc-1jnk5ag-2 bIOAXd\"}))"
   ],
   "metadata": {
    "collapsed": false,
    "pycharm": {
     "name": "#%%\n"
    }
   }
  }
 ],
 "metadata": {
  "kernelspec": {
   "display_name": "Python 3",
   "language": "python",
   "name": "python3"
  },
  "language_info": {
   "codemirror_mode": {
    "name": "ipython",
    "version": 2
   },
   "file_extension": ".py",
   "mimetype": "text/x-python",
   "name": "python",
   "nbconvert_exporter": "python",
   "pygments_lexer": "ipython2",
   "version": "2.7.6"
  }
 },
 "nbformat": 4,
 "nbformat_minor": 0
}