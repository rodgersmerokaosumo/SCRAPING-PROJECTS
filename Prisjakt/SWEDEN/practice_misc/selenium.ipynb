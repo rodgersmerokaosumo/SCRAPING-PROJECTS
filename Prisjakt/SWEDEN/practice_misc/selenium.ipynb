{
 "cells": [
  {
   "cell_type": "code",
   "execution_count": 39,
   "metadata": {
    "pycharm": {
     "name": "#%%\n"
    }
   },
   "outputs": [
    {
     "name": "stderr",
     "output_type": "stream",
     "text": [
      "[WDM] - Downloading: 16.2kB [00:00, 1.85MB/s]                   \n",
      "C:\\Users\\user\\AppData\\Local\\Temp\\ipykernel_15000\\969000144.py:14: DeprecationWarning: executable_path has been deprecated, please pass in a Service object\n",
      "  driver = webdriver.Firefox(executable_path=GeckoDriverManager().install())\n"
     ]
    }
   ],
   "source": [
    "from selenium import webdriver\n",
    "from webdriver_manager.firefox import GeckoDriverManager\n",
    "from selenium.webdriver.common.by import By\n",
    "from parsel import Selector\n",
    "from selenium.webdriver.chrome.options import Options\n",
    "from selenium.webdriver.support.ui import WebDriverWait\n",
    "from selenium.webdriver.support import expected_conditions as EC\n",
    "import time\n",
    "import requests\n",
    "from bs4 import BeautifulSoup\n",
    "import re\n",
    "from statistics import mean\n",
    "\n",
    "driver = webdriver.Firefox(executable_path=GeckoDriverManager().install())"
   ]
  },
  {
   "cell_type": "code",
   "execution_count": 40,
   "metadata": {
    "pycharm": {
     "name": "#%%\n"
    }
   },
   "outputs": [],
   "source": [
    "driver.get(\"https://www.prisjakt.nu/produkt.php?p=5688342\")\n",
    "try:\n",
    "    element1 = WebDriverWait(driver, 10).until(\n",
    "            EC.presence_of_element_located((By.CSS_SELECTOR, \"div.BannerCookieBanner div.BannerContentCookieBanner div.ButtonsWrapperCookieBanner.AcceptButtonWrapperCookieBanner button.AcceptButtonCookieBanner.ButtonCookieBanner span.TextWrapperCookieBanner > span:nth-child(1)\"))\n",
    "        )\n",
    "    element1.click()\n",
    "except:\n",
    "    element1 = None\n",
    "try:\n",
    "    element2 = WebDriverWait(driver, 10).until(\n",
    "            EC.presence_of_element_located((By.CSS_SELECTOR, \"div.App-sc-2fu3f8-0.ljZBoE section.Main-sc-2fu3f8-1.hnCjSa:nth-child(5) div.Content-sc-2fu3f8-2.hybPGh div.PageContent-sc-1wgu331-5.dfQdce div.Wrapper-sc-1wgu331-1.gPsMfp div.Content-sc-1wgu331-0.gMPJqu div.ProductPage-sc-mnx6sq-0.iMqgaO div.SectionWrapper-sc-ia0zhw-0.bqrwQK:nth-child(1) div.PageSectionWrapper-sc-o2pbvx-0.gHOcYt.StyledPageSection-sc-1w3nqup-0.UUqee:nth-child(1) section.PageSectionContent-sc-o2pbvx-1.euuGdp section:nth-child(1) div.PriceListPanelWrapper-sc-1htx0wh-0.lkPiWw div.PricePanel-sc-wkzg9v-1.kSsiTe div:nth-child(3) > button.BaseButton--uexw3i.cVdzxy.textbutton\"))\n",
    "        )\n",
    "    element2.click()\n",
    "except:\n",
    "    element2 = None"
   ]
  },
  {
   "cell_type": "code",
   "execution_count": 52,
   "metadata": {
    "pycharm": {
     "name": "#%%\n"
    }
   },
   "outputs": [],
   "source": [
    "def get_prices():\n",
    "    page_source =driver.page_source\n",
    "    soup = BeautifulSoup(page_source,'html.parser')\n",
    "    offers  = soup.find(\"ul\", {\"class\":\"PriceList-sc-wkzg9v-0 fbrkVc\"})\n",
    "    price_list = []\n",
    "    for offer in offers:\n",
    "        offer_prices  = offer.find_all(\"div\", {\"class\":\"PriceWrapper-sc-k40pbc-4 OYetQ\"})\n",
    "        price_list.append(offer_prices)\n",
    "\n",
    "    price_list = [price for sublist in price_list for price in sublist]\n",
    "    for i in range(0, len(price_list)):\n",
    "        price_list[i] = price_list[i].text.replace('\\n',\"\")\n",
    "\n",
    "    for i in range(0, len(price_list)):\n",
    "        price_list[i] = re.sub('[\\xa0]', '',price_list[i])\n",
    "        price_list[i] = re.sub('[kr]', '', price_list[i])\n",
    "        price_list[i]= price_list[i].replace(r'[()]',\"\")\n",
    "\n",
    "    for i in range(0, len(price_list)):\n",
    "        price_list[i] = int(price_list[i])\n",
    "    no_offers = len(price_list)\n",
    "    avg_price =  mean(price_list)\n",
    "    return no_offers, avg_price"
   ]
  },
  {
   "cell_type": "code",
   "execution_count": 57,
   "outputs": [
    {
     "data": {
      "text/plain": "28790.75"
     },
     "execution_count": 57,
     "metadata": {},
     "output_type": "execute_result"
    }
   ],
   "source": [
    "avg_price = get_prices()[1]\n",
    "avg_price"
   ],
   "metadata": {
    "collapsed": false,
    "pycharm": {
     "name": "#%%\n"
    }
   }
  },
  {
   "cell_type": "code",
   "execution_count": null,
   "outputs": [],
   "source": [
    "for i in range(0, len(price_list)):\n",
    "    price_list[i] = re.sub('[\\xa0]', '',price_list[i])\n",
    "    price_list[i] = re.sub('[kr]', '', price_list[i])\n",
    "    price_list[i]= price_list[i].replace(r'[()]',\"\")\n"
   ],
   "metadata": {
    "collapsed": false,
    "pycharm": {
     "name": "#%%\n"
    }
   }
  },
  {
   "cell_type": "code",
   "execution_count": 1,
   "outputs": [],
   "source": [
    "class PropertiesPrices(object):\n",
    "    def __init__(self):\n",
    "        self.driver = webdriver.Firefox(executable_path=GeckoDriverManager().install())\n",
    "\n",
    "    def get_properties(self):\n",
    "        url = link+\"#properties\"\n",
    "        self.driver.get(url)\n",
    "        try:\n",
    "            element1 = WebDriverWait(self.driver, 10).until(\n",
    "                EC.presence_of_element_located((By.XPATH, \"//body/div[@id='root']/div[@class='App-sc-2fu3f8-0 ljZBoE']/section[@class='Main-sc-2fu3f8-1 hnCjSa']/div[@class='Content-sc-2fu3f8-2 hybPGh']/div[@class='PageContent-sc-1wgu331-5 dfQdce']/div[@class='Wrapper-sc-1wgu331-1 gPsMfp']/div[@class='Content-sc-1wgu331-0 gMPJqu']/div[@class='ProductPage-sc-mnx6sq-0 iMqgaO']/div/div[@id='#properties']/div[@class='PageSectionWrapper-sc-o2pbvx-0 kQdrfN']/section[@class='PageSectionContent-sc-o2pbvx-1 hbBYkf']/section[@data-test='PropertiesTabContent']/div[@class='StyledList--ji0zot McirA StyledPanel--17i5iqi ffQfPu']/div[@data-test-type='product-info']/div[@class='StyledViewport-sc-7zjdbj-0 iDfoDl']/section[1]/div[1]/div[1]\"))\n",
    "            )\n",
    "            element1.click()\n",
    "        except:\n",
    "            element1 = None\n",
    "        self.driver.find_element(By.XPATH, \"//a[@class='TabLink-sc-4sd16e-3 jJHqPc']\")\n",
    "        page_source =self.driver.page_source\n",
    "        soup = BeautifulSoup(page_source,'html.parser')\n",
    "        specs = soup.find_all(\"section\", {\"class\":\"Section-sc-1jnk5ag-1 kLbzuK\"})\n",
    "        prop_names = []\n",
    "        prop_vals = []\n",
    "        for sect in specs:\n",
    "            sections = sect.find_all(\"div\", {\"class\", \"Row-sc-1jnk5ag-3 jQedgK\"})\n",
    "            for section in sections:\n",
    "                properties = section.find_all(\"div\", {\"class\":\"Column-sc-1jnk5ag-2 bIOAXd\"})\n",
    "                for property in properties:\n",
    "                    property_name = property.find(\"span\", {\"class\":\"Text--bzqghn wmwsE bodysmalltext PropertyName-sc-1jnk5ag-5 hEdIXF\"})\n",
    "                    property_value = property.find(\"span\", {\"class\":\"Text--bzqghn ddqBq bodysmalltext PropertyValue-sc-1jnk5ag-6 etcKHO\"})\n",
    "                    if property_name !=None:\n",
    "                        prop_names.append(property_name.text.replace('\\n',\"\"))\n",
    "                    elif property_value !=None:\n",
    "                        prop_vals.append(property_value.text.replace('\\n',\"\"))\n",
    "        properties = {}\n",
    "        for name in prop_names:\n",
    "            for val in prop_vals:\n",
    "                properties[name] = val\n",
    "                prop_vals.remove(val)\n",
    "                break\n",
    "\n",
    "        return properties\n",
    "\n",
    "    def get_prices(self):\n",
    "        self.driver.get(link)\n",
    "        page_source = self.driver.page_source\n",
    "        soup = BeautifulSoup(page_source,'html.parser')\n",
    "        offers  = soup.find(\"ul\", {\"class\":\"PriceList-sc-wkzg9v-0 fbrkVc\"})\n",
    "        price_list = []\n",
    "        for offer in offers:\n",
    "            offer_prices  = offer.find_all(\"div\", {\"class\":\"PriceWrapper-sc-k40pbc-4 OYetQ\"})\n",
    "            price_list.append(offer_prices)\n",
    "\n",
    "        price_list = [price for sublist in price_list for price in sublist]\n",
    "        for i in range(0, len(price_list)):\n",
    "            price_list[i] = price_list[i].text.replace('\\n',\"\")\n",
    "\n",
    "        for i in range(0, len(price_list)):\n",
    "            price_list[i] = re.sub('[\\xa0]', '',price_list[i])\n",
    "            price_list[i] = re.sub('[kr]', '', price_list[i])\n",
    "            price_list[i]= price_list[i].replace(r'[()]',\"\")\n",
    "\n",
    "        for i in range(0, len(price_list)):\n",
    "            price_list[i] = int(price_list[i])\n",
    "        no_offers = len(price_list)\n",
    "        avg_price =  mean(price_list)\n",
    "\n",
    "        return no_offers, avg_price"
   ],
   "metadata": {
    "collapsed": false,
    "pycharm": {
     "name": "#%%\n"
    }
   }
  },
  {
   "cell_type": "code",
   "execution_count": null,
   "outputs": [],
   "source": [
    "prices = PropertiesPrices()\n"
   ],
   "metadata": {
    "collapsed": false,
    "pycharm": {
     "name": "#%%\n"
    }
   }
  }
 ],
 "metadata": {
  "kernelspec": {
   "display_name": "Python 3 (ipykernel)",
   "language": "python",
   "name": "python3"
  },
  "language_info": {
   "codemirror_mode": {
    "name": "ipython",
    "version": 3
   },
   "file_extension": ".py",
   "mimetype": "text/x-python",
   "name": "python",
   "nbconvert_exporter": "python",
   "pygments_lexer": "ipython3",
   "version": "3.9.6"
  },
  "vscode": {
   "interpreter": {
    "hash": "82ed002fa2d4956f5c6aec99bcefe0f73a9f79882f3c9e2319b14958a5896ac5"
   }
  }
 },
 "nbformat": 4,
 "nbformat_minor": 4
}