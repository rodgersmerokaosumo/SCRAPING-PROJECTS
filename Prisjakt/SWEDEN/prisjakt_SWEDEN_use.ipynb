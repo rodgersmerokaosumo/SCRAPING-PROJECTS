{
 "cells": [
  {
   "cell_type": "code",
   "execution_count": 1,
   "metadata": {
    "pycharm": {
     "name": "#%%\n"
    }
   },
   "outputs": [],
   "source": [
    "import httplib2\n",
    "from bs4 import BeautifulSoup\n",
    "import requests\n",
    "import pandas as pd\n",
    "import re\n",
    "from parsel import Selector\n",
    "from statistics import mean\n",
    "import time\n",
    "import requests\n",
    "from datetime import datetime\n",
    "headers = {\"User-Agent\":\"Mozilla/5.0 (Windows NT 10.0; Win64; x64) AppleWebKit/537.36 (KHTML, like Gecko) Chrome/103.0.0.0 Safari/537.36\"}\n",
    "http = httplib2.Http()\n",
    "import mysql.connector"
   ]
  },
  {
   "cell_type": "code",
   "execution_count": 2,
   "metadata": {},
   "outputs": [],
   "source": [
    "import pandas as pd\n",
    "from sqlalchemy import create_engine\n",
    "\n",
    "# Credentials to database connection\n",
    "hostname=\"localhost\"\n",
    "dbname=\"prisjakt_tv_sweden\"\n",
    "uname=\"root\"\n",
    "pwd=\"4156\"\n",
    "\n",
    "\n",
    "# Create SQLAlchemy engine to connect to MySQL Database\n",
    "engine = create_engine(\"mysql+pymysql://{user}:{pw}@{host}/{db}\"\n",
    "\t\t\t\t.format(host=hostname, db=dbname, user=uname, pw=pwd))"
   ]
  },
  {
   "cell_type": "code",
   "execution_count": 4,
   "metadata": {
    "pycharm": {
     "name": "#%%\n"
    }
   },
   "outputs": [
    {
     "name": "stdout",
     "output_type": "stream",
     "text": [
      "Pages Found: 47\n"
     ]
    }
   ],
   "source": [
    "base_url = \"https://www.prisjakt.nu\"\n",
    "url = \"https://www.prisjakt.nu/c/tv\"\n",
    "page_links = []\n",
    "links = []\n",
    "page_links.append(url)\n",
    "for page in page_links:\n",
    "    url = page\n",
    "    i = requests.get(url).text\n",
    "    soup=BeautifulSoup(i,'html.parser')\n",
    "    pages = soup.find_all(\"li\",{\"class\":\"PaginationListItem-sc-11oisbu-1 bKXcXk\"})\n",
    "    for page in pages:\n",
    "        link = page.find(\"a\", {\"data-test\":\"PaginationLink\"})\n",
    "        links.append(link)\n",
    "        if link == None:\n",
    "            links.remove(link)\n",
    "    for l in links:\n",
    "        pg = l.get('href')\n",
    "        full_url = base_url+pg\n",
    "        while full_url not in page_links:\n",
    "            page_links.append(full_url)\n",
    "\n",
    "\n",
    "print(f'Pages Found: {len(page_links)}')"
   ]
  },
  {
   "cell_type": "code",
   "execution_count": 5,
   "metadata": {
    "pycharm": {
     "name": "#%%\n"
    }
   },
   "outputs": [],
   "source": [
    "productlists = []\n",
    "for link in page_links:\n",
    "        k = requests.get(link).text\n",
    "        soup=BeautifulSoup(k,'html.parser')\n",
    "        productlist = soup.find_all(\"article\",{\"data-test\":\"ProductGridCard\"})\n",
    "        productlists.append(productlist)"
   ]
  },
  {
   "cell_type": "code",
   "execution_count": 6,
   "metadata": {
    "pycharm": {
     "name": "#%%\n"
    }
   },
   "outputs": [],
   "source": [
    "items = [item for sublist in productlists for item in sublist]"
   ]
  },
  {
   "cell_type": "code",
   "execution_count": 7,
   "metadata": {
    "pycharm": {
     "name": "#%%\n"
    }
   },
   "outputs": [
    {
     "name": "stdout",
     "output_type": "stream",
     "text": [
      "Number of Products Found: 2068\n"
     ]
    }
   ],
   "source": [
    "productlinks = []\n",
    "for item in items:\n",
    "        link = item.find(\"a\",{\"data-test\":\"InternalLink\"}).get('href')                 \n",
    "        productlinks.append(base_url+link)\n",
    "\n",
    "print(f'Number of Products Found: {len(productlinks)}')"
   ]
  },
  {
   "cell_type": "code",
   "execution_count": 8,
   "metadata": {},
   "outputs": [
    {
     "data": {
      "text/plain": [
       "2068"
      ]
     },
     "execution_count": 8,
     "metadata": {},
     "output_type": "execute_result"
    }
   ],
   "source": [
    "df_prod_links = pd.DataFrame(productlinks, columns = ['Product Links'])\n",
    "# Convert dataframe to sql table                                   \n",
    "df_prod_links.to_sql('productlinks', engine, if_exists='replace', index=False)"
   ]
  },
  {
   "cell_type": "code",
   "execution_count": 3,
   "metadata": {
    "pycharm": {
     "name": "#%%\n"
    }
   },
   "outputs": [],
   "source": [
    "from selenium import webdriver\n",
    "from selenium.webdriver.common.keys import Keys\n",
    "import pandas as pd\n",
    "from webdriver_manager.chrome import ChromeDriverManager\n",
    "from selenium.webdriver.common.by import By\n",
    "from parsel import Selector\n",
    "from selenium.webdriver.chrome.options import Options\n",
    "from selenium.webdriver.support.ui import WebDriverWait\n",
    "from selenium.webdriver.support import expected_conditions as EC\n",
    "\n",
    "\n",
    "# configure webdriver\n",
    "options = Options()\n",
    "options.headless = True  # hide GUI\n",
    "options.add_argument(\"--window-size=1920,1080\")  # set window size to native GUI size\n",
    "options.add_argument(\"start-maximized\")  # ensure window is full-screen\n",
    "# configure chrome browser to not load images and javascript\n",
    "chrome_options = webdriver.ChromeOptions()\n",
    "chrome_options.add_experimental_option(\n",
    "    \"prefs\", {\"profile.managed_default_content_settings.images\": 2}\n",
    ")"
   ]
  },
  {
   "cell_type": "code",
   "execution_count": 4,
   "metadata": {
    "collapsed": false,
    "pycharm": {
     "name": "#%%\n"
    }
   },
   "outputs": [
    {
     "name": "stderr",
     "output_type": "stream",
     "text": [
      "[WDM] - Downloading: 100%|██████████| 6.21M/6.21M [00:04<00:00, 1.32MB/s]\n",
      "C:\\Users\\user\\AppData\\Local\\Temp\\ipykernel_11880\\1503906442.py:1: DeprecationWarning: executable_path has been deprecated, please pass in a Service object\n",
      "  driver = webdriver.Chrome(ChromeDriverManager().install())\n"
     ]
    }
   ],
   "source": [
    "driver = webdriver.Chrome(ChromeDriverManager().install())"
   ]
  },
  {
   "cell_type": "code",
   "execution_count": 11,
   "metadata": {
    "collapsed": false,
    "pycharm": {
     "name": "#%%\n"
    }
   },
   "outputs": [],
   "source": [
    "property_list = []\n",
    "for link in productlinks:\n",
    "    url = link+\"#properties\"\n",
    "    driver.get(url)\n",
    "    try:\n",
    "        element1 = WebDriverWait(driver, 10).until(\n",
    "            EC.presence_of_element_located((By.XPATH, \"//body/div[@id='root']/div[@class='App-sc-2fu3f8-0 ljZBoE']/section[@class='Main-sc-2fu3f8-1 hnCjSa']/div[@class='Content-sc-2fu3f8-2 hybPGh']/div[@class='PageContent-sc-1wgu331-5 dfQdce']/div[@class='Wrapper-sc-1wgu331-1 gPsMfp']/div[@class='Content-sc-1wgu331-0 gMPJqu']/div[@class='ProductPage-sc-mnx6sq-0 iMqgaO']/div/div[@id='#properties']/div[@class='PageSectionWrapper-sc-o2pbvx-0 kQdrfN']/section[@class='PageSectionContent-sc-o2pbvx-1 hbBYkf']/section[@data-test='PropertiesTabContent']/div[@class='StyledList--ji0zot McirA StyledPanel--17i5iqi ffQfPu']/div[@data-test-type='product-info']/div[@class='StyledViewport-sc-7zjdbj-0 iDfoDl']/section[1]/div[1]/div[1]\"))\n",
    "        )\n",
    "        element1.click()\n",
    "    except:\n",
    "        element1 = None\n",
    "    page_source =driver.page_source\n",
    "    soup = BeautifulSoup(page_source,'html.parser')\n",
    "    specs = soup.find_all(\"section\", {\"class\":\"Section-sc-1jnk5ag-1 kLbzuK\"})\n",
    "    prop_names = []\n",
    "    prop_vals = []\n",
    "    for sect in specs:\n",
    "        sections = sect.find_all(\"div\", {\"class\", \"Row-sc-1jnk5ag-3 jQedgK\"})\n",
    "        for section in sections:\n",
    "            properties = section.find_all(\"div\", {\"class\":\"Column-sc-1jnk5ag-2 bIOAXd\"})\n",
    "            for property in properties:\n",
    "                property_name = property.find(\"span\", {\"class\":\"Text--bzqghn wmwsE bodysmalltext PropertyName-sc-1jnk5ag-5 hEdIXF\"})\n",
    "                property_value = property.find(\"span\", {\"class\":\"Text--bzqghn ddqBq bodysmalltext PropertyValue-sc-1jnk5ag-6 etcKHO\"})\n",
    "                if property_name !=None:\n",
    "                    prop_names.append(property_name.text.replace('\\n',\"\"))\n",
    "                elif property_value !=None:\n",
    "                    prop_vals.append(property_value.text.replace('\\n',\"\"))\n",
    "    properties = {}\n",
    "    for name in prop_names:\n",
    "        for val in prop_vals:\n",
    "            properties[name] = val\n",
    "            prop_vals.remove(val)\n",
    "            break\n",
    "    property_list.append(properties)\n"
   ]
  },
  {
   "cell_type": "code",
   "execution_count": 30,
   "metadata": {},
   "outputs": [],
   "source": [
    "def get_prices():\n",
    "        try:\n",
    "        #  click on cookie banner\n",
    "            banner_click = driver.find_element(By.CSS_SELECTOR, \"div.BannerCookieBanner div.BannerContentCookieBanner div.ButtonsWrapperCookieBanner.AcceptButtonWrapperCookieBanner button.AcceptButtonCookieBanner.ButtonCookieBanner span.TextWrapperCookieBanner > span:nth-child(1)\")\n",
    "            banner_click.click()\n",
    "        except:\n",
    "            banner_click = None\n",
    "        try:\n",
    "                #click to reveal more items\n",
    "            reveal_click = driver.find_element(By.CSS_SELECTOR, \"div.App-sc-2fu3f8-0.ljZBoE section.Main-sc-2fu3f8-1.hnCjSa:nth-child(5) div.Content-sc-2fu3f8-2.hybPGh div.PageContent-sc-1wgu331-5.dfQdce div.Wrapper-sc-1wgu331-1.gPsMfp div.Content-sc-1wgu331-0.gMPJqu div.ProductPage-sc-mnx6sq-0.iMqgaO div.SectionWrapper-sc-ia0zhw-0.bqrwQK:nth-child(1) div.PageSectionWrapper-sc-o2pbvx-0.gHOcYt.StyledPageSection-sc-1w3nqup-0.UUqee:nth-child(1) section.PageSectionContent-sc-o2pbvx-1.euuGdp section:nth-child(1) div.PriceListPanelWrapper-sc-1htx0wh-0.lkPiWw div.PricePanel-sc-wkzg9v-1.kSsiTe div:nth-child(3) > button.BaseButton--uexw3i.cVdzxy.textbutton\")\n",
    "            reveal_click.click()\n",
    "        except:\n",
    "            reveal_click = None\n",
    "\n",
    "        page_source = driver.page_source\n",
    "        soup = BeautifulSoup(page_source,'html.parser')\n",
    "        offers  = soup.find(\"ul\", {\"class\":\"PriceList-sc-wkzg9v-0 fbrkVc\"})\n",
    "        price_list = []\n",
    "        for offer in offers:\n",
    "            offer_prices  = offer.find_all(\"div\", {\"class\":\"PriceWrapper-sc-k40pbc-4 OYetQ\"})\n",
    "            price_list.append(offer_prices)\n",
    "\n",
    "        price_list = [price for sublist in price_list for price in sublist]\n",
    "        for i in range(0, len(price_list)):\n",
    "            price_list[i] = price_list[i].text.replace('\\n',\"\")\n",
    "\n",
    "        for i in range(0, len(price_list)):\n",
    "            price_list[i] = re.sub('[\\xa0]', '',price_list[i])\n",
    "                #price_list[i] = re.sub('[kr]', '', price_list[i])\n",
    "            price_list[i] = re.sub(\"[^0-9]\", \"\", price_list[i])\n",
    "                #price_list[i]= price_list[i].replace(r'[()]',\"\")\n",
    "\n",
    "        for i in range(0, len(price_list)):\n",
    "            price_list[i] = int(price_list[i])\n",
    "        no_offers = len(price_list)\n",
    "        avg_price =  \"{:.2f}\".format(mean(price_list))\n",
    "\n",
    "        return no_offers, avg_price"
   ]
  },
  {
   "cell_type": "code",
   "execution_count": 33,
   "metadata": {
    "pycharm": {
     "name": "#%%\n"
    }
   },
   "outputs": [
    {
     "name": "stdout",
     "output_type": "stream",
     "text": [
      "product scraped: (1, 'LG OLED65C1 65\" 4K Ultra HD (3840x2160) OLED Smart TV')\n"
     ]
    }
   ],
   "source": [
    "data = []\n",
    "product_scraped = 1\n",
    "for link in productlinks:\n",
    "    from datetime import datetime\n",
    "    f = requests.get(link,headers=headers).text\n",
    "    hun=BeautifulSoup(f,'html.parser')\n",
    "    driver.get(link)\n",
    "\n",
    "    try:\n",
    "        category = \"TV\"\n",
    "    except:\n",
    "        category = None\n",
    "    try:\n",
    "        name = hun.find(\"div\",{\"data-test\":\"ProductTitle\"}).text.replace('\\n',\"\")\n",
    "    except:\n",
    "        name = None\n",
    "    try:\n",
    "        avg_price = get_prices()[1]\n",
    "    except:\n",
    "        avg_price = None\n",
    "    try:\n",
    "        offs = get_prices()[0]\n",
    "    except:\n",
    "        offs = None\n",
    "    try:\n",
    "        country = \"NO\"\n",
    "    except:\n",
    "        country = None\n",
    "    try:\n",
    "        currency = \"NOK\"\n",
    "    except:\n",
    "        currency = None\n",
    "    try:\n",
    "        rank = hun.find(\"span\",{\"class\":\"Text--bzqghn kBBoFI titlesmalltext StyledCaptionText--7mhtyj fxXtPM\"}).text.replace('\\n',\"\")\n",
    "    except:\n",
    "        rank = None\n",
    "    try:\n",
    "        rating = hun.find(\"span\",{\"class\":\"RateNumber-sc-14ktvqu-5 ifhFUL\"}).text.replace('\\n',\"\")\n",
    "    except:\n",
    "        rating = None\n",
    "    try:\n",
    "        reviews = hun.find(\"span\",{\"class\":\"Counter-sc-14ktvqu-0 bORxLl\"}).text.replace('\\n',\"\")\n",
    "    except:\n",
    "        reviews = None\n",
    "    try:\n",
    "        description = hun.find(\"p\",{\"class\":\"ProductInfo-sc-46oo5c-0 bRxlhS\"}).text.replace('\\n',\"\")\n",
    "    except:\n",
    "        description = None\n",
    "    #try:\n",
    "        #specifications = get_specs(prod_specifications)\n",
    "    #except:\n",
    "        #specifications = None\n",
    "\n",
    "    try:\n",
    "        scrape_link = link\n",
    "        \n",
    "    except:\n",
    "        scrape_link = None\n",
    "    \n",
    "    try:\n",
    "        now = datetime.now()\n",
    "        date_scraped = now.strftime(\"%d/%m/%Y %H:%M:%S\")\n",
    "    except:\n",
    "        date_scraped = None\n",
    "\n",
    "\n",
    "    tv = {\"Country Code\":country, \"Category\":category, \"Name\":name, \"Avg Price\": avg_price, \"Currency\":currency, \"Nb of Offers\":offs, \"Rank\":rank, \"Rating\":rating, \"Reviews\":reviews, \"Description\":description, \\\n",
    "        \"scrape_link\":scrape_link, \"date_scraped\":date_scraped}\n",
    "    \n",
    "    data.append(tv)\n",
    "    \n",
    "    print(f'product scraped: {product_scraped, name}')\n",
    "    product_scraped = product_scraped + 1\n",
    "    "
   ]
  },
  {
   "cell_type": "code",
   "execution_count": 15,
   "metadata": {
    "collapsed": false,
    "pycharm": {
     "name": "#%%\n"
    }
   },
   "outputs": [
    {
     "data": {
      "text/html": [
       "<div>\n",
       "<style scoped>\n",
       "    .dataframe tbody tr th:only-of-type {\n",
       "        vertical-align: middle;\n",
       "    }\n",
       "\n",
       "    .dataframe tbody tr th {\n",
       "        vertical-align: top;\n",
       "    }\n",
       "\n",
       "    .dataframe thead th {\n",
       "        text-align: right;\n",
       "    }\n",
       "</style>\n",
       "<table border=\"1\" class=\"dataframe\">\n",
       "  <thead>\n",
       "    <tr style=\"text-align: right;\">\n",
       "      <th></th>\n",
       "      <th>Varumärke</th>\n",
       "      <th>Bildstorlek</th>\n",
       "      <th>Upplösning</th>\n",
       "      <th>Bildskärmsteknik</th>\n",
       "      <th>HDR</th>\n",
       "      <th>Smart TV</th>\n",
       "      <th>Lanseringsår</th>\n",
       "      <th>Pris/tum</th>\n",
       "      <th>Produktnamn</th>\n",
       "      <th>Kategori</th>\n",
       "      <th>...</th>\n",
       "      <th>Energiförbrukning i HDR-läge (per 1000h)</th>\n",
       "      <th>Energiförbrukning i SDR-läge (per 1000h)</th>\n",
       "      <th>Energiklass (A-G)</th>\n",
       "      <th>Energiklass (HDR)</th>\n",
       "      <th>Bakbelysning</th>\n",
       "      <th>Diodplacering</th>\n",
       "      <th>Teknologier</th>\n",
       "      <th>Paneltyp</th>\n",
       "      <th>Glasögonteknik</th>\n",
       "      <th>Medföljande glasögon</th>\n",
       "    </tr>\n",
       "  </thead>\n",
       "  <tbody>\n",
       "    <tr>\n",
       "      <th>0</th>\n",
       "      <td>LG</td>\n",
       "      <td>65 tum</td>\n",
       "      <td>4K Ultra HD (3840x2160)</td>\n",
       "      <td>OLED</td>\n",
       "      <td>Ja</td>\n",
       "      <td>Ja</td>\n",
       "      <td>2021</td>\n",
       "      <td>215.23 kr/tum</td>\n",
       "      <td>LG OLED65C1 65\" 4K Ultra HD (3840x2160) OLED S...</td>\n",
       "      <td>TV</td>\n",
       "      <td>...</td>\n",
       "      <td>222 kWh</td>\n",
       "      <td>126 kWh</td>\n",
       "      <td>G</td>\n",
       "      <td>G</td>\n",
       "      <td>NaN</td>\n",
       "      <td>NaN</td>\n",
       "      <td>NaN</td>\n",
       "      <td>NaN</td>\n",
       "      <td>NaN</td>\n",
       "      <td>NaN</td>\n",
       "    </tr>\n",
       "    <tr>\n",
       "      <th>1</th>\n",
       "      <td>LG</td>\n",
       "      <td>55 tum</td>\n",
       "      <td>4K Ultra HD (3840x2160)</td>\n",
       "      <td>OLED</td>\n",
       "      <td>Ja</td>\n",
       "      <td>Ja</td>\n",
       "      <td>2021</td>\n",
       "      <td>195.38 kr/tum</td>\n",
       "      <td>LG OLED55C1 55\" 4K Ultra HD (3840x2160) OLED S...</td>\n",
       "      <td>TV</td>\n",
       "      <td>...</td>\n",
       "      <td>171 kWh</td>\n",
       "      <td>106 kWh</td>\n",
       "      <td>G</td>\n",
       "      <td>G</td>\n",
       "      <td>NaN</td>\n",
       "      <td>NaN</td>\n",
       "      <td>NaN</td>\n",
       "      <td>NaN</td>\n",
       "      <td>NaN</td>\n",
       "      <td>NaN</td>\n",
       "    </tr>\n",
       "    <tr>\n",
       "      <th>2</th>\n",
       "      <td>Philips</td>\n",
       "      <td>58 tum</td>\n",
       "      <td>4K Ultra HD (3840x2160)</td>\n",
       "      <td>LCD</td>\n",
       "      <td>Ja</td>\n",
       "      <td>Ja</td>\n",
       "      <td></td>\n",
       "      <td>86.03 kr/tum</td>\n",
       "      <td>Philips 58PUS9006 58\" 4K Ultra HD (3840x2160) ...</td>\n",
       "      <td>TV</td>\n",
       "      <td>...</td>\n",
       "      <td>128 kWh</td>\n",
       "      <td>90 kWh</td>\n",
       "      <td></td>\n",
       "      <td>G</td>\n",
       "      <td>LED (lysdiod)</td>\n",
       "      <td>Bakbelyst (Back)</td>\n",
       "      <td></td>\n",
       "      <td>VA</td>\n",
       "      <td>NaN</td>\n",
       "      <td>NaN</td>\n",
       "    </tr>\n",
       "    <tr>\n",
       "      <th>3</th>\n",
       "      <td>LG</td>\n",
       "      <td>65 tum</td>\n",
       "      <td>4K Ultra HD (3840x2160)</td>\n",
       "      <td>OLED</td>\n",
       "      <td>Ja</td>\n",
       "      <td>Ja</td>\n",
       "      <td>2021</td>\n",
       "      <td>165.95 kr/tum</td>\n",
       "      <td>LG OLED65B1 65\" 4K Ultra HD (3840x2160) OLED S...</td>\n",
       "      <td>TV</td>\n",
       "      <td>...</td>\n",
       "      <td>235 kWh</td>\n",
       "      <td>122 kWh</td>\n",
       "      <td>G</td>\n",
       "      <td>G</td>\n",
       "      <td>NaN</td>\n",
       "      <td>NaN</td>\n",
       "      <td>NaN</td>\n",
       "      <td>NaN</td>\n",
       "      <td>NaN</td>\n",
       "      <td>NaN</td>\n",
       "    </tr>\n",
       "    <tr>\n",
       "      <th>4</th>\n",
       "      <td>Philips</td>\n",
       "      <td>70 tum</td>\n",
       "      <td>4K Ultra HD (3840x2160)</td>\n",
       "      <td>LCD</td>\n",
       "      <td>Ja</td>\n",
       "      <td>Ja</td>\n",
       "      <td></td>\n",
       "      <td>99.86 kr/tum</td>\n",
       "      <td>Philips 70PUS9006 70\" 4K Ultra HD (3840x2160) ...</td>\n",
       "      <td>TV</td>\n",
       "      <td>...</td>\n",
       "      <td>203 kWh</td>\n",
       "      <td>126 kWh</td>\n",
       "      <td>G</td>\n",
       "      <td>G</td>\n",
       "      <td>LED (lysdiod)</td>\n",
       "      <td></td>\n",
       "      <td></td>\n",
       "      <td></td>\n",
       "      <td>NaN</td>\n",
       "      <td>NaN</td>\n",
       "    </tr>\n",
       "  </tbody>\n",
       "</table>\n",
       "<p>5 rows × 85 columns</p>\n",
       "</div>"
      ],
      "text/plain": [
       "  Varumärke Bildstorlek               Upplösning Bildskärmsteknik HDR  \\\n",
       "0        LG      65 tum  4K Ultra HD (3840x2160)             OLED  Ja   \n",
       "1        LG      55 tum  4K Ultra HD (3840x2160)             OLED  Ja   \n",
       "2   Philips      58 tum  4K Ultra HD (3840x2160)              LCD  Ja   \n",
       "3        LG      65 tum  4K Ultra HD (3840x2160)             OLED  Ja   \n",
       "4   Philips      70 tum  4K Ultra HD (3840x2160)              LCD  Ja   \n",
       "\n",
       "  Smart TV Lanseringsår       Pris/tum  \\\n",
       "0       Ja         2021  215.23 kr/tum   \n",
       "1       Ja         2021  195.38 kr/tum   \n",
       "2       Ja                86.03 kr/tum   \n",
       "3       Ja         2021  165.95 kr/tum   \n",
       "4       Ja                99.86 kr/tum   \n",
       "\n",
       "                                         Produktnamn Kategori  ...  \\\n",
       "0  LG OLED65C1 65\" 4K Ultra HD (3840x2160) OLED S...       TV  ...   \n",
       "1  LG OLED55C1 55\" 4K Ultra HD (3840x2160) OLED S...       TV  ...   \n",
       "2  Philips 58PUS9006 58\" 4K Ultra HD (3840x2160) ...       TV  ...   \n",
       "3  LG OLED65B1 65\" 4K Ultra HD (3840x2160) OLED S...       TV  ...   \n",
       "4  Philips 70PUS9006 70\" 4K Ultra HD (3840x2160) ...       TV  ...   \n",
       "\n",
       "  Energiförbrukning i HDR-läge (per 1000h)  \\\n",
       "0                                  222 kWh   \n",
       "1                                  171 kWh   \n",
       "2                                  128 kWh   \n",
       "3                                  235 kWh   \n",
       "4                                  203 kWh   \n",
       "\n",
       "  Energiförbrukning i SDR-läge (per 1000h) Energiklass (A-G)  \\\n",
       "0                                  126 kWh                 G   \n",
       "1                                  106 kWh                 G   \n",
       "2                                   90 kWh                     \n",
       "3                                  122 kWh                 G   \n",
       "4                                  126 kWh                 G   \n",
       "\n",
       "  Energiklass (HDR)   Bakbelysning     Diodplacering Teknologier Paneltyp  \\\n",
       "0                 G            NaN               NaN         NaN      NaN   \n",
       "1                 G            NaN               NaN         NaN      NaN   \n",
       "2                 G  LED (lysdiod)  Bakbelyst (Back)                   VA   \n",
       "3                 G            NaN               NaN         NaN      NaN   \n",
       "4                 G  LED (lysdiod)                                          \n",
       "\n",
       "  Glasögonteknik Medföljande glasögon  \n",
       "0            NaN                  NaN  \n",
       "1            NaN                  NaN  \n",
       "2            NaN                  NaN  \n",
       "3            NaN                  NaN  \n",
       "4            NaN                  NaN  \n",
       "\n",
       "[5 rows x 85 columns]"
      ]
     },
     "execution_count": 15,
     "metadata": {},
     "output_type": "execute_result"
    }
   ],
   "source": [
    "df_prop = pd.DataFrame.from_dict(property_list)\n",
    "df_prop.head()"
   ]
  },
  {
   "cell_type": "code",
   "execution_count": 16,
   "metadata": {
    "pycharm": {
     "name": "#%%\n"
    }
   },
   "outputs": [
    {
     "data": {
      "text/html": [
       "<div>\n",
       "<style scoped>\n",
       "    .dataframe tbody tr th:only-of-type {\n",
       "        vertical-align: middle;\n",
       "    }\n",
       "\n",
       "    .dataframe tbody tr th {\n",
       "        vertical-align: top;\n",
       "    }\n",
       "\n",
       "    .dataframe thead th {\n",
       "        text-align: right;\n",
       "    }\n",
       "</style>\n",
       "<table border=\"1\" class=\"dataframe\">\n",
       "  <thead>\n",
       "    <tr style=\"text-align: right;\">\n",
       "      <th></th>\n",
       "      <th>Country Code</th>\n",
       "      <th>Category</th>\n",
       "      <th>Name</th>\n",
       "      <th>Avg Price</th>\n",
       "      <th>Currency</th>\n",
       "      <th>Nb of Offers</th>\n",
       "      <th>Rank</th>\n",
       "      <th>Rating</th>\n",
       "      <th>Reviews</th>\n",
       "      <th>Description</th>\n",
       "      <th>scrape_link</th>\n",
       "      <th>date_scraped</th>\n",
       "    </tr>\n",
       "  </thead>\n",
       "  <tbody>\n",
       "    <tr>\n",
       "      <th>2063</th>\n",
       "      <td>NO</td>\n",
       "      <td>TV</td>\n",
       "      <td>JVC LT-24VAH3000 24\" HD Ready (1366x768)</td>\n",
       "      <td>2460.00</td>\n",
       "      <td>NOK</td>\n",
       "      <td>1.0</td>\n",
       "      <td>Rank 2225</td>\n",
       "      <td>None</td>\n",
       "      <td>(1)</td>\n",
       "      <td>Det billigaste priset för JVC LT-24VAH3000 24\"...</td>\n",
       "      <td>https://www.prisjakt.nu/produkt.php?p=5753958</td>\n",
       "      <td>23/08/2022 16:58:56</td>\n",
       "    </tr>\n",
       "    <tr>\n",
       "      <th>2064</th>\n",
       "      <td>NO</td>\n",
       "      <td>TV</td>\n",
       "      <td>Salora A58S2 58\" 4K Ultra HD (3840x2160) LCD S...</td>\n",
       "      <td>7990.00</td>\n",
       "      <td>NOK</td>\n",
       "      <td>1.0</td>\n",
       "      <td>Rank 2226</td>\n",
       "      <td>None</td>\n",
       "      <td>(1)</td>\n",
       "      <td>Det billigaste priset för Salora A58S2 58\" 4K ...</td>\n",
       "      <td>https://www.prisjakt.nu/produkt.php?p=6237668</td>\n",
       "      <td>23/08/2022 16:59:00</td>\n",
       "    </tr>\n",
       "    <tr>\n",
       "      <th>2065</th>\n",
       "      <td>NO</td>\n",
       "      <td>TV</td>\n",
       "      <td>Toshiba 32W2163DG 32\" HD Ready (1366x768) LCD</td>\n",
       "      <td>2340.00</td>\n",
       "      <td>NOK</td>\n",
       "      <td>1.0</td>\n",
       "      <td>Rank 2228</td>\n",
       "      <td>None</td>\n",
       "      <td>(1)</td>\n",
       "      <td>Det billigaste priset för Toshiba 32W2163DG 32...</td>\n",
       "      <td>https://www.prisjakt.nu/produkt.php?p=6667204</td>\n",
       "      <td>23/08/2022 16:59:03</td>\n",
       "    </tr>\n",
       "    <tr>\n",
       "      <th>2066</th>\n",
       "      <td>NO</td>\n",
       "      <td>TV</td>\n",
       "      <td>JVC LT-43VAF3000</td>\n",
       "      <td>3997.00</td>\n",
       "      <td>NOK</td>\n",
       "      <td>1.0</td>\n",
       "      <td>Rank 2229</td>\n",
       "      <td>None</td>\n",
       "      <td>(1)</td>\n",
       "      <td>Det billigaste priset för JVC LT-43VAF3000 jus...</td>\n",
       "      <td>https://www.prisjakt.nu/produkt.php?p=5809081</td>\n",
       "      <td>23/08/2022 16:59:07</td>\n",
       "    </tr>\n",
       "    <tr>\n",
       "      <th>2067</th>\n",
       "      <td>NO</td>\n",
       "      <td>TV</td>\n",
       "      <td>LG 65NANO81 (2021) 65\" 4K Ultra HD (3840x2160)...</td>\n",
       "      <td>13921.00</td>\n",
       "      <td>NOK</td>\n",
       "      <td>1.0</td>\n",
       "      <td>Rank 2230</td>\n",
       "      <td>None</td>\n",
       "      <td>(1)</td>\n",
       "      <td>Det billigaste priset för LG 65NANO81 (2021) 6...</td>\n",
       "      <td>https://www.prisjakt.nu/produkt.php?p=5843898</td>\n",
       "      <td>23/08/2022 16:59:10</td>\n",
       "    </tr>\n",
       "  </tbody>\n",
       "</table>\n",
       "</div>"
      ],
      "text/plain": [
       "     Country Code Category                                               Name  \\\n",
       "2063           NO       TV           JVC LT-24VAH3000 24\" HD Ready (1366x768)   \n",
       "2064           NO       TV  Salora A58S2 58\" 4K Ultra HD (3840x2160) LCD S...   \n",
       "2065           NO       TV      Toshiba 32W2163DG 32\" HD Ready (1366x768) LCD   \n",
       "2066           NO       TV                                   JVC LT-43VAF3000   \n",
       "2067           NO       TV  LG 65NANO81 (2021) 65\" 4K Ultra HD (3840x2160)...   \n",
       "\n",
       "     Avg Price Currency  Nb of Offers       Rank Rating Reviews  \\\n",
       "2063   2460.00      NOK           1.0  Rank 2225   None     (1)   \n",
       "2064   7990.00      NOK           1.0  Rank 2226   None     (1)   \n",
       "2065   2340.00      NOK           1.0  Rank 2228   None     (1)   \n",
       "2066   3997.00      NOK           1.0  Rank 2229   None     (1)   \n",
       "2067  13921.00      NOK           1.0  Rank 2230   None     (1)   \n",
       "\n",
       "                                            Description  \\\n",
       "2063  Det billigaste priset för JVC LT-24VAH3000 24\"...   \n",
       "2064  Det billigaste priset för Salora A58S2 58\" 4K ...   \n",
       "2065  Det billigaste priset för Toshiba 32W2163DG 32...   \n",
       "2066  Det billigaste priset för JVC LT-43VAF3000 jus...   \n",
       "2067  Det billigaste priset för LG 65NANO81 (2021) 6...   \n",
       "\n",
       "                                        scrape_link         date_scraped  \n",
       "2063  https://www.prisjakt.nu/produkt.php?p=5753958  23/08/2022 16:58:56  \n",
       "2064  https://www.prisjakt.nu/produkt.php?p=6237668  23/08/2022 16:59:00  \n",
       "2065  https://www.prisjakt.nu/produkt.php?p=6667204  23/08/2022 16:59:03  \n",
       "2066  https://www.prisjakt.nu/produkt.php?p=5809081  23/08/2022 16:59:07  \n",
       "2067  https://www.prisjakt.nu/produkt.php?p=5843898  23/08/2022 16:59:10  "
      ]
     },
     "execution_count": 16,
     "metadata": {},
     "output_type": "execute_result"
    }
   ],
   "source": [
    "df = pd.DataFrame.from_dict(data)\n",
    "df.tail()"
   ]
  },
  {
   "cell_type": "code",
   "execution_count": 17,
   "metadata": {
    "pycharm": {
     "name": "#%%\n"
    }
   },
   "outputs": [
    {
     "data": {
      "text/plain": [
       "Index(['Country Code', 'Category', 'Name', 'Avg Price', 'Currency',\n",
       "       'Nb of Offers', 'Rank', 'Rating', 'Reviews', 'Description',\n",
       "       'scrape_link', 'date_scraped'],\n",
       "      dtype='object')"
      ]
     },
     "execution_count": 17,
     "metadata": {},
     "output_type": "execute_result"
    }
   ],
   "source": [
    "df.columns"
   ]
  },
  {
   "cell_type": "code",
   "execution_count": 18,
   "metadata": {
    "pycharm": {
     "name": "#%%\n"
    }
   },
   "outputs": [
    {
     "data": {
      "text/plain": [
       "(2068, 97)"
      ]
     },
     "execution_count": 18,
     "metadata": {},
     "output_type": "execute_result"
    }
   ],
   "source": [
    "df = pd.concat([df, df_prop.reindex(df.index)], axis=1)\n",
    "#gen_spec_df = df[\"Generalspecifications\"].apply(pd.Series)\n",
    "#df = pd.concat([df, gen_spec_df.reindex(df.index)], axis=1)\n",
    "df_c = df.copy()\n",
    "# Remove specifications column\n",
    "#df.drop(['specifications'], axis=1, inplace=True)\n",
    "df.shape"
   ]
  },
  {
   "cell_type": "code",
   "execution_count": 19,
   "metadata": {
    "pycharm": {
     "name": "#%%\n"
    }
   },
   "outputs": [],
   "source": [
    "#df2 = df.reset_index().rename(columns={'index':'id'})\n",
    "df_long = df.set_index(['Country Code', 'Varumärke','Kategori', 'Name', 'Nb of Offers', 'Lanseringsår', 'Avg Price', 'Currency', 'scrape_link', 'date_scraped']).stack().reset_index()"
   ]
  },
  {
   "cell_type": "code",
   "execution_count": 20,
   "metadata": {
    "pycharm": {
     "name": "#%%\n"
    }
   },
   "outputs": [
    {
     "data": {
      "text/plain": [
       "133620"
      ]
     },
     "execution_count": 20,
     "metadata": {},
     "output_type": "execute_result"
    }
   ],
   "source": [
    "# Convert dataframe to sql table                                   \n",
    "df_long.to_sql('data_table',  engine, if_exists='replace', index=False)"
   ]
  },
  {
   "cell_type": "code",
   "execution_count": 21,
   "metadata": {
    "pycharm": {
     "name": "#%%\n"
    }
   },
   "outputs": [],
   "source": [
    "df.to_csv(\"data.csv\")"
   ]
  },
  {
   "cell_type": "markdown",
   "metadata": {
    "pycharm": {
     "name": "#%% md\n"
    }
   },
   "source": [
    "    prod_specifications = hun.find_all(\"div\",{\"class\":\"Column-sc-1jnk5ag-2 bIOAXd\"})\n",
    "    def get_specs(prod_specifications):\n",
    "        nam = []\n",
    "        val = []\n",
    "        for spec in prod_specifications:\n",
    "            for prop in spec.find_all(\"span\", {\"class\":\"Text--bzqghn wmwsE bodysmalltext PropertyName-sc-1jnk5ag-5 hEdIXF\"}):\n",
    "                prop_n  = prop.get_text()\n",
    "                nam.append(prop_n)\n",
    "            for prop in spec.find_all(\"span\", {\"class\":\"Text--bzqghn ddqBq bodysmalltext PropertyValue-sc-1jnk5ag-6 etcKHO\"}):\n",
    "                prop_v  = prop.get_text()\n",
    "                val.append(prop_v)\n",
    "        specs = {nam[i]: val[i] for i in range(len(nam))}\n",
    "        return(specs)"
   ]
  },
  {
   "cell_type": "code",
   "execution_count": 22,
   "metadata": {
    "pycharm": {
     "name": "#%%\n"
    }
   },
   "outputs": [],
   "source": [
    "df_long.to_csv('df_long.csv')"
   ]
  }
 ],
 "metadata": {
  "kernelspec": {
   "display_name": "Python 3 (ipykernel)",
   "language": "python",
   "name": "python3"
  },
  "language_info": {
   "codemirror_mode": {
    "name": "ipython",
    "version": 3
   },
   "file_extension": ".py",
   "mimetype": "text/x-python",
   "name": "python",
   "nbconvert_exporter": "python",
   "pygments_lexer": "ipython3",
   "version": "3.9.6"
  },
  "vscode": {
   "interpreter": {
    "hash": "82ed002fa2d4956f5c6aec99bcefe0f73a9f79882f3c9e2319b14958a5896ac5"
   }
  }
 },
 "nbformat": 4,
 "nbformat_minor": 4
}
