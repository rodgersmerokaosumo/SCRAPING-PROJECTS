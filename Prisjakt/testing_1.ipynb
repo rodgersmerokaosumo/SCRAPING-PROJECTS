{
 "cells": [
  {
   "cell_type": "code",
   "execution_count": 1,
   "metadata": {
    "collapsed": true,
    "pycharm": {
     "name": "#%%\n"
    }
   },
   "outputs": [
    {
     "name": "stderr",
     "output_type": "stream",
     "text": [
      "[WDM] - Downloading: 16.2kB [00:00, 8.32MB/s]                   \n",
      "[WDM] - Downloading: 16.2kB [00:00, 5.53MB/s]                   \n",
      "[WDM] - Downloading: 100%|██████████| 1.42M/1.42M [00:03<00:00, 423kB/s]\n",
      "C:\\Users\\user\\AppData\\Local\\Temp\\ipykernel_4068\\3915491610.py:15: DeprecationWarning: executable_path has been deprecated, please pass in a Service object\n",
      "  driver = webdriver.Firefox(executable_path=GeckoDriverManager().install())\n"
     ]
    }
   ],
   "source": [
    "from selenium import webdriver\n",
    "from webdriver_manager.firefox import GeckoDriverManager\n",
    "from selenium.webdriver.common.by import By\n",
    "from parsel import Selector\n",
    "from selenium.webdriver.chrome.options import Options\n",
    "from selenium.webdriver.support.ui import WebDriverWait\n",
    "from selenium.webdriver.support import expected_conditions as EC\n",
    "import time\n",
    "import requests\n",
    "import re\n",
    "from statistics import mean\n",
    "\n",
    "from bs4 import BeautifulSoup\n",
    "\n",
    "driver = webdriver.Firefox(executable_path=GeckoDriverManager().install())"
   ]
  },
  {
   "cell_type": "markdown",
   "source": [
    "driver.get(\"https://www.prisjakt.nu/produkt.php\")\n",
    "def get_clicks():\n",
    "    try:\n",
    "        element1 = WebDriverWait(driver, 10).until(\n",
    "            EC.presence_of_element_located((By.CSS_SELECTOR, \"div.BannerCookieBanner div.BannerContentCookieBanner div.ButtonsWrapperCookieBanner.AcceptButtonWrapperCookieBanner button.AcceptButtonCookieBanner.ButtonCookieBanner span.TextWrapperCookieBanner > span:nth-child(1)\"))\n",
    "        )\n",
    "        element1.click()\n",
    "    except:\n",
    "        element1 = None\n",
    "    try:\n",
    "        element2 = WebDriverWait(driver, 10).until(\n",
    "            EC.presence_of_element_located((By.CSS_SELECTOR, \"div.App-sc-2fu3f8-0.ljZBoE section.Main-sc-2fu3f8-1.hnCjSa:nth-child(5) div.Content-sc-2fu3f8-2.hybPGh div.PageContent-sc-1wgu331-5.dfQdce div.Wrapper-sc-1wgu331-1.gPsMfp div.Content-sc-1wgu331-0.gMPJqu div.ProductPage-sc-mnx6sq-0.iMqgaO div.SectionWrapper-sc-ia0zhw-0.bqrwQK:nth-child(1) div.PageSectionWrapper-sc-o2pbvx-0.gHOcYt.StyledPageSection-sc-1w3nqup-0.UUqee:nth-child(1) section.PageSectionContent-sc-o2pbvx-1.euuGdp section:nth-child(1) div.PriceListPanelWrapper-sc-1htx0wh-0.lkPiWw div.PricePanel-sc-wkzg9v-1.kSsiTe div:nth-child(3) > button.BaseButton--uexw3i.cVdzxy.textbutton\"))\n",
    "        )\n",
    "        element2.click()\n",
    "    except:\n",
    "        element2 = None"
   ],
   "metadata": {
    "collapsed": false,
    "pycharm": {
     "name": "#%% md\n"
    }
   }
  },
  {
   "cell_type": "markdown",
   "source": [
    "\n",
    "import httplib2\n",
    "from bs4 import BeautifulSoup\n",
    "import requests\n",
    "import pandas as pd\n",
    "\n",
    "def get_properties():\n",
    "    prop_names = []\n",
    "    prop_vals = []\n",
    "    driver.remove_all_credentials()\n",
    "    driver.get(\"https://www.prisjakt.nu/produkt.php?p=5688342#properties\")\n",
    "    page_source = driver.page_source\n",
    "    soup=BeautifulSoup(page_source,'html.parser')\n",
    "    specs = soup.find_all(\"section\", {\"class\":\"Section-sc-1jnk5ag-1 kLbzuK\"})\n",
    "    for sect in specs:\n",
    "        sections = sect.find_all(\"div\", {\"class\", \"Row-sc-1jnk5ag-3 jQedgK\"})\n",
    "        for section in sections:\n",
    "            properties = section.find_all(\"div\", {\"class\":\"Column-sc-1jnk5ag-2 bIOAXd\"})\n",
    "            for property in properties:\n",
    "                property_name = property.find(\"span\", {\"class\":\"Text--bzqghn wmwsE bodysmalltext PropertyName-sc-1jnk5ag-5 hEdIXF\"})\n",
    "                property_value = property.find(\"span\", {\"class\":\"Text--bzqghn ddqBq bodysmalltext PropertyValue-sc-1jnk5ag-6 etcKHO\"})\n",
    "                if property_name !=None:\n",
    "                    prop_names.append(property_name.text.replace('\\n',\"\"))\n",
    "                elif property_value !=None:\n",
    "                    prop_vals.append(property_value.text.replace('\\n',\"\"))\n",
    "    properties = {}\n",
    "    for name in prop_names:\n",
    "        for val in prop_vals:\n",
    "            properties[name] = val\n",
    "            prop_vals.remove(val)\n",
    "            break\n",
    "    return properties"
   ],
   "metadata": {
    "collapsed": false,
    "pycharm": {
     "name": "#%% md\n"
    }
   }
  },
  {
   "cell_type": "code",
   "execution_count": 2,
   "outputs": [],
   "source": [
    "link = \"https://www.prisjakt.nu/produkt.php?p=5688342\""
   ],
   "metadata": {
    "collapsed": false,
    "pycharm": {
     "name": "#%%\n"
    }
   }
  },
  {
   "cell_type": "code",
   "execution_count": 11,
   "outputs": [],
   "source": [
    "class Properties(object):\n",
    "    def __init__(self):\n",
    "        self.driver = webdriver.Firefox(executable_path=GeckoDriverManager().install())\n",
    "\n",
    "    def get_properties(self):\n",
    "        url = link+\"#properties\"\n",
    "        self.driver.get(url)\n",
    "        try:\n",
    "            element1 = WebDriverWait(self.driver, 10).until(\n",
    "                EC.presence_of_element_located((By.XPATH, \"//body/div[@id='root']/div[@class='App-sc-2fu3f8-0 ljZBoE']/section[@class='Main-sc-2fu3f8-1 hnCjSa']/div[@class='Content-sc-2fu3f8-2 hybPGh']/div[@class='PageContent-sc-1wgu331-5 dfQdce']/div[@class='Wrapper-sc-1wgu331-1 gPsMfp']/div[@class='Content-sc-1wgu331-0 gMPJqu']/div[@class='ProductPage-sc-mnx6sq-0 iMqgaO']/div/div[@id='#properties']/div[@class='PageSectionWrapper-sc-o2pbvx-0 kQdrfN']/section[@class='PageSectionContent-sc-o2pbvx-1 hbBYkf']/section[@data-test='PropertiesTabContent']/div[@class='StyledList--ji0zot McirA StyledPanel--17i5iqi ffQfPu']/div[@data-test-type='product-info']/div[@class='StyledViewport-sc-7zjdbj-0 iDfoDl']/section[1]/div[1]/div[1]\"))\n",
    "                )\n",
    "            element1.click()\n",
    "        except:\n",
    "            element1 = None\n",
    "        self.driver.find_element(By.XPATH, \"//a[@class='TabLink-sc-4sd16e-3 jJHqPc']\")\n",
    "        page_source =self.driver.page_source\n",
    "        soup = BeautifulSoup(page_source,'html.parser')\n",
    "        specs = soup.find_all(\"section\", {\"class\":\"Section-sc-1jnk5ag-1 kLbzuK\"})\n",
    "        prop_names = []\n",
    "        prop_vals = []\n",
    "        for sect in specs:\n",
    "            sections = sect.find_all(\"div\", {\"class\", \"Row-sc-1jnk5ag-3 jQedgK\"})\n",
    "            for section in sections:\n",
    "                properties = section.find_all(\"div\", {\"class\":\"Column-sc-1jnk5ag-2 bIOAXd\"})\n",
    "                for property in properties:\n",
    "                    property_name = property.find(\"span\", {\"class\":\"Text--bzqghn wmwsE bodysmalltext PropertyName-sc-1jnk5ag-5 hEdIXF\"})\n",
    "                    property_value = property.find(\"span\", {\"class\":\"Text--bzqghn ddqBq bodysmalltext PropertyValue-sc-1jnk5ag-6 etcKHO\"})\n",
    "                    if property_name !=None:\n",
    "                        prop_names.append(property_name.text.replace('\\n',\"\"))\n",
    "                    elif property_value !=None:\n",
    "                        prop_vals.append(property_value.text.replace('\\n',\"\"))\n",
    "        properties = {}\n",
    "        for name in prop_names:\n",
    "            for val in prop_vals:\n",
    "                properties[name] = val\n",
    "                prop_vals.remove(val)\n",
    "                break\n",
    "\n",
    "        return properties\n",
    "\n",
    "    def get_prices(self):\n",
    "        self.driver.get(link)\n",
    "        page_source = self.driver.page_source\n",
    "        soup = BeautifulSoup(page_source,'html.parser')\n",
    "        offers  = soup.find(\"ul\", {\"class\":\"PriceList-sc-wkzg9v-0 fbrkVc\"})\n",
    "        price_list = []\n",
    "        for offer in offers:\n",
    "            offer_prices  = offer.find_all(\"div\", {\"class\":\"PriceWrapper-sc-k40pbc-4 OYetQ\"})\n",
    "            price_list.append(offer_prices)\n",
    "\n",
    "        price_list = [price for sublist in price_list for price in sublist]\n",
    "        for i in range(0, len(price_list)):\n",
    "            price_list[i] = price_list[i].text.replace('\\n',\"\")\n",
    "\n",
    "        for i in range(0, len(price_list)):\n",
    "            price_list[i] = re.sub('[\\xa0]', '',price_list[i])\n",
    "            price_list[i] = re.sub('[kr]', '', price_list[i])\n",
    "            price_list[i]= price_list[i].replace(r'[()]',\"\")\n",
    "\n",
    "        for i in range(0, len(price_list)):\n",
    "            price_list[i] = int(price_list[i])\n",
    "        no_offers = len(price_list)\n",
    "        avg_price =  mean(price_list)\n",
    "\n",
    "        return no_offers, avg_price"
   ],
   "metadata": {
    "collapsed": false,
    "pycharm": {
     "name": "#%%\n"
    }
   }
  },
  {
   "cell_type": "code",
   "execution_count": 14,
   "outputs": [
    {
     "name": "stderr",
     "output_type": "stream",
     "text": [
      "C:\\Users\\user\\AppData\\Local\\Temp\\ipykernel_4068\\4260572666.py:3: DeprecationWarning: executable_path has been deprecated, please pass in a Service object\n",
      "  self.driver = webdriver.Firefox(executable_path=GeckoDriverManager().install())\n"
     ]
    },
    {
     "data": {
      "text/plain": "{'Varumärke': 'LG',\n 'Bildstorlek': '77 tum',\n 'Upplösning': '4K Ultra HD (3840x2160)',\n 'Bildskärmsteknik': 'OLED',\n 'HDR': 'Ja',\n 'Smart TV': 'Ja',\n 'Lanseringsår': '2021',\n 'Pris/tum': '350.52 kr/tum',\n 'Produktnamn': 'LG OLED77C1 77\" 4K Ultra HD (3840x2160) OLED Smart TV',\n 'Kategori': 'TV',\n 'TV-mottagare, digital': 'Ja',\n 'Dubbla mottagare': 'Nej',\n 'Stöd för CI/CA-modul': 'Ja',\n 'CI+': 'Ja',\n 'Typ av digital-mottagare': 'DVB-T (marksänd digital-TV), DVB-C (digital kabel-TV), DVB-S (satellit-TV), DVB-T2 (marksänd digital-TV, 2:a gen.), DVB-S2 (satellit-TV, 2:a gen.)',\n 'Analog 3,5mm-ingång (Aux)': '0 st',\n 'Digital optisk ut (S/PDIF)': 'Ja',\n 'HDMI': 'Ja',\n 'Antal HDMI-ingångar': '4 st',\n 'HDCP-version': '2.2',\n 'HDMI-version': '2.1',\n 'Standarder som stöds': 'eARC',\n 'Hörlursutgång': 'Ja',\n 'Komponent in (YPbPr/YCbCr)': '0 st',\n 'Komposit in': '0 st',\n 'USB-kontakt': 'Ja',\n 'Inspelningsfunktion via USB (PVR)': 'Nej',\n 'USB 2.0': '3 st',\n 'USB 3.1 Gen 1 (5Gbps)': '0 st',\n 'USB-kontakter (totalt)': '3 st',\n 'VGA in': 'Nej',\n 'Övriga anslutningar': 'Digital koaxial ut (S/PDIF)',\n 'Bildfrekvens': '24p, 30p, 60p, 50p, 120p',\n 'Bildförhållande': '16:9',\n 'Bildstorlek (cm)': '195 cm',\n 'Ljusstyrka': '',\n 'Rörelseförbättring (frekvens/index)': 'Ja',\n 'Typ av index/mätmetod': 'LG OLED Motion Pro',\n 'Skärmtyp': 'OLED',\n 'Stödda videoformat': '480p, 576p, 720p, 1080p (Full HD), 1080i, 480i, 576i, 2160p (4K Ultra HD)',\n 'Uppdateringsfrekvens': '120 Hz',\n 'Bildfiler som stöds': 'JPEG/JPG, PNG, BMP',\n 'Ljudfiler som stöds': 'MP3, WMA, WAV (PCM), AAC, AAC+, eAAC+',\n 'Ljudformat': 'Dolby Digital 5.1, Dolby Digital Plus, Dolby Atmos',\n 'Videofiler som stöds': 'Xvid, MPEG1, MPEG2, MPEG4, WMV, 3GP/3GPP, AVC/H.264, WMV9 HD (VC-1), AVI, Matroska (MKV), MOV, TS, FLV',\n 'Tillgängliga färger': 'Svart, Vit, Silver',\n 'Utformning panel': 'Platt',\n 'Djup, utan stativ': '55.3 mm',\n 'Höjd, utan stativ': '993 mm',\n 'Mått (BxHxD)': '',\n 'Bredd': '1723 mm',\n 'Djup': '260 mm',\n 'Höjd': '1023 mm',\n 'Produktvikt': '35.9 kg',\n 'Vikt, utan stativ': '26.7 kg',\n 'Funktioner': 'Bild-i-Bild (PiP), Bluetooth, Röststyrning, Time-shift, Stöd för NFC, Mobilapp för styrning av funktioner, Stöd för HbbTV, Adaptiv synk-teknik, Stöd för HomeKit, ALLM, Variable Refresh Rate (VRR)',\n 'Internettjänster/appar som stöds': 'YouTube, Spotify, Webbläsare, Netflix, Viaplay, HBO GO, SVT Play, TV4 Play, SF Anytime, HBO Nordic, Amazon Prime Video, Apple TV+',\n 'Operativsystem': 'WebOS',\n 'Ethernet-anslutning': 'Ja',\n 'Trådlöst nätverk (Wi-Fi)': 'Ja',\n 'Trådlös nätverkstandard (IEEE 802.11)': '802.11a, 802.11b, 802.11g, 802.11n (Wi-Fi 4), 802.11ac (Wi-Fi 5)',\n '3D-stöd (3D-ready)': 'Nej',\n 'DLNA': 'Ja',\n 'Full HD (HD ready 1080p)': 'Ja',\n '4K120': 'Ja',\n 'Ultra HD-certifierad (UHD/4K)': 'Ja',\n 'Typ av HDR': 'Dolby Vision, HDR10, HLG',\n 'Streaming-standarder': 'AirPlay, WiDi (Wireless Display), Miracast, AirPlay 2',\n 'VESA-fäste': 'Ja',\n 'Typ av VESA-fäste': '400x400mm, 400x200mm',\n 'Inbyggda högtalare': 'Flerkanal',\n 'Processorhastighet': '',\n 'Anslutning för 9V/12V/14V': 'Nej',\n 'Effektförbrukning drift (min-max)': '162 - 273 W',\n 'Effektförbrukning standby/viloläge': '0.5 W',\n 'Energiförbrukning i HDR-läge (per 1000h)': '273 kWh',\n 'Energiförbrukning i SDR-läge (per 1000h)': '162 kWh',\n 'Energiklass (A-G)': 'G',\n 'Energiklass (HDR)': 'G'}"
     },
     "execution_count": 14,
     "metadata": {},
     "output_type": "execute_result"
    }
   ],
   "source": [
    "props = Properties()\n",
    "props.get_properties()"
   ],
   "metadata": {
    "collapsed": false,
    "pycharm": {
     "name": "#%%\n"
    }
   }
  },
  {
   "cell_type": "code",
   "execution_count": 13,
   "outputs": [
    {
     "data": {
      "text/plain": "(8, 28790.75)"
     },
     "execution_count": 13,
     "metadata": {},
     "output_type": "execute_result"
    }
   ],
   "source": [
    "props.get_prices()"
   ],
   "metadata": {
    "collapsed": false,
    "pycharm": {
     "name": "#%%\n"
    }
   }
  },
  {
   "cell_type": "code",
   "execution_count": 16,
   "outputs": [
    {
     "data": {
      "text/plain": "{'Varumärke': 'LG',\n 'Bildstorlek': '65 tum',\n 'Upplösning': '4K Ultra HD (3840x2160)',\n 'Bildskärmsteknik': 'OLED',\n 'HDR': 'Ja',\n 'Smart TV': 'Ja',\n 'Lanseringsår': '2021',\n 'Pris/tum': '199.83 kr/tum',\n 'Produktnamn': 'LG OLED65C1 65\" 4K Ultra HD (3840x2160) OLED Smart TV',\n 'Kategori': 'TV',\n 'TV-mottagare, digital': 'Ja',\n 'Dubbla mottagare': 'Nej',\n 'Stöd för CI/CA-modul': 'Ja',\n 'CI+': 'Ja',\n 'Typ av digital-mottagare': 'DVB-T (marksänd digital-TV), DVB-C (digital kabel-TV), DVB-S (satellit-TV), DVB-T2 (marksänd digital-TV, 2:a gen.), DVB-S2 (satellit-TV, 2:a gen.)',\n 'Analog 3,5mm-ingång (Aux)': '0 st',\n 'Digital optisk ut (S/PDIF)': 'Ja',\n 'HDMI': 'Ja',\n 'Antal HDMI-ingångar': '4 st',\n 'HDCP-version': '2.2',\n 'HDMI-version': '2.1',\n 'Standarder som stöds': 'eARC',\n 'Hörlursutgång': 'Ja',\n 'Komponent in (YPbPr/YCbCr)': '0 st',\n 'Komposit in': '0 st',\n 'USB-kontakt': 'Ja',\n 'Inspelningsfunktion via USB (PVR)': 'Ja',\n 'USB 2.0': '3 st',\n 'USB 3.1 Gen 1 (5Gbps)': '0 st',\n 'USB-kontakter (totalt)': '3 st',\n 'VGA in': 'Nej',\n 'Övriga anslutningar': '',\n 'Bildfrekvens': '24p, 30p, 60p, 50p, 120p',\n 'Bildförhållande': '16:9',\n 'Bildstorlek (cm)': '165 cm',\n 'Ljusstyrka': '',\n 'Rörelseförbättring (frekvens/index)': 'Ja',\n 'Typ av index/mätmetod': 'LG OLED Motion Pro',\n 'Skärmtyp': 'OLED',\n 'Stödda videoformat': '480p, 576p, 720p, 1080p (Full HD), 1080i, 480i, 576i, 2160p (4K Ultra HD)',\n 'Uppdateringsfrekvens': '120 Hz',\n 'Bildfiler som stöds': 'JPEG/JPG, PNG, BMP',\n 'Ljudfiler som stöds': 'MP3, WMA, WAV (PCM), AAC',\n 'Ljudformat': 'Dolby Digital 5.1, Dolby Digital Plus, Dolby Atmos',\n 'Videofiler som stöds': 'MPEG1, MPEG2, MPEG4, WMV, AVC/H.264, WMV9 HD (VC-1), AVI, Matroska (MKV), MOV, TS, HEVC/H.265, VP9',\n 'Tillgängliga färger': 'Svart, Vit, Silver, Grå',\n 'Utformning panel': 'Platt',\n 'Djup, utan stativ': '46 mm',\n 'Höjd, utan stativ': '831 mm',\n 'Mått (BxHxD)': '',\n 'Bredd': '1448 mm',\n 'Djup': '251 mm',\n 'Höjd': '861 mm',\n 'Produktvikt': '32.61 kg',\n 'Vikt, utan stativ': '24 kg',\n 'Funktioner': 'Bild-i-Bild (PiP), Bluetooth, Röststyrning, Time-shift, Stöd för NFC, Mobilapp för styrning av funktioner, Stöd för HbbTV, Adaptiv synk-teknik, Stöd för HomeKit, ALLM, Variable Refresh Rate (VRR)',\n 'Internettjänster/appar som stöds': 'YouTube, Spotify, Webbläsare, Netflix, Viaplay, SVT Play, SF Anytime, HBO Nordic, Amazon Prime Video, Apple TV+',\n 'Operativsystem': 'WebOS',\n 'Ethernet-anslutning': 'Ja',\n 'Trådlöst nätverk (Wi-Fi)': 'Ja',\n 'Trådlös nätverkstandard (IEEE 802.11)': '802.11a, 802.11b, 802.11g, 802.11n (Wi-Fi 4), 802.11ac (Wi-Fi 5)',\n '3D-stöd (3D-ready)': 'Nej',\n 'DLNA': 'Ja',\n 'Full HD (HD ready 1080p)': 'Ja',\n '4K120': 'Ja',\n 'Ultra HD-certifierad (UHD/4K)': 'Ja',\n 'Typ av HDR': 'Dolby Vision, HDR10, HLG',\n 'Streaming-standarder': 'Miracast, AirPlay 2',\n 'VESA-fäste': 'Ja',\n 'Typ av VESA-fäste': '300x200mm',\n 'Inbyggda högtalare': 'Flerkanal',\n 'Processorhastighet': '',\n 'Anslutning för 9V/12V/14V': 'Nej',\n 'Effektförbrukning drift (min-max)': '126 - 222 W',\n 'Effektförbrukning standby/viloläge': '0.5 W',\n 'Energiförbrukning i HDR-läge (per 1000h)': '222 kWh',\n 'Energiförbrukning i SDR-läge (per 1000h)': '126 kWh',\n 'Energiklass (A-G)': 'G',\n 'Energiklass (HDR)': 'G'}"
     },
     "execution_count": 16,
     "metadata": {},
     "output_type": "execute_result"
    }
   ],
   "source": [
    "\n",
    "for l in links:\n",
    "    driver.get(l+\"#properties\")\n",
    "    driver.find_element(By.XPATH, \"//a[@class='TabLink-sc-4sd16e-3 jJHqPc']\")\n",
    "    page_source =driver.page_source\n",
    "    soup = BeautifulSoup(page_source,'html.parser')\n",
    "    specs = soup.find_all(\"section\", {\"class\":\"Section-sc-1jnk5ag-1 kLbzuK\"})\n",
    "    prop_names = []\n",
    "    prop_vals = []\n",
    "    for sect in specs:\n",
    "        sections = sect.find_all(\"div\", {\"class\", \"Row-sc-1jnk5ag-3 jQedgK\"})\n",
    "        for section in sections:\n",
    "            properties = section.find_all(\"div\", {\"class\":\"Column-sc-1jnk5ag-2 bIOAXd\"})\n",
    "            for property in properties:\n",
    "                property_name = property.find(\"span\", {\"class\":\"Text--bzqghn wmwsE bodysmalltext PropertyName-sc-1jnk5ag-5 hEdIXF\"})\n",
    "                property_value = property.find(\"span\", {\"class\":\"Text--bzqghn ddqBq bodysmalltext PropertyValue-sc-1jnk5ag-6 etcKHO\"})\n",
    "                if property_name !=None:\n",
    "                    prop_names.append(property_name.text.replace('\\n',\"\"))\n",
    "                elif property_value !=None:\n",
    "                    prop_vals.append(property_value.text.replace('\\n',\"\"))\n",
    "    properties = {}\n",
    "    for name in prop_names:\n",
    "        for val in prop_vals:\n",
    "            properties[name] = val\n",
    "            prop_vals.remove(val)\n",
    "            break\n",
    "    properties\n"
   ],
   "metadata": {
    "collapsed": false,
    "pycharm": {
     "name": "#%%\n"
    }
   }
  },
  {
   "cell_type": "code",
   "execution_count": 14,
   "outputs": [
    {
     "name": "stderr",
     "output_type": "stream",
     "text": [
      "[WDM] - Downloading: 16.2kB [00:00, 2.43MB/s]                   \n",
      "C:\\Users\\user\\AppData\\Local\\Temp\\ipykernel_16976\\875637647.py:3: DeprecationWarning: executable_path has been deprecated, please pass in a Service object\n",
      "  self.driver = webdriver.Firefox(executable_path=GeckoDriverManager().install())\n"
     ]
    },
    {
     "data": {
      "text/plain": "(8, 28790.75)"
     },
     "execution_count": 14,
     "metadata": {},
     "output_type": "execute_result"
    }
   ],
   "source": [
    "Prices = Prices()\n",
    "Prices.get_prices()"
   ],
   "metadata": {
    "collapsed": false,
    "pycharm": {
     "name": "#%%\n"
    }
   }
  },
  {
   "cell_type": "code",
   "execution_count": 20,
   "outputs": [],
   "source": [
    "\n",
    "def get_prices():\n",
    "    driver.get(\"https://www.prisjakt.nu/produkt.php?p=5688342\")\n",
    "    page_source = driver.page_source\n",
    "    soup = BeautifulSoup(page_source,'html.parser')\n",
    "    offers  = soup.find(\"ul\", {\"class\":\"PriceList-sc-wkzg9v-0 fbrkVc\"})\n",
    "    price_list = []\n",
    "    for offer in offers:\n",
    "        offer_prices  = offer.find_all(\"div\", {\"class\":\"PriceWrapper-sc-k40pbc-4 OYetQ\"})\n",
    "        price_list.append(offer_prices)\n",
    "\n",
    "    price_list = [price for sublist in price_list for price in sublist]\n",
    "    for i in range(0, len(price_list)):\n",
    "        price_list[i] = price_list[i].text.replace('\\n',\"\")\n",
    "\n",
    "    for i in range(0, len(price_list)):\n",
    "        price_list[i] = re.sub('[\\xa0]', '',price_list[i])\n",
    "        price_list[i] = re.sub('[kr]', '', price_list[i])\n",
    "        price_list[i]= price_list[i].replace(r'[()]',\"\")\n",
    "\n",
    "    for i in range(0, len(price_list)):\n",
    "        price_list[i] = int(price_list[i])\n",
    "    no_offers = len(price_list)\n",
    "    avg_price =  mean(price_list)\n",
    "\n",
    "    return no_offers, avg_price"
   ],
   "metadata": {
    "collapsed": false,
    "pycharm": {
     "name": "#%%\n"
    }
   }
  },
  {
   "cell_type": "code",
   "execution_count": 22,
   "outputs": [
    {
     "data": {
      "text/plain": "8"
     },
     "execution_count": 22,
     "metadata": {},
     "output_type": "execute_result"
    }
   ],
   "source": [
    "get_prices()[0]"
   ],
   "metadata": {
    "collapsed": false,
    "pycharm": {
     "name": "#%%\n"
    }
   }
  }
 ],
 "metadata": {
  "kernelspec": {
   "display_name": "Python 3",
   "language": "python",
   "name": "python3"
  },
  "language_info": {
   "codemirror_mode": {
    "name": "ipython",
    "version": 2
   },
   "file_extension": ".py",
   "mimetype": "text/x-python",
   "name": "python",
   "nbconvert_exporter": "python",
   "pygments_lexer": "ipython2",
   "version": "2.7.6"
  }
 },
 "nbformat": 4,
 "nbformat_minor": 0
}