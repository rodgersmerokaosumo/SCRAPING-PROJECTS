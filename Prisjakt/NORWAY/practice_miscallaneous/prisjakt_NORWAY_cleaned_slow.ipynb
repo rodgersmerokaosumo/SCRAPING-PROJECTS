{
 "cells": [
  {
   "cell_type": "code",
   "execution_count": 1,
   "metadata": {
    "pycharm": {
     "name": "#%%\n"
    }
   },
   "outputs": [],
   "source": [
    "import httplib2\n",
    "from bs4 import BeautifulSoup\n",
    "import requests\n",
    "import pandas as pd\n",
    "import re\n",
    "from parsel import Selector\n",
    "from statistics import mean\n",
    "import time\n",
    "import requests\n",
    "from datetime import datetime\n",
    "headers = {\"User-Agent\":\"Mozilla/5.0 (Windows NT 10.0; Win64; x64) AppleWebKit/537.36 (KHTML, like Gecko) Chrome/103.0.0.0 Safari/537.36\"}\n",
    "http = httplib2.Http()\n",
    "import mysql.connector\n",
    "%load_ext sql\n",
    "%config SqlMagic.autocommit=False # for engines that do not support autommit"
   ]
  },
  {
   "cell_type": "code",
   "execution_count": 2,
   "metadata": {},
   "outputs": [],
   "source": [
    "import pandas as pd\n",
    "from sqlalchemy import create_engine\n",
    "\n",
    "# Credentials to database connection\n",
    "hostname=\"localhost\"\n",
    "dbname=\"prisjakt_tv_norway\"\n",
    "uname=\"root\"\n",
    "pwd=\"4156\"\n",
    "\n",
    "\n",
    "# Create SQLAlchemy engine to connect to MySQL Database\n",
    "engine = create_engine(\"mysql+pymysql://{user}:{pw}@{host}/{db}\"\n",
    "\t\t\t\t.format(host=hostname, db=dbname, user=uname, pw=pwd))"
   ]
  },
  {
   "cell_type": "code",
   "execution_count": 3,
   "metadata": {
    "pycharm": {
     "name": "#%%\n"
    }
   },
   "outputs": [
    {
     "name": "stdout",
     "output_type": "stream",
     "text": [
      "Pages Found: 33\n"
     ]
    }
   ],
   "source": [
    "base_url = \"https://www.prisjakt.no\"\n",
    "url = \"https://www.prisjakt.no/c/tv\"\n",
    "page_links = []\n",
    "links = []\n",
    "page_links.append(url)\n",
    "for page in page_links:\n",
    "    url = page\n",
    "    i = requests.get(url).text\n",
    "    soup=BeautifulSoup(i,'html.parser')\n",
    "    pages = soup.find_all(\"li\",{\"class\":\"PaginationListItem-sc-11oisbu-1 bKXcXk\"})\n",
    "    for page in pages:\n",
    "        link = page.find(\"a\", {\"data-test\":\"PaginationLink\"})\n",
    "        links.append(link)\n",
    "        if link == None:\n",
    "            links.remove(link)\n",
    "    for l in links:\n",
    "        pg = l.get('href')\n",
    "        full_url = base_url+pg\n",
    "        while full_url not in page_links:\n",
    "            page_links.append(full_url)\n",
    "\n",
    "\n",
    "print(f'Pages Found: {len(page_links)}')"
   ]
  },
  {
   "cell_type": "code",
   "execution_count": 4,
   "metadata": {
    "pycharm": {
     "name": "#%%\n"
    }
   },
   "outputs": [],
   "source": [
    "productlists = []\n",
    "for link in page_links:\n",
    "        k = requests.get(link).text\n",
    "        soup=BeautifulSoup(k,'html.parser')\n",
    "        productlist = soup.find_all(\"article\",{\"data-test\":\"ProductGridCard\"})\n",
    "        productlists.append(productlist)"
   ]
  },
  {
   "cell_type": "code",
   "execution_count": 5,
   "metadata": {
    "pycharm": {
     "name": "#%%\n"
    }
   },
   "outputs": [],
   "source": [
    "items = [item for sublist in productlists for item in sublist]"
   ]
  },
  {
   "cell_type": "code",
   "execution_count": 6,
   "metadata": {
    "pycharm": {
     "name": "#%%\n"
    }
   },
   "outputs": [
    {
     "name": "stdout",
     "output_type": "stream",
     "text": [
      "Number of Products Found: 1447\n"
     ]
    }
   ],
   "source": [
    "productlinks = []\n",
    "for item in items:\n",
    "        link = item.find(\"a\",{\"data-test\":\"InternalLink\"}).get('href')                 \n",
    "        productlinks.append(base_url+link)\n",
    "\n",
    "print(f'Number of Products Found: {len(productlinks)}')"
   ]
  },
  {
   "cell_type": "code",
   "execution_count": 7,
   "metadata": {},
   "outputs": [
    {
     "data": {
      "text/plain": [
       "1447"
      ]
     },
     "execution_count": 7,
     "metadata": {},
     "output_type": "execute_result"
    }
   ],
   "source": [
    "df_prod_links = pd.DataFrame(productlinks, columns = ['Product Links'])\n",
    "# Convert dataframe to sql table                                   \n",
    "df_prod_links.to_sql('productlinks', engine, if_exists='replace', index=False)"
   ]
  },
  {
   "cell_type": "code",
   "execution_count": 8,
   "metadata": {
    "pycharm": {
     "name": "#%%\n"
    }
   },
   "outputs": [],
   "source": [
    "from selenium import webdriver\n",
    "from selenium.webdriver.common.keys import Keys\n",
    "import pandas as pd\n",
    "from webdriver_manager.chrome import ChromeDriverManager\n",
    "from selenium.webdriver.common.by import By\n",
    "from parsel import Selector\n",
    "from selenium.webdriver.chrome.options import Options\n",
    "from selenium.webdriver.support.ui import WebDriverWait\n",
    "from selenium.webdriver.support import expected_conditions as EC\n",
    "\n",
    "\n",
    "# configure webdriver\n",
    "options = Options()\n",
    "options.headless = True  # hide GUI\n",
    "options.add_argument(\"--window-size=1920,1080\")  # set window size to native GUI size\n",
    "options.add_argument(\"start-maximized\")  # ensure window is full-screen\n",
    "# configure chrome browser to not load images and javascript\n",
    "chrome_options = webdriver.ChromeOptions()\n",
    "chrome_options.add_experimental_option(\n",
    "    \"prefs\", {\"profile.managed_default_content_settings.images\": 2}\n",
    ")"
   ]
  },
  {
   "cell_type": "code",
   "execution_count": 9,
   "metadata": {
    "collapsed": false,
    "pycharm": {
     "name": "#%%\n"
    }
   },
   "outputs": [
    {
     "name": "stderr",
     "output_type": "stream",
     "text": [
      "C:\\Users\\user\\AppData\\Local\\Temp\\ipykernel_26452\\1503906442.py:1: DeprecationWarning: executable_path has been deprecated, please pass in a Service object\n",
      "  driver = webdriver.Chrome(ChromeDriverManager().install())\n"
     ]
    }
   ],
   "source": [
    "driver = webdriver.Chrome(ChromeDriverManager().install())"
   ]
  },
  {
   "cell_type": "code",
   "execution_count": null,
   "metadata": {
    "collapsed": false,
    "pycharm": {
     "name": "#%%\n"
    }
   },
   "outputs": [],
   "source": [
    "class Prices:\n",
    "    def __init__(self, link):\n",
    "        self.driver = webdriver.Chrome(ChromeDriverManager().install())\n",
    "        self.link = link\n",
    "    def get_prices(self):\n",
    "            self.driver.get(self.link)\n",
    "            try:\n",
    "                #  click on cookie banner\n",
    "                banner_click = driver.find_element(By.CSS_SELECTOR, \"div.BannerCookieBanner div.BannerContentCookieBanner div.ButtonsWrapperCookieBanner.AcceptButtonWrapperCookieBanner button.AcceptButtonCookieBanner.ButtonCookieBanner span.TextWrapperCookieBanner > span:nth-child(1)\")\n",
    "                banner_click.click()\n",
    "            except:\n",
    "                banner_click = None\n",
    "            try:\n",
    "                #click to reveal more items\n",
    "                reveal_click = driver.find_element(By.CSS_SELECTOR, \"div.App-sc-2fu3f8-0.ljZBoE section.Main-sc-2fu3f8-1.hnCjSa:nth-child(5) div.Content-sc-2fu3f8-2.hybPGh div.PageContent-sc-1wgu331-5.dfQdce div.Wrapper-sc-1wgu331-1.gPsMfp div.Content-sc-1wgu331-0.gMPJqu div.ProductPage-sc-mnx6sq-0.iMqgaO div.SectionWrapper-sc-ia0zhw-0.bqrwQK:nth-child(1) div.PageSectionWrapper-sc-o2pbvx-0.gHOcYt.StyledPageSection-sc-1w3nqup-0.UUqee:nth-child(1) section.PageSectionContent-sc-o2pbvx-1.euuGdp section:nth-child(1) div.PriceListPanelWrapper-sc-1htx0wh-0.lkPiWw div.PricePanel-sc-wkzg9v-1.kSsiTe div:nth-child(3) > button.BaseButton--uexw3i.cVdzxy.textbutton\")\n",
    "                reveal_click.click()\n",
    "            except:\n",
    "                reveal_click = None\n",
    "            page_source = self.driver.page_source\n",
    "            soup = BeautifulSoup(page_source,'html.parser')\n",
    "            offers  = soup.find(\"ul\", {\"class\":\"PriceList-sc-wkzg9v-0 fbrkVc\"})\n",
    "            price_list = []\n",
    "            for offer in offers:\n",
    "                offer_prices  = offer.find_all(\"div\", {\"class\":\"PriceWrapper-sc-k40pbc-4 OYetQ\"})\n",
    "                price_list.append(offer_prices)\n",
    "\n",
    "            price_list = [price for sublist in price_list for price in sublist]\n",
    "            for i in range(0, len(price_list)):\n",
    "                price_list[i] = price_list[i].text.replace('\\n',\"\")\n",
    "\n",
    "            for i in range(0, len(price_list)):\n",
    "                price_list[i] = re.sub('[\\xa0]', '',price_list[i])\n",
    "                #price_list[i] = re.sub('[kr]', '', price_list[i])\n",
    "                price_list[i] = re.sub(\"[^0-9]\", \"\", price_list[i])\n",
    "                #price_list[i]= price_list[i].replace(r'[()]',\"\")\n",
    "\n",
    "            for i in range(0, len(price_list)):\n",
    "                price_list[i] = int(price_list[i])\n",
    "            no_offers = len(price_list)\n",
    "            avg_price =  \"{:.2f}\".format(mean(price_list))\n",
    "\n",
    "            return no_offers, avg_price"
   ]
  },
  {
   "cell_type": "code",
   "execution_count": null,
   "metadata": {},
   "outputs": [],
   "source": [
    "price_details = Prices(link)\n",
    "price_details.get_prices()[1]"
   ]
  },
  {
   "cell_type": "code",
   "execution_count": null,
   "metadata": {
    "collapsed": false,
    "pycharm": {
     "name": "#%%\n"
    }
   },
   "outputs": [],
   "source": [
    "data = []\n"
   ]
  },
  {
   "cell_type": "code",
   "execution_count": null,
   "metadata": {
    "pycharm": {
     "name": "#%%\n"
    }
   },
   "outputs": [],
   "source": [
    "\n",
    "for link in productlinks[:10]:\n",
    "    from datetime import datetime\n",
    "    f = requests.get(link,headers=headers).text\n",
    "    hun=BeautifulSoup(f,'html.parser')\n",
    "    price_details = Prices(link)\n",
    "    try:\n",
    "        #  click on cookie banner\n",
    "        banner_click = driver.find_element(By.CSS_SELECTOR, \"div.BannerCookieBanner div.BannerContentCookieBanner div.ButtonsWrapperCookieBanner.AcceptButtonWrapperCookieBanner button.AcceptButtonCookieBanner.ButtonCookieBanner span.TextWrapperCookieBanner > span:nth-child(1)\")\n",
    "        banner_click.click()\n",
    "    except:\n",
    "        banner_click = None\n",
    "    try:\n",
    "        #click to reveal more items\n",
    "        reveal_click = driver.find_element(By.CSS_SELECTOR, \"div.App-sc-2fu3f8-0.ljZBoE section.Main-sc-2fu3f8-1.hnCjSa:nth-child(5) div.Content-sc-2fu3f8-2.hybPGh div.PageContent-sc-1wgu331-5.dfQdce div.Wrapper-sc-1wgu331-1.gPsMfp div.Content-sc-1wgu331-0.gMPJqu div.ProductPage-sc-mnx6sq-0.iMqgaO div.SectionWrapper-sc-ia0zhw-0.bqrwQK:nth-child(1) div.PageSectionWrapper-sc-o2pbvx-0.gHOcYt.StyledPageSection-sc-1w3nqup-0.UUqee:nth-child(1) section.PageSectionContent-sc-o2pbvx-1.euuGdp section:nth-child(1) div.PriceListPanelWrapper-sc-1htx0wh-0.lkPiWw div.PricePanel-sc-wkzg9v-1.kSsiTe div:nth-child(3) > button.BaseButton--uexw3i.cVdzxy.textbutton\")\n",
    "        reveal_click.click()\n",
    "    except:\n",
    "        reveal_click = None\n",
    "\n",
    "    page_source = driver.page_source\n",
    "    soup = BeautifulSoup(page_source,'html.parser')\n",
    "    offers  = soup.find(\"ul\", {\"class\":\"PriceList-sc-wkzg9v-0 fbrkVc\"})\n",
    "    price_list = []\n",
    "    for offer in offers:\n",
    "        offer_prices  = offer.find_all(\"div\", {\"class\":\"PriceWrapper-sc-k40pbc-4 OYetQ\"})\n",
    "        price_list.append(offer_prices)\n",
    "\n",
    "    price_list = [price for sublist in price_list for price in sublist]\n",
    "    for i in range(0, len(price_list)):\n",
    "        price_list[i] = price_list[i].text.replace('\\n',\"\")\n",
    "\n",
    "    for i in range(0, len(price_list)):\n",
    "        price_list[i] = re.sub('[\\xa0]', '',price_list[i])\n",
    "            #price_list[i] = re.sub('[kr]', '', price_list[i])\n",
    "        price_list[i] = re.sub(\"[^0-9]\", \"\", price_list[i])\n",
    "            #price_list[i]= price_list[i].replace(r'[()]',\"\")\n",
    "\n",
    "    for i in range(0, len(price_list)):\n",
    "        price_list[i] = int(price_list[i])\n",
    "    no_offers = len(price_list)\n",
    "    avg_price =  \"{:.2f}\".format(mean(price_list))\n",
    "\n",
    "\n",
    "    try:\n",
    "        category = \"TV\"\n",
    "    except:\n",
    "        category = None\n",
    "    try:\n",
    "        name = hun.find(\"div\",{\"data-test\":\"ProductTitle\"}).text.replace('\\n',\"\")\n",
    "    except:\n",
    "        name = None\n",
    "    try:\n",
    "        avg_price = price_details.get_prices()[1]\n",
    "    except:\n",
    "        avg_price = None\n",
    "    try:\n",
    "        offs = price_details.get_prices()[0]\n",
    "    except:\n",
    "        offs = None\n",
    "    try:\n",
    "        country = \"NO\"\n",
    "    except:\n",
    "        country = None\n",
    "    try:\n",
    "        currency = \"NOK\"\n",
    "    except:\n",
    "        currency = None\n",
    "    try:\n",
    "        rank = hun.find(\"span\",{\"class\":\"Text--bzqghn kBBoFI titlesmalltext StyledCaptionText--7mhtyj fxXtPM\"}).text.replace('\\n',\"\")\n",
    "    except:\n",
    "        rank = None\n",
    "    try:\n",
    "        rating = hun.find(\"span\",{\"class\":\"RateNumber-sc-14ktvqu-5 ifhFUL\"}).text.replace('\\n',\"\")\n",
    "    except:\n",
    "        rating = None\n",
    "    try:\n",
    "        reviews = hun.find(\"span\",{\"class\":\"Counter-sc-14ktvqu-0 bORxLl\"}).text.replace('\\n',\"\")\n",
    "    except:\n",
    "        reviews = None\n",
    "    try:\n",
    "        description = hun.find(\"p\",{\"class\":\"ProductInfo-sc-46oo5c-0 bRxlhS\"}).text.replace('\\n',\"\")\n",
    "    except:\n",
    "        description = None\n",
    "    #try:\n",
    "        #specifications = get_specs(prod_specifications)\n",
    "    #except:\n",
    "        #specifications = None\n",
    "\n",
    "    try:\n",
    "        scrape_link = link\n",
    "        \n",
    "    except:\n",
    "        scrape_link = None\n",
    "    \n",
    "    try:\n",
    "        now = datetime.now()\n",
    "        date_scraped = now.strftime(\"%d/%m/%Y %H:%M:%S\")\n",
    "    except:\n",
    "        date_scraped = None\n",
    "\n",
    "\n",
    "    tv = {\"Country Code\":country, \"Category\":category, \"Name\":name, \"Avg Price\": avg_price, \"Currency\":currency, \"Nb of Offers\":offs, \"Rank\":rank, \"Rating\":rating, \"Reviews\":reviews, \"Description\":description, \\\n",
    "        \"scrape_link\":scrape_link, \"date_scraped\":date_scraped}\n",
    "    \n",
    "    data.append(tv)"
   ]
  },
  {
   "cell_type": "code",
   "execution_count": null,
   "metadata": {
    "collapsed": false,
    "pycharm": {
     "name": "#%%\n"
    }
   },
   "outputs": [],
   "source": [
    "df_prop = pd.DataFrame.from_dict(property_list)\n",
    "df_prop.head()"
   ]
  },
  {
   "cell_type": "code",
   "execution_count": null,
   "metadata": {
    "pycharm": {
     "name": "#%%\n"
    }
   },
   "outputs": [],
   "source": [
    "df = pd.DataFrame.from_dict(data)\n",
    "df.tail()"
   ]
  },
  {
   "cell_type": "code",
   "execution_count": null,
   "metadata": {
    "pycharm": {
     "name": "#%%\n"
    }
   },
   "outputs": [],
   "source": [
    "df.columns"
   ]
  },
  {
   "cell_type": "code",
   "execution_count": null,
   "metadata": {
    "pycharm": {
     "name": "#%%\n"
    }
   },
   "outputs": [],
   "source": [
    "df = pd.concat([df, df_prop.reindex(df.index)], axis=1)\n",
    "#gen_spec_df = df[\"Generalspecifications\"].apply(pd.Series)\n",
    "#df = pd.concat([df, gen_spec_df.reindex(df.index)], axis=1)\n",
    "df_c = df.copy()\n",
    "# Remove specifications column\n",
    "#df.drop(['specifications'], axis=1, inplace=True)\n",
    "df.shape"
   ]
  },
  {
   "cell_type": "code",
   "execution_count": null,
   "metadata": {
    "pycharm": {
     "name": "#%%\n"
    }
   },
   "outputs": [],
   "source": [
    "#df2 = df.reset_index().rename(columns={'index':'id'})\n",
    "df_long = df.set_index(['Country Code', 'Produsenter','Kategori', 'Name', 'Nb of Offers', 'Lanseringsår', 'Avg Price', 'Currency', 'scrape_link', 'date_scraped']).stack().reset_index()"
   ]
  },
  {
   "cell_type": "code",
   "execution_count": null,
   "metadata": {
    "pycharm": {
     "name": "#%%\n"
    }
   },
   "outputs": [],
   "source": [
    "# Convert dataframe to sql table                                   \n",
    "df_long.to_sql('data_table',  engine, if_exists='replace', index=False)"
   ]
  },
  {
   "cell_type": "code",
   "execution_count": null,
   "metadata": {
    "pycharm": {
     "name": "#%%\n"
    }
   },
   "outputs": [],
   "source": [
    "df.to_csv(\"data.csv\")"
   ]
  },
  {
   "cell_type": "markdown",
   "metadata": {
    "pycharm": {
     "name": "#%% md\n"
    }
   },
   "source": [
    "    prod_specifications = hun.find_all(\"div\",{\"class\":\"Column-sc-1jnk5ag-2 bIOAXd\"})\n",
    "    def get_specs(prod_specifications):\n",
    "        nam = []\n",
    "        val = []\n",
    "        for spec in prod_specifications:\n",
    "            for prop in spec.find_all(\"span\", {\"class\":\"Text--bzqghn wmwsE bodysmalltext PropertyName-sc-1jnk5ag-5 hEdIXF\"}):\n",
    "                prop_n  = prop.get_text()\n",
    "                nam.append(prop_n)\n",
    "            for prop in spec.find_all(\"span\", {\"class\":\"Text--bzqghn ddqBq bodysmalltext PropertyValue-sc-1jnk5ag-6 etcKHO\"}):\n",
    "                prop_v  = prop.get_text()\n",
    "                val.append(prop_v)\n",
    "        specs = {nam[i]: val[i] for i in range(len(nam))}\n",
    "        return(specs)"
   ]
  },
  {
   "cell_type": "code",
   "execution_count": null,
   "metadata": {
    "pycharm": {
     "name": "#%%\n"
    }
   },
   "outputs": [],
   "source": [
    "df_long.to_csv('df_long.csv')"
   ]
  }
 ],
 "metadata": {
  "kernelspec": {
   "display_name": "Python 3 (ipykernel)",
   "language": "python",
   "name": "python3"
  },
  "language_info": {
   "codemirror_mode": {
    "name": "ipython",
    "version": 3
   },
   "file_extension": ".py",
   "mimetype": "text/x-python",
   "name": "python",
   "nbconvert_exporter": "python",
   "pygments_lexer": "ipython3",
   "version": "3.9.6"
  },
  "vscode": {
   "interpreter": {
    "hash": "82ed002fa2d4956f5c6aec99bcefe0f73a9f79882f3c9e2319b14958a5896ac5"
   }
  }
 },
 "nbformat": 4,
 "nbformat_minor": 4
}
