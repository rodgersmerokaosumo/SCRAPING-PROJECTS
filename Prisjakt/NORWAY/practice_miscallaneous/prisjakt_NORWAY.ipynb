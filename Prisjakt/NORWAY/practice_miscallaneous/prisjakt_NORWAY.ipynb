{
 "cells": [
  {
   "cell_type": "code",
   "execution_count": 1,
   "metadata": {
    "pycharm": {
     "name": "#%%\n"
    }
   },
   "outputs": [],
   "source": [
    "import httplib2\n",
    "from bs4 import BeautifulSoup\n",
    "import requests\n",
    "import pandas as pd\n",
    "import re\n",
    "from parsel import Selector\n",
    "from statistics import mean\n",
    "import time\n",
    "import requests\n",
    "from datetime import datetime\n",
    "headers = {\"User-Agent\":\"Mozilla/5.0 (Windows NT 10.0; Win64; x64) AppleWebKit/537.36 (KHTML, like Gecko) Chrome/103.0.0.0 Safari/537.36\"}\n",
    "http = httplib2.Http()\n",
    "import mysql.connector"
   ]
  },
  {
   "cell_type": "code",
   "execution_count": 2,
   "metadata": {},
   "outputs": [],
   "source": [
    "import pandas as pd\n",
    "from sqlalchemy import create_engine\n",
    "\n",
    "# Credentials to database connection\n",
    "hostname=\"localhost\"\n",
    "dbname=\"prisjakt_tv_norway\"\n",
    "uname=\"root\"\n",
    "pwd=\"4156\"\n",
    "\n",
    "\n",
    "# Create SQLAlchemy engine to connect to MySQL Database\n",
    "engine = create_engine(\"mysql+pymysql://{user}:{pw}@{host}/{db}\"\n",
    "\t\t\t\t.format(host=hostname, db=dbname, user=uname, pw=pwd))"
   ]
  },
  {
   "cell_type": "code",
   "execution_count": 3,
   "metadata": {
    "pycharm": {
     "name": "#%%\n"
    }
   },
   "outputs": [
    {
     "name": "stdout",
     "output_type": "stream",
     "text": [
      "Pages Found: 33\n"
     ]
    }
   ],
   "source": [
    "base_url = \"https://www.prisjakt.no\"\n",
    "url = \"https://www.prisjakt.no/c/tv\"\n",
    "page_links = []\n",
    "links = []\n",
    "page_links.append(url)\n",
    "for page in page_links:\n",
    "    url = page\n",
    "    i = requests.get(url).text\n",
    "    soup=BeautifulSoup(i,'html.parser')\n",
    "    pages = soup.find_all(\"li\",{\"class\":\"PaginationListItem-sc-11oisbu-1 bKXcXk\"})\n",
    "    for page in pages:\n",
    "        link = page.find(\"a\", {\"data-test\":\"PaginationLink\"})\n",
    "        links.append(link)\n",
    "        if link == None:\n",
    "            links.remove(link)\n",
    "    for l in links:\n",
    "        pg = l.get('href')\n",
    "        full_url = base_url+pg\n",
    "        while full_url not in page_links:\n",
    "            page_links.append(full_url)\n",
    "\n",
    "\n",
    "print(f'Pages Found: {len(page_links)}')"
   ]
  },
  {
   "cell_type": "code",
   "execution_count": 4,
   "metadata": {
    "pycharm": {
     "name": "#%%\n"
    }
   },
   "outputs": [],
   "source": [
    "productlists = []\n",
    "for link in page_links:\n",
    "        k = requests.get(link).text\n",
    "        soup=BeautifulSoup(k,'html.parser')\n",
    "        productlist = soup.find_all(\"article\",{\"data-test\":\"ProductGridCard\"})\n",
    "        productlists.append(productlist)"
   ]
  },
  {
   "cell_type": "code",
   "execution_count": 5,
   "metadata": {
    "pycharm": {
     "name": "#%%\n"
    }
   },
   "outputs": [],
   "source": [
    "items = [item for sublist in productlists for item in sublist]"
   ]
  },
  {
   "cell_type": "code",
   "execution_count": 6,
   "metadata": {
    "pycharm": {
     "name": "#%%\n"
    }
   },
   "outputs": [
    {
     "name": "stdout",
     "output_type": "stream",
     "text": [
      "Number of Products Found: 1447\n"
     ]
    }
   ],
   "source": [
    "productlinks = []\n",
    "for item in items:\n",
    "        link = item.find(\"a\",{\"data-test\":\"InternalLink\"}).get('href')                 \n",
    "        productlinks.append(base_url+link)\n",
    "\n",
    "print(f'Number of Products Found: {len(productlinks)}')"
   ]
  },
  {
   "cell_type": "code",
   "execution_count": 8,
   "metadata": {},
   "outputs": [
    {
     "data": {
      "text/plain": [
       "1447"
      ]
     },
     "execution_count": 8,
     "metadata": {},
     "output_type": "execute_result"
    }
   ],
   "source": [
    "df_prod_links = pd.DataFrame(productlinks, columns = ['Product Links'])\n",
    "# Convert dataframe to sql table                                   \n",
    "df_prod_links.to_sql('productlinks', engine, if_exists='replace', index=False)"
   ]
  },
  {
   "cell_type": "code",
   "execution_count": 9,
   "metadata": {
    "pycharm": {
     "name": "#%%\n"
    }
   },
   "outputs": [],
   "source": [
    "from selenium import webdriver\n",
    "from selenium.webdriver.common.keys import Keys\n",
    "import pandas as pd\n",
    "from webdriver_manager.chrome import ChromeDriverManager\n",
    "from selenium.webdriver.common.by import By\n",
    "from parsel import Selector\n",
    "from selenium.webdriver.chrome.options import Options\n",
    "from selenium.webdriver.support.ui import WebDriverWait\n",
    "from selenium.webdriver.support import expected_conditions as EC\n",
    "\n",
    "\n",
    "# configure webdriver\n",
    "options = Options()\n",
    "options.headless = True  # hide GUI\n",
    "options.add_argument(\"--window-size=1920,1080\")  # set window size to native GUI size\n",
    "options.add_argument(\"start-maximized\")  # ensure window is full-screen\n",
    "# configure chrome browser to not load images and javascript\n",
    "chrome_options = webdriver.ChromeOptions()\n",
    "chrome_options.add_experimental_option(\n",
    "    \"prefs\", {\"profile.managed_default_content_settings.images\": 2}\n",
    ")"
   ]
  },
  {
   "cell_type": "code",
   "execution_count": 10,
   "metadata": {
    "collapsed": false,
    "pycharm": {
     "name": "#%%\n"
    }
   },
   "outputs": [],
   "source": [
    "class PropertiesPrices:\n",
    "    def __init__(self):\n",
    "        self.driver = webdriver.Chrome(ChromeDriverManager().install())\n",
    "        self.link = link\n",
    "        \n",
    "    def get_properties(self):\n",
    "        property_list = []\n",
    "        self.driver.get(self.link+\"#properties\")\n",
    "        try:\n",
    "            element1 = WebDriverWait(self.driver, 10).until(\n",
    "                EC.presence_of_element_located((By.XPATH, \"//body/div[@id='root']/div[@class='App-sc-2fu3f8-0 ljZBoE']/section[@class='Main-sc-2fu3f8-1 hnCjSa']/div[@class='Content-sc-2fu3f8-2 hybPGh']/div[@class='PageContent-sc-1wgu331-5 dfQdce']/div[@class='Wrapper-sc-1wgu331-1 gPsMfp']/div[@class='Content-sc-1wgu331-0 gMPJqu']/div[@class='ProductPage-sc-mnx6sq-0 iMqgaO']/div/div[@id='#properties']/div[@class='PageSectionWrapper-sc-o2pbvx-0 kQdrfN']/section[@class='PageSectionContent-sc-o2pbvx-1 hbBYkf']/section[@data-test='PropertiesTabContent']/div[@class='StyledList--ji0zot McirA StyledPanel--17i5iqi ffQfPu']/div[@data-test-type='product-info']/div[@class='StyledViewport-sc-7zjdbj-0 iDfoDl']/section[1]/div[1]/div[1]\"))\n",
    "            )\n",
    "            element1.click()\n",
    "        except:\n",
    "            element1 = None\n",
    "        #driver.find_element(By.XPATH, \"//a[@class='TabLink-sc-4sd16e-3 jJHqPc']\")\n",
    "        page_source =self.driver.page_source\n",
    "        soup = BeautifulSoup(page_source,'html.parser')\n",
    "        specs = soup.find_all(\"section\", {\"class\":\"Section-sc-1jnk5ag-1 kLbzuK\"})\n",
    "        prop_names = []\n",
    "        prop_vals = []\n",
    "        for sect in specs:\n",
    "            sections = sect.find_all(\"div\", {\"class\", \"Row-sc-1jnk5ag-3 jQedgK\"})\n",
    "            for section in sections:\n",
    "                properties = section.find_all(\"div\", {\"class\":\"Column-sc-1jnk5ag-2 bIOAXd\"})\n",
    "                for property in properties:\n",
    "                    property_name = property.find(\"span\", {\"class\":\"Text--bzqghn wmwsE bodysmalltext PropertyName-sc-1jnk5ag-5 hEdIXF\"})\n",
    "                    property_value = property.find(\"span\", {\"class\":\"Text--bzqghn ddqBq bodysmalltext PropertyValue-sc-1jnk5ag-6 etcKHO\"})\n",
    "                    if property_name !=None:\n",
    "                        prop_names.append(property_name.text.replace('\\n',\"\"))\n",
    "                    elif property_value !=None:\n",
    "                        prop_vals.append(property_value.text.replace('\\n',\"\"))\n",
    "        properties = {}\n",
    "        for name in prop_names:\n",
    "            for val in prop_vals:\n",
    "                properties[name] = val\n",
    "                prop_vals.remove(val)\n",
    "                break\n",
    "        property_list.append(properties)\n",
    "        return property_list\n",
    "    def get_prices(self):\n",
    "        self.driver.get(self.link)\n",
    "        try:\n",
    "            #  click on cookie banner\n",
    "            banner_click = self.driver.find_element(By.CSS_SELECTOR, \"div.BannerCookieBanner div.BannerContentCookieBanner div.ButtonsWrapperCookieBanner.AcceptButtonWrapperCookieBanner button.AcceptButtonCookieBanner.ButtonCookieBanner span.TextWrapperCookieBanner > span:nth-child(1)\")\n",
    "            banner_click.click()\n",
    "        except:\n",
    "            banner_click = None\n",
    "        try:\n",
    "            #click to reveal more items\n",
    "            reveal_click = self.driver.find_element(By.CSS_SELECTOR, \"div.App-sc-2fu3f8-0.ljZBoE section.Main-sc-2fu3f8-1.hnCjSa:nth-child(5) div.Content-sc-2fu3f8-2.hybPGh div.PageContent-sc-1wgu331-5.dfQdce div.Wrapper-sc-1wgu331-1.gPsMfp div.Content-sc-1wgu331-0.gMPJqu div.ProductPage-sc-mnx6sq-0.iMqgaO div.SectionWrapper-sc-ia0zhw-0.bqrwQK:nth-child(1) div.PageSectionWrapper-sc-o2pbvx-0.gHOcYt.StyledPageSection-sc-1w3nqup-0.UUqee:nth-child(1) section.PageSectionContent-sc-o2pbvx-1.euuGdp section:nth-child(1) div.PriceListPanelWrapper-sc-1htx0wh-0.lkPiWw div.PricePanel-sc-wkzg9v-1.kSsiTe div:nth-child(3) > button.BaseButton--uexw3i.cVdzxy.textbutton\")\n",
    "            reveal_click.click()\n",
    "        except:\n",
    "            reveal_click = None\n",
    "        page_source = self.driver.page_source\n",
    "        soup = BeautifulSoup(page_source,'html.parser')\n",
    "        offers  = soup.find(\"ul\", {\"class\":\"PriceList-sc-wkzg9v-0 fbrkVc\"})\n",
    "        price_list = []\n",
    "        for offer in offers:\n",
    "            offer_prices  = offer.find_all(\"div\", {\"class\":\"PriceWrapper-sc-k40pbc-4 OYetQ\"})\n",
    "            price_list.append(offer_prices)\n",
    "\n",
    "        price_list = [price for sublist in price_list for price in sublist]\n",
    "        for i in range(0, len(price_list)):\n",
    "            price_list[i] = price_list[i].text.replace('\\n',\"\")\n",
    "\n",
    "        for i in range(0, len(price_list)):\n",
    "            price_list[i] = re.sub('[\\xa0]', '',price_list[i])\n",
    "            #price_list[i] = re.sub('[kr]', '', price_list[i])\n",
    "            price_list[i] = re.sub(\"[^0-9]\", \"\", price_list[i])\n",
    "                #price_list[i]= price_list[i].replace(r'[()]',\"\")\n",
    "\n",
    "        for i in range(0, len(price_list)):\n",
    "            price_list[i] = int(price_list[i])\n",
    "        no_offers = len(price_list)\n",
    "        avg_price =  \"{:.2f}\".format(mean(price_list))\n",
    "\n",
    "        return no_offers, avg_price\n"
   ]
  },
  {
   "cell_type": "code",
   "execution_count": 12,
   "metadata": {
    "pycharm": {
     "name": "#%%\n"
    }
   },
   "outputs": [
    {
     "name": "stderr",
     "output_type": "stream",
     "text": [
      "C:\\Users\\user\\AppData\\Local\\Temp\\ipykernel_3212\\1538078224.py:3: DeprecationWarning: executable_path has been deprecated, please pass in a Service object\n",
      "  self.driver = webdriver.Chrome(ChromeDriverManager().install())\n"
     ]
    },
    {
     "name": "stdout",
     "output_type": "stream",
     "text": [
      "product scraped: (1, 'LG OLED65C1 65\" 4K Ultra HD (3840x2160) OLED Smart TV')\n",
      "product scraped: (2, 'LG OLED55C1 55\" 4K Ultra HD (3840x2160) OLED Smart TV')\n",
      "product scraped: (3, 'LG OLED65B1 65\" 4K Ultra HD (3840x2160) OLED Smart TV')\n",
      "product scraped: (4, 'Samsung The Frame QE55LS03A 55\" 4K Ultra HD (3840x2160) QLED Smart TV')\n",
      "product scraped: (5, 'Samsung Neo QLED QE65QN90A 65\" 4K Ultra HD (3840x2160) Smart TV')\n",
      "product scraped: (6, 'Samsung The Frame QE65LS03A 65\" 4K Ultra HD (3840x2160) QLED Smart TV')\n",
      "product scraped: (7, 'Philips 70PUS9006 70\" 4K Ultra HD (3840x2160) LCD Smart TV')\n",
      "product scraped: (8, 'Samsung QLED QE85Q80A 85\" 4K Ultra HD (3840x2160) Smart TV')\n",
      "product scraped: (9, 'Samsung QLED QE65Q80B 65\" 4K Ultra HD (3840x2160) Smart TV')\n",
      "product scraped: (10, 'LG 75UP7500 75\" 4K Ultra HD (3840x2160) LCD Smart TV')\n"
     ]
    }
   ],
   "source": [
    "data = []\n",
    "product_scraped = 1\n",
    "for link in productlinks[:10]:\n",
    "    from datetime import datetime\n",
    "    f = requests.get(link,headers=headers).text\n",
    "    hun=BeautifulSoup(f,'html.parser')\n",
    "    props = PropertiesPrices()\n",
    "    \n",
    "\n",
    "    try:\n",
    "        category = \"TV\"\n",
    "    except:\n",
    "        category = None\n",
    "    try:\n",
    "        name = hun.find(\"div\",{\"data-test\":\"ProductTitle\"}).text.replace('\\n',\"\")\n",
    "    except:\n",
    "        name = None\n",
    "    try:\n",
    "        avg_price = props.get_prices()[1]\n",
    "    except:\n",
    "        avg_price = None\n",
    "    try:\n",
    "        offs = props.get_prices()[0]\n",
    "    except:\n",
    "        offs = None\n",
    "    try:\n",
    "        country = \"NO\"\n",
    "    except:\n",
    "        country = None\n",
    "    try:\n",
    "        currency = \"NOK\"\n",
    "    except:\n",
    "        currency = None\n",
    "    try:\n",
    "        rank = hun.find(\"span\",{\"class\":\"Text--bzqghn kBBoFI titlesmalltext StyledCaptionText--7mhtyj fxXtPM\"}).text.replace('\\n',\"\")\n",
    "    except:\n",
    "        rank = None\n",
    "    try:\n",
    "        rating = hun.find(\"span\",{\"class\":\"RateNumber-sc-14ktvqu-5 ifhFUL\"}).text.replace('\\n',\"\")\n",
    "    except:\n",
    "        rating = None\n",
    "    try:\n",
    "        reviews = hun.find(\"span\",{\"class\":\"Counter-sc-14ktvqu-0 bORxLl\"}).text.replace('\\n',\"\")\n",
    "    except:\n",
    "        reviews = None\n",
    "    try:\n",
    "        description = hun.find(\"p\",{\"class\":\"ProductInfo-sc-46oo5c-0 bRxlhS\"}).text.replace('\\n',\"\")\n",
    "    except:\n",
    "        description = None\n",
    "    try:\n",
    "        specifications = props.get_properties()\n",
    "    except:\n",
    "        specifications = None\n",
    "\n",
    "    try:\n",
    "        scrape_link = link\n",
    "        \n",
    "    except:\n",
    "        scrape_link = None\n",
    "    \n",
    "    try:\n",
    "        now = datetime.now()\n",
    "        date_scraped = now.strftime(\"%d/%m/%Y %H:%M:%S\")\n",
    "    except:\n",
    "        date_scraped = None\n",
    "\n",
    "\n",
    "    tv = {\"Country Code\":country, \"Category\":category, \"Name\":name, \"Avg Price\": avg_price, \"Currency\":currency, \"Nb of Offers\":offs, \"Rank\":rank, \"Rating\":rating, \"Reviews\":reviews, \"Description\":description, \\\n",
    "        \"specifications\":specifications, \"scrape_link\":scrape_link, \"date_scraped\":date_scraped}\n",
    "    \n",
    "    data.append(tv)\n",
    "    \n",
    "    print(f'product scraped: {product_scraped, name}')\n",
    "    product_scraped = product_scraped + 1\n",
    "    "
   ]
  },
  {
   "cell_type": "code",
   "execution_count": 13,
   "metadata": {},
   "outputs": [
    {
     "data": {
      "text/html": [
       "<div>\n",
       "<style scoped>\n",
       "    .dataframe tbody tr th:only-of-type {\n",
       "        vertical-align: middle;\n",
       "    }\n",
       "\n",
       "    .dataframe tbody tr th {\n",
       "        vertical-align: top;\n",
       "    }\n",
       "\n",
       "    .dataframe thead th {\n",
       "        text-align: right;\n",
       "    }\n",
       "</style>\n",
       "<table border=\"1\" class=\"dataframe\">\n",
       "  <thead>\n",
       "    <tr style=\"text-align: right;\">\n",
       "      <th></th>\n",
       "      <th>Country Code</th>\n",
       "      <th>Category</th>\n",
       "      <th>Name</th>\n",
       "      <th>Avg Price</th>\n",
       "      <th>Currency</th>\n",
       "      <th>Nb of Offers</th>\n",
       "      <th>Rank</th>\n",
       "      <th>Rating</th>\n",
       "      <th>Reviews</th>\n",
       "      <th>Description</th>\n",
       "      <th>specifications</th>\n",
       "      <th>scrape_link</th>\n",
       "      <th>date_scraped</th>\n",
       "    </tr>\n",
       "  </thead>\n",
       "  <tbody>\n",
       "    <tr>\n",
       "      <th>5</th>\n",
       "      <td>NO</td>\n",
       "      <td>TV</td>\n",
       "      <td>Samsung The Frame QE65LS03A 65\" 4K Ultra HD (3...</td>\n",
       "      <td>13826.67</td>\n",
       "      <td>NOK</td>\n",
       "      <td>3</td>\n",
       "      <td>Rangering 6</td>\n",
       "      <td>2.9</td>\n",
       "      <td>(4 anmeldelser)</td>\n",
       "      <td>Den billigste prisen for Samsung The Frame QE6...</td>\n",
       "      <td>[{'Produsenter': 'Samsung', 'Bildestørrelse': ...</td>\n",
       "      <td>https://www.prisjakt.no/product.php?p=5734739</td>\n",
       "      <td>23/08/2022 10:44:01</td>\n",
       "    </tr>\n",
       "    <tr>\n",
       "      <th>6</th>\n",
       "      <td>NO</td>\n",
       "      <td>TV</td>\n",
       "      <td>Philips 70PUS9006 70\" 4K Ultra HD (3840x2160) ...</td>\n",
       "      <td>10226.17</td>\n",
       "      <td>NOK</td>\n",
       "      <td>6</td>\n",
       "      <td>Rangering 7</td>\n",
       "      <td>4.5</td>\n",
       "      <td>(4 anmeldelser)</td>\n",
       "      <td>Den billigste prisen for Philips 70PUS9006 70\"...</td>\n",
       "      <td>[{'Produsenter': 'Philips', 'Bildestørrelse': ...</td>\n",
       "      <td>https://www.prisjakt.no/product.php?p=5785187</td>\n",
       "      <td>23/08/2022 10:44:22</td>\n",
       "    </tr>\n",
       "    <tr>\n",
       "      <th>7</th>\n",
       "      <td>NO</td>\n",
       "      <td>TV</td>\n",
       "      <td>Samsung QLED QE85Q80A 85\" 4K Ultra HD (3840x21...</td>\n",
       "      <td>29870.83</td>\n",
       "      <td>NOK</td>\n",
       "      <td>6</td>\n",
       "      <td>Rangering 8</td>\n",
       "      <td>3.8</td>\n",
       "      <td>(1 anmeldelse)</td>\n",
       "      <td>Den billigste prisen for Samsung QLED QE85Q80A...</td>\n",
       "      <td>[{'Produsenter': 'Samsung', 'Bildestørrelse': ...</td>\n",
       "      <td>https://www.prisjakt.no/product.php?p=5753159</td>\n",
       "      <td>23/08/2022 10:44:47</td>\n",
       "    </tr>\n",
       "    <tr>\n",
       "      <th>8</th>\n",
       "      <td>NO</td>\n",
       "      <td>TV</td>\n",
       "      <td>Samsung QLED QE65Q80B 65\" 4K Ultra HD (3840x21...</td>\n",
       "      <td>20528.88</td>\n",
       "      <td>NOK</td>\n",
       "      <td>8</td>\n",
       "      <td>Rangering 9</td>\n",
       "      <td>None</td>\n",
       "      <td>(1)</td>\n",
       "      <td>Den billigste prisen for Samsung QLED QE65Q80B...</td>\n",
       "      <td>[{'Produsenter': 'Samsung', 'Bildestørrelse': ...</td>\n",
       "      <td>https://www.prisjakt.no/product.php?p=6016432</td>\n",
       "      <td>23/08/2022 10:45:11</td>\n",
       "    </tr>\n",
       "    <tr>\n",
       "      <th>9</th>\n",
       "      <td>NO</td>\n",
       "      <td>TV</td>\n",
       "      <td>LG 75UP7500 75\" 4K Ultra HD (3840x2160) LCD Sm...</td>\n",
       "      <td>12990.00</td>\n",
       "      <td>NOK</td>\n",
       "      <td>2</td>\n",
       "      <td>Rangering 10</td>\n",
       "      <td>None</td>\n",
       "      <td>(1)</td>\n",
       "      <td>Den billigste prisen for LG 75UP7500 75\" 4K Ul...</td>\n",
       "      <td>[{'Produsenter': 'LG', 'Bildestørrelse': '75 T...</td>\n",
       "      <td>https://www.prisjakt.no/product.php?p=5754086</td>\n",
       "      <td>23/08/2022 10:45:30</td>\n",
       "    </tr>\n",
       "  </tbody>\n",
       "</table>\n",
       "</div>"
      ],
      "text/plain": [
       "  Country Code Category                                               Name  \\\n",
       "5           NO       TV  Samsung The Frame QE65LS03A 65\" 4K Ultra HD (3...   \n",
       "6           NO       TV  Philips 70PUS9006 70\" 4K Ultra HD (3840x2160) ...   \n",
       "7           NO       TV  Samsung QLED QE85Q80A 85\" 4K Ultra HD (3840x21...   \n",
       "8           NO       TV  Samsung QLED QE65Q80B 65\" 4K Ultra HD (3840x21...   \n",
       "9           NO       TV  LG 75UP7500 75\" 4K Ultra HD (3840x2160) LCD Sm...   \n",
       "\n",
       "  Avg Price Currency  Nb of Offers          Rank Rating          Reviews  \\\n",
       "5  13826.67      NOK             3   Rangering 6    2.9  (4 anmeldelser)   \n",
       "6  10226.17      NOK             6   Rangering 7    4.5  (4 anmeldelser)   \n",
       "7  29870.83      NOK             6   Rangering 8    3.8   (1 anmeldelse)   \n",
       "8  20528.88      NOK             8   Rangering 9   None              (1)   \n",
       "9  12990.00      NOK             2  Rangering 10   None              (1)   \n",
       "\n",
       "                                         Description  \\\n",
       "5  Den billigste prisen for Samsung The Frame QE6...   \n",
       "6  Den billigste prisen for Philips 70PUS9006 70\"...   \n",
       "7  Den billigste prisen for Samsung QLED QE85Q80A...   \n",
       "8  Den billigste prisen for Samsung QLED QE65Q80B...   \n",
       "9  Den billigste prisen for LG 75UP7500 75\" 4K Ul...   \n",
       "\n",
       "                                      specifications  \\\n",
       "5  [{'Produsenter': 'Samsung', 'Bildestørrelse': ...   \n",
       "6  [{'Produsenter': 'Philips', 'Bildestørrelse': ...   \n",
       "7  [{'Produsenter': 'Samsung', 'Bildestørrelse': ...   \n",
       "8  [{'Produsenter': 'Samsung', 'Bildestørrelse': ...   \n",
       "9  [{'Produsenter': 'LG', 'Bildestørrelse': '75 T...   \n",
       "\n",
       "                                     scrape_link         date_scraped  \n",
       "5  https://www.prisjakt.no/product.php?p=5734739  23/08/2022 10:44:01  \n",
       "6  https://www.prisjakt.no/product.php?p=5785187  23/08/2022 10:44:22  \n",
       "7  https://www.prisjakt.no/product.php?p=5753159  23/08/2022 10:44:47  \n",
       "8  https://www.prisjakt.no/product.php?p=6016432  23/08/2022 10:45:11  \n",
       "9  https://www.prisjakt.no/product.php?p=5754086  23/08/2022 10:45:30  "
      ]
     },
     "execution_count": 13,
     "metadata": {},
     "output_type": "execute_result"
    }
   ],
   "source": [
    "df = pd.DataFrame.from_dict(data)\n",
    "df.tail()"
   ]
  },
  {
   "cell_type": "code",
   "execution_count": null,
   "metadata": {
    "pycharm": {
     "name": "#%%\n"
    }
   },
   "outputs": [],
   "source": [
    "df.columns"
   ]
  },
  {
   "cell_type": "code",
   "execution_count": null,
   "metadata": {
    "pycharm": {
     "name": "#%%\n"
    }
   },
   "outputs": [],
   "source": [
    "df = pd.concat([df, df_prop.reindex(df.index)], axis=1)\n",
    "#gen_spec_df = df[\"Generalspecifications\"].apply(pd.Series)\n",
    "#df = pd.concat([df, gen_spec_df.reindex(df.index)], axis=1)\n",
    "df_c = df.copy()\n",
    "# Remove specifications column\n",
    "#df.drop(['specifications'], axis=1, inplace=True)\n",
    "df.shape"
   ]
  },
  {
   "cell_type": "code",
   "execution_count": null,
   "metadata": {
    "pycharm": {
     "name": "#%%\n"
    }
   },
   "outputs": [],
   "source": [
    "#df2 = df.reset_index().rename(columns={'index':'id'})\n",
    "df_long = df.set_index(['Country Code', 'Produsenter','Kategori', 'Name', 'Nb of Offers', 'Lanseringsår', 'Avg Price', 'Currency', 'scrape_link', 'date_scraped']).stack().reset_index()"
   ]
  },
  {
   "cell_type": "code",
   "execution_count": null,
   "metadata": {
    "pycharm": {
     "name": "#%%\n"
    }
   },
   "outputs": [],
   "source": [
    "# Convert dataframe to sql table                                   \n",
    "df_long.to_sql('data_table',  engine, if_exists='replace', index=False)"
   ]
  },
  {
   "cell_type": "code",
   "execution_count": null,
   "metadata": {
    "pycharm": {
     "name": "#%%\n"
    }
   },
   "outputs": [],
   "source": [
    "df.to_csv(\"data.csv\")"
   ]
  },
  {
   "cell_type": "markdown",
   "metadata": {
    "pycharm": {
     "name": "#%% md\n"
    }
   },
   "source": [
    "    prod_specifications = hun.find_all(\"div\",{\"class\":\"Column-sc-1jnk5ag-2 bIOAXd\"})\n",
    "    def get_specs(prod_specifications):\n",
    "        nam = []\n",
    "        val = []\n",
    "        for spec in prod_specifications:\n",
    "            for prop in spec.find_all(\"span\", {\"class\":\"Text--bzqghn wmwsE bodysmalltext PropertyName-sc-1jnk5ag-5 hEdIXF\"}):\n",
    "                prop_n  = prop.get_text()\n",
    "                nam.append(prop_n)\n",
    "            for prop in spec.find_all(\"span\", {\"class\":\"Text--bzqghn ddqBq bodysmalltext PropertyValue-sc-1jnk5ag-6 etcKHO\"}):\n",
    "                prop_v  = prop.get_text()\n",
    "                val.append(prop_v)\n",
    "        specs = {nam[i]: val[i] for i in range(len(nam))}\n",
    "        return(specs)"
   ]
  },
  {
   "cell_type": "code",
   "execution_count": null,
   "metadata": {
    "pycharm": {
     "name": "#%%\n"
    }
   },
   "outputs": [],
   "source": [
    "df_long.to_csv('df_long.csv')"
   ]
  }
 ],
 "metadata": {
  "kernelspec": {
   "display_name": "Python 3 (ipykernel)",
   "language": "python",
   "name": "python3"
  },
  "language_info": {
   "codemirror_mode": {
    "name": "ipython",
    "version": 3
   },
   "file_extension": ".py",
   "mimetype": "text/x-python",
   "name": "python",
   "nbconvert_exporter": "python",
   "pygments_lexer": "ipython3",
   "version": "3.9.6"
  },
  "vscode": {
   "interpreter": {
    "hash": "82ed002fa2d4956f5c6aec99bcefe0f73a9f79882f3c9e2319b14958a5896ac5"
   }
  }
 },
 "nbformat": 4,
 "nbformat_minor": 4
}
