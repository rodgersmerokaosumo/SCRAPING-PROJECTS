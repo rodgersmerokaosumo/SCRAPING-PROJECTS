{
 "cells": [
  {
   "cell_type": "code",
   "execution_count": 1,
   "metadata": {
    "pycharm": {
     "name": "#%%\n"
    }
   },
   "outputs": [],
   "source": [
    "import httplib2\n",
    "from bs4 import BeautifulSoup\n",
    "import requests\n",
    "import pandas as pd\n",
    "import re\n",
    "from parsel import Selector\n",
    "from statistics import mean\n",
    "import time\n",
    "import requests\n",
    "from datetime import datetime\n",
    "headers = {\"User-Agent\":\"Mozilla/5.0 (Windows NT 10.0; Win64; x64) AppleWebKit/537.36 (KHTML, like Gecko) Chrome/103.0.0.0 Safari/537.36\"}\n",
    "http = httplib2.Http()"
   ]
  },
  {
   "cell_type": "code",
   "execution_count": 2,
   "metadata": {
    "pycharm": {
     "name": "#%%\n"
    }
   },
   "outputs": [],
   "source": [
    "base_url = \"https://www.prisjakt.nu\"\n",
    "url = \"https://www.prisjakt.nu/c/tv\"\n",
    "page_links = []\n",
    "links = []\n",
    "page_links.append(url)\n",
    "for page in page_links:\n",
    "    url = page\n",
    "    i = requests.get(url).text\n",
    "    soup=BeautifulSoup(i,'html.parser')\n",
    "    pages = soup.find_all(\"li\",{\"class\":\"PaginationListItem-sc-11oisbu-1 bKXcXk\"})\n",
    "    for page in pages:\n",
    "        link = page.find(\"a\", {\"data-test\":\"PaginationLink\"})\n",
    "        links.append(link)\n",
    "        if link == None:\n",
    "            links.remove(link)\n",
    "    for l in links:\n",
    "        pg = l.get('href')\n",
    "        full_url = base_url+pg\n",
    "        while full_url not in page_links:\n",
    "            page_links.append(full_url)\n",
    "        "
   ]
  },
  {
   "cell_type": "code",
   "execution_count": 3,
   "metadata": {
    "pycharm": {
     "name": "#%%\n"
    }
   },
   "outputs": [
    {
     "data": {
      "text/plain": [
       "47"
      ]
     },
     "execution_count": 3,
     "metadata": {},
     "output_type": "execute_result"
    }
   ],
   "source": [
    "len(page_links)"
   ]
  },
  {
   "cell_type": "code",
   "execution_count": 4,
   "metadata": {
    "pycharm": {
     "name": "#%%\n"
    }
   },
   "outputs": [],
   "source": [
    "productlists = []\n",
    "for link in page_links:\n",
    "        k = requests.get(link).text\n",
    "        soup=BeautifulSoup(k,'html.parser')\n",
    "        productlist = soup.find_all(\"article\",{\"data-test\":\"ProductGridCard\"})\n",
    "        productlists.append(productlist)"
   ]
  },
  {
   "cell_type": "code",
   "execution_count": 5,
   "metadata": {
    "pycharm": {
     "name": "#%%\n"
    }
   },
   "outputs": [],
   "source": [
    "items = [item for sublist in productlists for item in sublist]"
   ]
  },
  {
   "cell_type": "code",
   "execution_count": 6,
   "metadata": {
    "pycharm": {
     "name": "#%%\n"
    }
   },
   "outputs": [],
   "source": [
    "productlinks = []\n",
    "for item in items:\n",
    "        link = item.find(\"a\",{\"data-test\":\"InternalLink\"}).get('href')                 \n",
    "        productlinks.append(base_url+link)"
   ]
  },
  {
   "cell_type": "code",
   "execution_count": 7,
   "metadata": {
    "pycharm": {
     "name": "#%%\n"
    }
   },
   "outputs": [
    {
     "data": {
      "text/plain": [
       "2043"
      ]
     },
     "execution_count": 7,
     "metadata": {},
     "output_type": "execute_result"
    }
   ],
   "source": [
    "len(productlinks)"
   ]
  },
  {
   "cell_type": "code",
   "execution_count": 8,
   "metadata": {
    "pycharm": {
     "name": "#%%\n"
    }
   },
   "outputs": [],
   "source": [
    "from selenium import webdriver\n",
    "from selenium.webdriver.common.keys import Keys\n",
    "import pandas as pd\n",
    "from webdriver_manager.chrome import ChromeDriverManager\n",
    "from selenium.webdriver.common.by import By\n",
    "from parsel import Selector\n",
    "from selenium.webdriver.chrome.options import Options\n",
    "from selenium.webdriver.support.ui import WebDriverWait\n",
    "from selenium.webdriver.support import expected_conditions as EC\n",
    "\n",
    "\n",
    "# configure webdriver\n",
    "options = Options()\n",
    "options.headless = True  # hide GUI\n",
    "options.add_argument(\"--window-size=1920,1080\")  # set window size to native GUI size\n",
    "options.add_argument(\"start-maximized\")  # ensure window is full-screen\n",
    "# configure chrome browser to not load images and javascript\n",
    "chrome_options = webdriver.ChromeOptions()\n",
    "chrome_options.add_experimental_option(\n",
    "    \"prefs\", {\"profile.managed_default_content_settings.images\": 2}\n",
    ")"
   ]
  },
  {
   "cell_type": "code",
   "execution_count": 9,
   "metadata": {
    "pycharm": {
     "name": "#%%\n"
    }
   },
   "outputs": [
    {
     "name": "stderr",
     "output_type": "stream",
     "text": [
      "C:\\Users\\user\\AppData\\Local\\Temp\\ipykernel_14176\\1503906442.py:1: DeprecationWarning: executable_path has been deprecated, please pass in a Service object\n",
      "  driver = webdriver.Chrome(ChromeDriverManager().install())\n"
     ]
    }
   ],
   "source": [
    "driver = webdriver.Chrome(ChromeDriverManager().install())"
   ]
  },
  {
   "cell_type": "code",
   "execution_count": 13,
   "metadata": {
    "pycharm": {
     "name": "#%%\n"
    }
   },
   "outputs": [],
   "source": [
    "data=[]\n",
    "for link in productlinks[:10]:\n",
    "    from datetime import datetime\n",
    "    f = requests.get(link,headers=headers).text\n",
    "    hun=BeautifulSoup(f,'html.parser')\n",
    "    driver.get(link)\n",
    "    try:\n",
    "        element1 = WebDriverWait(driver, 10).until(\n",
    "                EC.presence_of_element_located((By.CSS_SELECTOR, \"div.BannerCookieBanner div.BannerContentCookieBanner div.ButtonsWrapperCookieBanner.AcceptButtonWrapperCookieBanner button.AcceptButtonCookieBanner.ButtonCookieBanner span.TextWrapperCookieBanner > span:nth-child(1)\"))\n",
    "            )\n",
    "        element1.click()\n",
    "    except:\n",
    "        element1 = None\n",
    "    try:\n",
    "        element2 = WebDriverWait(driver, 10).until(\n",
    "                EC.presence_of_element_located((By.CSS_SELECTOR, \"div.App-sc-2fu3f8-0.ljZBoE section.Main-sc-2fu3f8-1.hnCjSa:nth-child(5) div.Content-sc-2fu3f8-2.hybPGh div.PageContent-sc-1wgu331-5.dfQdce div.Wrapper-sc-1wgu331-1.gPsMfp div.Content-sc-1wgu331-0.gMPJqu div.ProductPage-sc-mnx6sq-0.iMqgaO div.SectionWrapper-sc-ia0zhw-0.bqrwQK:nth-child(1) div.PageSectionWrapper-sc-o2pbvx-0.gHOcYt.StyledPageSection-sc-1w3nqup-0.UUqee:nth-child(1) section.PageSectionContent-sc-o2pbvx-1.euuGdp section:nth-child(1) div.PriceListPanelWrapper-sc-1htx0wh-0.lkPiWw div.PricePanel-sc-wkzg9v-1.kSsiTe div:nth-child(3) > button.BaseButton--uexw3i.cVdzxy.textbutton\"))\n",
    "            )\n",
    "        element2.click()\n",
    "    except:\n",
    "        element2 = None\n",
    "    \n",
    "    from parsel import Selector\n",
    "    def get_prop():\n",
    "        driver.get(link+'#properties')\n",
    "        sel = Selector(text=driver.page_source)\n",
    "        parsed = []\n",
    "        for item in sel.xpath(\"//div[contains(@class,'Column-sc-1jnk5ag-2 bIOAXd')]\"):\n",
    "            parsed.append({\n",
    "                'title': item.css('span[class]').get(),\n",
    "            })\n",
    "        # split dictionary into keys and values\n",
    "        keys = []\n",
    "        values = []\n",
    "        for item in parsed:\n",
    "            for i in item:\n",
    "                keys.append(i)\n",
    "                values.append(item[i])\n",
    "        bs4 = []\n",
    "        for item in values:\n",
    "            prop = BeautifulSoup(item,'html.parser')\n",
    "            bs4.append(prop)\n",
    "        cols = []\n",
    "        vals = []\n",
    "        for str in bs4:\n",
    "            name = str.find(\"span\", {\"class\":\"Text--bzqghn wmwsE bodysmalltext PropertyName-sc-1jnk5ag-5 hEdIXF\"})\n",
    "            if name != None :\n",
    "                cols.append(name.text.replace('\\n',\"\"))\n",
    "            val = str.find(\"span\", {\"class\":\"Text--bzqghn ddqBq bodysmalltext PropertyValue-sc-1jnk5ag-6 etcKHO\"})\n",
    "            if val != None :\n",
    "                vals.append(val.text.replace('\\n',\"\"))\n",
    "\n",
    "        properties = dict(zip(cols, vals))\n",
    "        return properties\n",
    "\n",
    "    prices = []\n",
    "    price_list = hun.find_all('div', class_='PriceWrapper-sc-k40pbc-4 OYetQ')\n",
    "    for price in price_list:\n",
    "        for p in price:\n",
    "            pri = p.get_text()\n",
    "            pri = re.sub('[\\xa0]', '', pri)\n",
    "            pri = re.sub('[kr]', '', pri)\n",
    "            pri = pri.replace(r'[()]',\"\")\n",
    "            prices.append(pri)\n",
    "    prices = [int(item) for item in prices]\n",
    "    \n",
    "\n",
    "    try:\n",
    "        category = \"TV\"\n",
    "    except:\n",
    "        category = None\n",
    "    try:\n",
    "        name = hun.find(\"div\",{\"data-test\":\"ProductTitle\"}).text.replace('\\n',\"\")\n",
    "    except:\n",
    "        name = None\n",
    "    try:\n",
    "        avg_price = mean(prices)\n",
    "    except:\n",
    "        avg_price = None\n",
    "    try:\n",
    "        offs = len(prices)\n",
    "    except:\n",
    "        offs = None\n",
    "    try:\n",
    "        country = \"SW\"\n",
    "    except:\n",
    "        country = None\n",
    "    try:\n",
    "        currency = \"SEK\"\n",
    "    except:\n",
    "        currency = None\n",
    "    try:\n",
    "        rank = hun.find(\"span\",{\"class\":\"Text--bzqghn kBBoFI titlesmalltext StyledCaptionText--7mhtyj fxXtPM\"}).text.replace('\\n',\"\")\n",
    "    except:\n",
    "        rank = None\n",
    "    try:\n",
    "        rating = hun.find(\"span\",{\"class\":\"RateNumber-sc-14ktvqu-5 ifhFUL\"}).text.replace('\\n',\"\")\n",
    "    except:\n",
    "        rating = None\n",
    "    try:\n",
    "        reviews = hun.find(\"span\",{\"class\":\"Counter-sc-14ktvqu-0 bORxLl\"}).text.replace('\\n',\"\")\n",
    "    except:\n",
    "        reviews = None\n",
    "    try:\n",
    "        description = hun.find(\"p\",{\"class\":\"ProductInfo-sc-46oo5c-0 bRxlhS\"}).text.replace('\\n',\"\")\n",
    "    except:\n",
    "        description = None\n",
    "    #try:\n",
    "        #specifications = get_specs(prod_specifications)\n",
    "    #except:\n",
    "        #specifications = None\n",
    "        \n",
    "    try:\n",
    "        product_specs = get_prop()\n",
    "    except:\n",
    "        product_specs\n",
    "    try:\n",
    "        scrape_link = link\n",
    "        \n",
    "    except:\n",
    "        scrape_link = None\n",
    "    \n",
    "    try:\n",
    "        now = datetime.now()\n",
    "        date_scraped = now.strftime(\"%d/%m/%Y %H:%M:%S\")\n",
    "    except:\n",
    "        date_scraped = None\n",
    "\n",
    "        \n",
    "    tv = {\"Country Code\":country, \"Category\":category, \"Name\":name, \"Avg Price\": avg_price, \"Currency\":currency, \"Nb of Offers\":offs, \"Rank\":rank, \"Rating\":rating, \"Reviews\":reviews, \"Description\":description, \\\n",
    "        \"scrape_link\":scrape_link, \"date_scraped\":date_scraped, \"Product Specification\":product_specs}\n",
    "    \n",
    "    data.append(tv)"
   ]
  },
  {
   "cell_type": "code",
   "execution_count": 14,
   "metadata": {
    "pycharm": {
     "name": "#%%\n"
    }
   },
   "outputs": [
    {
     "data": {
      "text/plain": [
       "(10, 13)"
      ]
     },
     "execution_count": 14,
     "metadata": {},
     "output_type": "execute_result"
    }
   ],
   "source": [
    "df = pd.DataFrame.from_dict(data)\n",
    "df.shape"
   ]
  },
  {
   "cell_type": "code",
   "execution_count": 15,
   "metadata": {
    "pycharm": {
     "name": "#%%\n"
    }
   },
   "outputs": [
    {
     "data": {
      "text/plain": [
       "Index(['Country Code', 'Category', 'Name', 'Avg Price', 'Currency',\n",
       "       'Nb of Offers', 'Rank', 'Rating', 'Reviews', 'Description',\n",
       "       'scrape_link', 'date_scraped', 'Product Specification'],\n",
       "      dtype='object')"
      ]
     },
     "execution_count": 15,
     "metadata": {},
     "output_type": "execute_result"
    }
   ],
   "source": [
    "df.columns"
   ]
  },
  {
   "cell_type": "code",
   "execution_count": 17,
   "metadata": {
    "pycharm": {
     "name": "#%%\n"
    }
   },
   "outputs": [
    {
     "data": {
      "text/html": [
       "<div>\n",
       "<style scoped>\n",
       "    .dataframe tbody tr th:only-of-type {\n",
       "        vertical-align: middle;\n",
       "    }\n",
       "\n",
       "    .dataframe tbody tr th {\n",
       "        vertical-align: top;\n",
       "    }\n",
       "\n",
       "    .dataframe thead th {\n",
       "        text-align: right;\n",
       "    }\n",
       "</style>\n",
       "<table border=\"1\" class=\"dataframe\">\n",
       "  <thead>\n",
       "    <tr style=\"text-align: right;\">\n",
       "      <th></th>\n",
       "      <th>Country Code</th>\n",
       "      <th>Category</th>\n",
       "      <th>Name</th>\n",
       "      <th>Avg Price</th>\n",
       "      <th>Currency</th>\n",
       "      <th>Nb of Offers</th>\n",
       "      <th>Rank</th>\n",
       "      <th>Rating</th>\n",
       "      <th>Reviews</th>\n",
       "      <th>Description</th>\n",
       "      <th>...</th>\n",
       "      <th>HDR</th>\n",
       "      <th>Smart TV</th>\n",
       "      <th>Lanseringsår</th>\n",
       "      <th>Varumärke</th>\n",
       "      <th>Bildstorlek</th>\n",
       "      <th>Upplösning</th>\n",
       "      <th>Bildskärmsteknik</th>\n",
       "      <th>HDR</th>\n",
       "      <th>Smart TV</th>\n",
       "      <th>Lanseringsår</th>\n",
       "    </tr>\n",
       "  </thead>\n",
       "  <tbody>\n",
       "    <tr>\n",
       "      <th>0</th>\n",
       "      <td>SW</td>\n",
       "      <td>TV</td>\n",
       "      <td>LG OLED65C1 65\" 4K Ultra HD (3840x2160) OLED S...</td>\n",
       "      <td>17596.733333</td>\n",
       "      <td>SEK</td>\n",
       "      <td>15</td>\n",
       "      <td>Rank 1</td>\n",
       "      <td>4.2</td>\n",
       "      <td>(22 omdömen)</td>\n",
       "      <td>Det billigaste priset för LG OLED65C1 65\" 4K U...</td>\n",
       "      <td>...</td>\n",
       "      <td>Ja</td>\n",
       "      <td>Ja</td>\n",
       "      <td>2021</td>\n",
       "      <td>LG</td>\n",
       "      <td>65 tum</td>\n",
       "      <td>4K Ultra HD (3840x2160)</td>\n",
       "      <td>OLED</td>\n",
       "      <td>Ja</td>\n",
       "      <td>Ja</td>\n",
       "      <td>2021</td>\n",
       "    </tr>\n",
       "    <tr>\n",
       "      <th>1</th>\n",
       "      <td>SW</td>\n",
       "      <td>TV</td>\n",
       "      <td>LG OLED55C1 55\" 4K Ultra HD (3840x2160) OLED S...</td>\n",
       "      <td>12901.133333</td>\n",
       "      <td>SEK</td>\n",
       "      <td>15</td>\n",
       "      <td>Rank 2</td>\n",
       "      <td>4.1</td>\n",
       "      <td>(3 omdömen)</td>\n",
       "      <td>Det billigaste priset för LG OLED55C1 55\" 4K U...</td>\n",
       "      <td>...</td>\n",
       "      <td>Ja</td>\n",
       "      <td>Ja</td>\n",
       "      <td>2021</td>\n",
       "      <td>LG</td>\n",
       "      <td>55 tum</td>\n",
       "      <td>4K Ultra HD (3840x2160)</td>\n",
       "      <td>OLED</td>\n",
       "      <td>Ja</td>\n",
       "      <td>Ja</td>\n",
       "      <td>2021</td>\n",
       "    </tr>\n",
       "    <tr>\n",
       "      <th>2</th>\n",
       "      <td>SW</td>\n",
       "      <td>TV</td>\n",
       "      <td>Philips 58PUS9006 58\" 4K Ultra HD (3840x2160) ...</td>\n",
       "      <td>9675.714286</td>\n",
       "      <td>SEK</td>\n",
       "      <td>7</td>\n",
       "      <td>Rank 3</td>\n",
       "      <td>3.7</td>\n",
       "      <td>(2 omdömen)</td>\n",
       "      <td>Det billigaste priset för Philips 58PUS9006 58...</td>\n",
       "      <td>...</td>\n",
       "      <td>Ja</td>\n",
       "      <td>Ja</td>\n",
       "      <td></td>\n",
       "      <td>Philips</td>\n",
       "      <td>58 tum</td>\n",
       "      <td>4K Ultra HD (3840x2160)</td>\n",
       "      <td>LCD</td>\n",
       "      <td>Ja</td>\n",
       "      <td>Ja</td>\n",
       "      <td></td>\n",
       "    </tr>\n",
       "    <tr>\n",
       "      <th>3</th>\n",
       "      <td>SW</td>\n",
       "      <td>TV</td>\n",
       "      <td>LG OLED77B1 77\" 4K Ultra HD (3840x2160) OLED S...</td>\n",
       "      <td>23323.333333</td>\n",
       "      <td>SEK</td>\n",
       "      <td>3</td>\n",
       "      <td>Rank 4</td>\n",
       "      <td>4.1</td>\n",
       "      <td>(4 omdömen)</td>\n",
       "      <td>Det billigaste priset för LG OLED77B1 77\" 4K U...</td>\n",
       "      <td>...</td>\n",
       "      <td>Ja</td>\n",
       "      <td>Ja</td>\n",
       "      <td>2021</td>\n",
       "      <td>LG</td>\n",
       "      <td>77 tum</td>\n",
       "      <td>4K Ultra HD (3840x2160)</td>\n",
       "      <td>OLED</td>\n",
       "      <td>Ja</td>\n",
       "      <td>Ja</td>\n",
       "      <td>2021</td>\n",
       "    </tr>\n",
       "    <tr>\n",
       "      <th>4</th>\n",
       "      <td>SW</td>\n",
       "      <td>TV</td>\n",
       "      <td>LG OLED55B1 55\" 4K Ultra HD (3840x2160) OLED S...</td>\n",
       "      <td>10875.500000</td>\n",
       "      <td>SEK</td>\n",
       "      <td>10</td>\n",
       "      <td>Rank 5</td>\n",
       "      <td>4.2</td>\n",
       "      <td>(5 omdömen)</td>\n",
       "      <td>Det billigaste priset för LG OLED55B1 55\" 4K U...</td>\n",
       "      <td>...</td>\n",
       "      <td>Ja</td>\n",
       "      <td>Ja</td>\n",
       "      <td>2021</td>\n",
       "      <td>LG</td>\n",
       "      <td>55 tum</td>\n",
       "      <td>4K Ultra HD (3840x2160)</td>\n",
       "      <td>OLED</td>\n",
       "      <td>Ja</td>\n",
       "      <td>Ja</td>\n",
       "      <td>2021</td>\n",
       "    </tr>\n",
       "  </tbody>\n",
       "</table>\n",
       "<p>5 rows × 27 columns</p>\n",
       "</div>"
      ],
      "text/plain": [
       "  Country Code Category                                               Name  \\\n",
       "0           SW       TV  LG OLED65C1 65\" 4K Ultra HD (3840x2160) OLED S...   \n",
       "1           SW       TV  LG OLED55C1 55\" 4K Ultra HD (3840x2160) OLED S...   \n",
       "2           SW       TV  Philips 58PUS9006 58\" 4K Ultra HD (3840x2160) ...   \n",
       "3           SW       TV  LG OLED77B1 77\" 4K Ultra HD (3840x2160) OLED S...   \n",
       "4           SW       TV  LG OLED55B1 55\" 4K Ultra HD (3840x2160) OLED S...   \n",
       "\n",
       "      Avg Price Currency  Nb of Offers    Rank Rating       Reviews  \\\n",
       "0  17596.733333      SEK            15  Rank 1    4.2  (22 omdömen)   \n",
       "1  12901.133333      SEK            15  Rank 2    4.1   (3 omdömen)   \n",
       "2   9675.714286      SEK             7  Rank 3    3.7   (2 omdömen)   \n",
       "3  23323.333333      SEK             3  Rank 4    4.1   (4 omdömen)   \n",
       "4  10875.500000      SEK            10  Rank 5    4.2   (5 omdömen)   \n",
       "\n",
       "                                         Description  ... HDR Smart TV  \\\n",
       "0  Det billigaste priset för LG OLED65C1 65\" 4K U...  ...  Ja       Ja   \n",
       "1  Det billigaste priset för LG OLED55C1 55\" 4K U...  ...  Ja       Ja   \n",
       "2  Det billigaste priset för Philips 58PUS9006 58...  ...  Ja       Ja   \n",
       "3  Det billigaste priset för LG OLED77B1 77\" 4K U...  ...  Ja       Ja   \n",
       "4  Det billigaste priset för LG OLED55B1 55\" 4K U...  ...  Ja       Ja   \n",
       "\n",
       "  Lanseringsår Varumärke Bildstorlek               Upplösning  \\\n",
       "0         2021        LG      65 tum  4K Ultra HD (3840x2160)   \n",
       "1         2021        LG      55 tum  4K Ultra HD (3840x2160)   \n",
       "2                Philips      58 tum  4K Ultra HD (3840x2160)   \n",
       "3         2021        LG      77 tum  4K Ultra HD (3840x2160)   \n",
       "4         2021        LG      55 tum  4K Ultra HD (3840x2160)   \n",
       "\n",
       "  Bildskärmsteknik HDR Smart TV Lanseringsår  \n",
       "0             OLED  Ja       Ja         2021  \n",
       "1             OLED  Ja       Ja         2021  \n",
       "2              LCD  Ja       Ja               \n",
       "3             OLED  Ja       Ja         2021  \n",
       "4             OLED  Ja       Ja         2021  \n",
       "\n",
       "[5 rows x 27 columns]"
      ]
     },
     "execution_count": 17,
     "metadata": {},
     "output_type": "execute_result"
    }
   ],
   "source": [
    "spec_df = df['Product Specification'].apply(pd.Series)\n",
    "df = pd.concat([df, spec_df.reindex(df.index)], axis=1)\n",
    "#gen_spec_df = df[\"Generalspecifications\"].apply(pd.Series)\n",
    "#df = pd.concat([df, gen_spec_df.reindex(df.index)], axis=1)\n",
    "df_c = df.copy()\n",
    "# Remove specifications column\n",
    "#df.drop(['specifications'], axis=1, inplace=True)\n",
    "df.head()"
   ]
  },
  {
   "cell_type": "code",
   "execution_count": 18,
   "metadata": {
    "pycharm": {
     "name": "#%%\n"
    }
   },
   "outputs": [
    {
     "data": {
      "text/plain": [
       "Index(['Varumärke', 'Bildstorlek', 'Upplösning', 'Bildskärmsteknik', 'HDR',\n",
       "       'Smart TV', 'Lanseringsår'],\n",
       "      dtype='object')"
      ]
     },
     "execution_count": 18,
     "metadata": {},
     "output_type": "execute_result"
    }
   ],
   "source": [
    "spec_df.columns"
   ]
  },
  {
   "cell_type": "code",
   "execution_count": 13,
   "metadata": {
    "pycharm": {
     "name": "#%%\n"
    }
   },
   "outputs": [],
   "source": [
    "df.drop(['Varumärke'], axis=1, inplace=True)"
   ]
  },
  {
   "cell_type": "code",
   "execution_count": 14,
   "metadata": {
    "pycharm": {
     "name": "#%%\n"
    }
   },
   "outputs": [],
   "source": [
    "df = pd.concat([df, spec_df['Varumärke'].reindex(df.index)], axis=1)"
   ]
  },
  {
   "cell_type": "code",
   "execution_count": 15,
   "metadata": {
    "pycharm": {
     "name": "#%%\n"
    }
   },
   "outputs": [],
   "source": [
    "df.drop(['Product Specification'], axis=1, inplace=True)"
   ]
  },
  {
   "cell_type": "code",
   "execution_count": null,
   "metadata": {
    "pycharm": {
     "name": "#%%\n"
    }
   },
   "outputs": [],
   "source": [
    "['Country Code', 'Category', 'Name', 'Avg Price', 'Currency','Nb of Offers', 'Varumärke', 'scrape_link', 'date_scraped']"
   ]
  },
  {
   "cell_type": "code",
   "execution_count": null,
   "metadata": {
    "pycharm": {
     "name": "#%%\n"
    }
   },
   "outputs": [],
   "source": [
    "\n",
    "df_list = [ 'Rank', 'Rating', 'Reviews', 'Description',\n",
    "       'Generalspecifications', 'scrape_link', 'date_scraped',\n",
    "       'Product Specification', 'Bildstorlek', 'Upplösning',\n",
    "       'Bildskärmsteknik', 'HDR', 'Smart TV', 'Lanseringsår', 'Pris/tum',\n",
    "       'Bakbelysning', 'Diodplacering', 'Teknologier', 'Paneltyp',\n",
    "       'Produktnamn', 'Kategori', 'TV-mottagare, digital', 'Dubbla mottagare',\n",
    "       'Stöd för CI/CA-modul', 'CI+', 'Typ av digital-mottagare',\n",
    "       'Analog 3,5mm-ingång (Aux)', 'Digital optisk ut (S/PDIF)', 'HDMI',\n",
    "       'Antal HDMI-ingångar', 'HDCP-version', 'HDMI-version',\n",
    "       'Standarder som stöds', 'Hörlursutgång', 'Komponent in (YPbPr/YCbCr)',\n",
    "       'Komposit in', 'USB-kontakt', 'Inspelningsfunktion via USB (PVR)',\n",
    "       'USB 2.0', 'USB 3.1 Gen 1 (5Gbps)', 'USB-kontakter (totalt)', 'VGA in',\n",
    "       'Övriga anslutningar', 'Bildfrekvens', 'Bildförhållande',\n",
    "       'Bildstorlek (cm)', 'Ljusstyrka', 'Rörelseförbättring (frekvens/index)',\n",
    "       'Skärmtyp', 'Stödda videoformat', 'Uppdateringsfrekvens',\n",
    "       'Bildfiler som stöds', 'Ljudfiler som stöds', 'Ljudformat',\n",
    "       'Videofiler som stöds', 'Tillgängliga färger', 'Utformning panel',\n",
    "       'Djup, utan stativ', 'Höjd, utan stativ', 'Mått (BxHxD)', 'Bredd',\n",
    "       'Djup', 'Höjd', 'Produktvikt', 'Vikt, utan stativ', 'Funktioner',\n",
    "       'Internettjänster/appar som stöds', 'Operativsystem',\n",
    "       'Ethernet-anslutning', 'Trådlöst nätverk (Wi-Fi)',\n",
    "       'Trådlös nätverkstandard (IEEE 802.11)', '3D-stöd (3D-ready)', 'DLNA',\n",
    "       'Full HD (HD ready 1080p)', '4K120', 'Ultra HD-certifierad (UHD/4K)',\n",
    "       'Typ av HDR', 'Streaming-standarder', 'VESA-fäste', 'Typ av VESA-fäste',\n",
    "       'Inbyggda högtalare', 'Processorhastighet', 'Anslutning för 9V/12V/14V',\n",
    "       'Effektförbrukning drift (min-max)',\n",
    "       'Effektförbrukning standby/viloläge',\n",
    "       'Energiförbrukning i HDR-läge (per 1000h)',\n",
    "       'Energiförbrukning i SDR-läge (per 1000h)', 'Energiklass (A-G)',\n",
    "       'Energiklass (HDR)']"
   ]
  },
  {
   "cell_type": "code",
   "execution_count": 16,
   "metadata": {
    "pycharm": {
     "name": "#%%\n"
    }
   },
   "outputs": [],
   "source": [
    "#df2 = df.reset_index().rename(columns={'index':'id'})\n",
    "df_long = df.set_index(['Country Code', 'Varumärke','Category', 'Name', 'Nb of Offers', 'Lanseringsår', 'Avg Price', 'Currency', 'scrape_link', 'date_scraped']).stack().reset_index()"
   ]
  },
  {
   "cell_type": "code",
   "execution_count": 17,
   "metadata": {
    "pycharm": {
     "name": "#%%\n"
    }
   },
   "outputs": [
    {
     "data": {
      "text/html": [
       "<div>\n",
       "<style scoped>\n",
       "    .dataframe tbody tr th:only-of-type {\n",
       "        vertical-align: middle;\n",
       "    }\n",
       "\n",
       "    .dataframe tbody tr th {\n",
       "        vertical-align: top;\n",
       "    }\n",
       "\n",
       "    .dataframe thead th {\n",
       "        text-align: right;\n",
       "    }\n",
       "</style>\n",
       "<table border=\"1\" class=\"dataframe\">\n",
       "  <thead>\n",
       "    <tr style=\"text-align: right;\">\n",
       "      <th></th>\n",
       "      <th>Country Code</th>\n",
       "      <th>Varumärke</th>\n",
       "      <th>Category</th>\n",
       "      <th>Name</th>\n",
       "      <th>Nb of Offers</th>\n",
       "      <th>Lanseringsår</th>\n",
       "      <th>Avg Price</th>\n",
       "      <th>Currency</th>\n",
       "      <th>scrape_link</th>\n",
       "      <th>date_scraped</th>\n",
       "      <th>level_10</th>\n",
       "      <th>0</th>\n",
       "    </tr>\n",
       "  </thead>\n",
       "  <tbody>\n",
       "    <tr>\n",
       "      <th>0</th>\n",
       "      <td>SW</td>\n",
       "      <td>LG</td>\n",
       "      <td>TV</td>\n",
       "      <td>LG OLED65C1 65\" 4K Ultra HD (3840x2160) OLED S...</td>\n",
       "      <td>15</td>\n",
       "      <td>2021</td>\n",
       "      <td>17598.4</td>\n",
       "      <td>SEK</td>\n",
       "      <td>https://www.prisjakt.nu/produkt.php?p=5732274</td>\n",
       "      <td>12/08/2022 21:43:56</td>\n",
       "      <td>Rank</td>\n",
       "      <td>Rank 1</td>\n",
       "    </tr>\n",
       "    <tr>\n",
       "      <th>1</th>\n",
       "      <td>SW</td>\n",
       "      <td>LG</td>\n",
       "      <td>TV</td>\n",
       "      <td>LG OLED65C1 65\" 4K Ultra HD (3840x2160) OLED S...</td>\n",
       "      <td>15</td>\n",
       "      <td>2021</td>\n",
       "      <td>17598.4</td>\n",
       "      <td>SEK</td>\n",
       "      <td>https://www.prisjakt.nu/produkt.php?p=5732274</td>\n",
       "      <td>12/08/2022 21:43:56</td>\n",
       "      <td>Rating</td>\n",
       "      <td>4.2</td>\n",
       "    </tr>\n",
       "    <tr>\n",
       "      <th>2</th>\n",
       "      <td>SW</td>\n",
       "      <td>LG</td>\n",
       "      <td>TV</td>\n",
       "      <td>LG OLED65C1 65\" 4K Ultra HD (3840x2160) OLED S...</td>\n",
       "      <td>15</td>\n",
       "      <td>2021</td>\n",
       "      <td>17598.4</td>\n",
       "      <td>SEK</td>\n",
       "      <td>https://www.prisjakt.nu/produkt.php?p=5732274</td>\n",
       "      <td>12/08/2022 21:43:56</td>\n",
       "      <td>Reviews</td>\n",
       "      <td>(22 omdömen)</td>\n",
       "    </tr>\n",
       "    <tr>\n",
       "      <th>3</th>\n",
       "      <td>SW</td>\n",
       "      <td>LG</td>\n",
       "      <td>TV</td>\n",
       "      <td>LG OLED65C1 65\" 4K Ultra HD (3840x2160) OLED S...</td>\n",
       "      <td>15</td>\n",
       "      <td>2021</td>\n",
       "      <td>17598.4</td>\n",
       "      <td>SEK</td>\n",
       "      <td>https://www.prisjakt.nu/produkt.php?p=5732274</td>\n",
       "      <td>12/08/2022 21:43:56</td>\n",
       "      <td>Description</td>\n",
       "      <td>Det billigaste priset för LG OLED65C1 65\" 4K U...</td>\n",
       "    </tr>\n",
       "    <tr>\n",
       "      <th>4</th>\n",
       "      <td>SW</td>\n",
       "      <td>LG</td>\n",
       "      <td>TV</td>\n",
       "      <td>LG OLED65C1 65\" 4K Ultra HD (3840x2160) OLED S...</td>\n",
       "      <td>15</td>\n",
       "      <td>2021</td>\n",
       "      <td>17598.4</td>\n",
       "      <td>SEK</td>\n",
       "      <td>https://www.prisjakt.nu/produkt.php?p=5732274</td>\n",
       "      <td>12/08/2022 21:43:56</td>\n",
       "      <td>Bildstorlek</td>\n",
       "      <td>65 tum</td>\n",
       "    </tr>\n",
       "    <tr>\n",
       "      <th>...</th>\n",
       "      <td>...</td>\n",
       "      <td>...</td>\n",
       "      <td>...</td>\n",
       "      <td>...</td>\n",
       "      <td>...</td>\n",
       "      <td>...</td>\n",
       "      <td>...</td>\n",
       "      <td>...</td>\n",
       "      <td>...</td>\n",
       "      <td>...</td>\n",
       "      <td>...</td>\n",
       "      <td>...</td>\n",
       "    </tr>\n",
       "    <tr>\n",
       "      <th>79</th>\n",
       "      <td>SW</td>\n",
       "      <td>LG</td>\n",
       "      <td>TV</td>\n",
       "      <td>LG 65QNED99 65\" 8K (7680x4320) LCD Smart TV</td>\n",
       "      <td>6</td>\n",
       "      <td>2021</td>\n",
       "      <td>40322.5</td>\n",
       "      <td>SEK</td>\n",
       "      <td>https://www.prisjakt.nu/produkt.php?p=5753940</td>\n",
       "      <td>12/08/2022 21:48:12</td>\n",
       "      <td>Bildstorlek</td>\n",
       "      <td>65 tum</td>\n",
       "    </tr>\n",
       "    <tr>\n",
       "      <th>80</th>\n",
       "      <td>SW</td>\n",
       "      <td>LG</td>\n",
       "      <td>TV</td>\n",
       "      <td>LG 65QNED99 65\" 8K (7680x4320) LCD Smart TV</td>\n",
       "      <td>6</td>\n",
       "      <td>2021</td>\n",
       "      <td>40322.5</td>\n",
       "      <td>SEK</td>\n",
       "      <td>https://www.prisjakt.nu/produkt.php?p=5753940</td>\n",
       "      <td>12/08/2022 21:48:12</td>\n",
       "      <td>Upplösning</td>\n",
       "      <td>8K (7680x4320)</td>\n",
       "    </tr>\n",
       "    <tr>\n",
       "      <th>81</th>\n",
       "      <td>SW</td>\n",
       "      <td>LG</td>\n",
       "      <td>TV</td>\n",
       "      <td>LG 65QNED99 65\" 8K (7680x4320) LCD Smart TV</td>\n",
       "      <td>6</td>\n",
       "      <td>2021</td>\n",
       "      <td>40322.5</td>\n",
       "      <td>SEK</td>\n",
       "      <td>https://www.prisjakt.nu/produkt.php?p=5753940</td>\n",
       "      <td>12/08/2022 21:48:12</td>\n",
       "      <td>Bildskärmsteknik</td>\n",
       "      <td>LCD</td>\n",
       "    </tr>\n",
       "    <tr>\n",
       "      <th>82</th>\n",
       "      <td>SW</td>\n",
       "      <td>LG</td>\n",
       "      <td>TV</td>\n",
       "      <td>LG 65QNED99 65\" 8K (7680x4320) LCD Smart TV</td>\n",
       "      <td>6</td>\n",
       "      <td>2021</td>\n",
       "      <td>40322.5</td>\n",
       "      <td>SEK</td>\n",
       "      <td>https://www.prisjakt.nu/produkt.php?p=5753940</td>\n",
       "      <td>12/08/2022 21:48:12</td>\n",
       "      <td>HDR</td>\n",
       "      <td>Ja</td>\n",
       "    </tr>\n",
       "    <tr>\n",
       "      <th>83</th>\n",
       "      <td>SW</td>\n",
       "      <td>LG</td>\n",
       "      <td>TV</td>\n",
       "      <td>LG 65QNED99 65\" 8K (7680x4320) LCD Smart TV</td>\n",
       "      <td>6</td>\n",
       "      <td>2021</td>\n",
       "      <td>40322.5</td>\n",
       "      <td>SEK</td>\n",
       "      <td>https://www.prisjakt.nu/produkt.php?p=5753940</td>\n",
       "      <td>12/08/2022 21:48:12</td>\n",
       "      <td>Smart TV</td>\n",
       "      <td>Ja</td>\n",
       "    </tr>\n",
       "  </tbody>\n",
       "</table>\n",
       "<p>84 rows × 12 columns</p>\n",
       "</div>"
      ],
      "text/plain": [
       "   Country Code Varumärke Category  \\\n",
       "0            SW        LG       TV   \n",
       "1            SW        LG       TV   \n",
       "2            SW        LG       TV   \n",
       "3            SW        LG       TV   \n",
       "4            SW        LG       TV   \n",
       "..          ...       ...      ...   \n",
       "79           SW        LG       TV   \n",
       "80           SW        LG       TV   \n",
       "81           SW        LG       TV   \n",
       "82           SW        LG       TV   \n",
       "83           SW        LG       TV   \n",
       "\n",
       "                                                 Name  Nb of Offers  \\\n",
       "0   LG OLED65C1 65\" 4K Ultra HD (3840x2160) OLED S...            15   \n",
       "1   LG OLED65C1 65\" 4K Ultra HD (3840x2160) OLED S...            15   \n",
       "2   LG OLED65C1 65\" 4K Ultra HD (3840x2160) OLED S...            15   \n",
       "3   LG OLED65C1 65\" 4K Ultra HD (3840x2160) OLED S...            15   \n",
       "4   LG OLED65C1 65\" 4K Ultra HD (3840x2160) OLED S...            15   \n",
       "..                                                ...           ...   \n",
       "79        LG 65QNED99 65\" 8K (7680x4320) LCD Smart TV             6   \n",
       "80        LG 65QNED99 65\" 8K (7680x4320) LCD Smart TV             6   \n",
       "81        LG 65QNED99 65\" 8K (7680x4320) LCD Smart TV             6   \n",
       "82        LG 65QNED99 65\" 8K (7680x4320) LCD Smart TV             6   \n",
       "83        LG 65QNED99 65\" 8K (7680x4320) LCD Smart TV             6   \n",
       "\n",
       "   Lanseringsår  Avg Price Currency  \\\n",
       "0          2021    17598.4      SEK   \n",
       "1          2021    17598.4      SEK   \n",
       "2          2021    17598.4      SEK   \n",
       "3          2021    17598.4      SEK   \n",
       "4          2021    17598.4      SEK   \n",
       "..          ...        ...      ...   \n",
       "79         2021    40322.5      SEK   \n",
       "80         2021    40322.5      SEK   \n",
       "81         2021    40322.5      SEK   \n",
       "82         2021    40322.5      SEK   \n",
       "83         2021    40322.5      SEK   \n",
       "\n",
       "                                      scrape_link         date_scraped  \\\n",
       "0   https://www.prisjakt.nu/produkt.php?p=5732274  12/08/2022 21:43:56   \n",
       "1   https://www.prisjakt.nu/produkt.php?p=5732274  12/08/2022 21:43:56   \n",
       "2   https://www.prisjakt.nu/produkt.php?p=5732274  12/08/2022 21:43:56   \n",
       "3   https://www.prisjakt.nu/produkt.php?p=5732274  12/08/2022 21:43:56   \n",
       "4   https://www.prisjakt.nu/produkt.php?p=5732274  12/08/2022 21:43:56   \n",
       "..                                            ...                  ...   \n",
       "79  https://www.prisjakt.nu/produkt.php?p=5753940  12/08/2022 21:48:12   \n",
       "80  https://www.prisjakt.nu/produkt.php?p=5753940  12/08/2022 21:48:12   \n",
       "81  https://www.prisjakt.nu/produkt.php?p=5753940  12/08/2022 21:48:12   \n",
       "82  https://www.prisjakt.nu/produkt.php?p=5753940  12/08/2022 21:48:12   \n",
       "83  https://www.prisjakt.nu/produkt.php?p=5753940  12/08/2022 21:48:12   \n",
       "\n",
       "            level_10                                                  0  \n",
       "0               Rank                                             Rank 1  \n",
       "1             Rating                                                4.2  \n",
       "2            Reviews                                       (22 omdömen)  \n",
       "3        Description  Det billigaste priset för LG OLED65C1 65\" 4K U...  \n",
       "4        Bildstorlek                                             65 tum  \n",
       "..               ...                                                ...  \n",
       "79       Bildstorlek                                             65 tum  \n",
       "80        Upplösning                                     8K (7680x4320)  \n",
       "81  Bildskärmsteknik                                                LCD  \n",
       "82               HDR                                                 Ja  \n",
       "83          Smart TV                                                 Ja  \n",
       "\n",
       "[84 rows x 12 columns]"
      ]
     },
     "execution_count": 17,
     "metadata": {},
     "output_type": "execute_result"
    }
   ],
   "source": [
    "df_long"
   ]
  },
  {
   "cell_type": "code",
   "execution_count": 18,
   "metadata": {
    "pycharm": {
     "name": "#%%\n"
    }
   },
   "outputs": [
    {
     "data": {
      "text/html": [
       "<div>\n",
       "<style scoped>\n",
       "    .dataframe tbody tr th:only-of-type {\n",
       "        vertical-align: middle;\n",
       "    }\n",
       "\n",
       "    .dataframe tbody tr th {\n",
       "        vertical-align: top;\n",
       "    }\n",
       "\n",
       "    .dataframe thead th {\n",
       "        text-align: right;\n",
       "    }\n",
       "</style>\n",
       "<table border=\"1\" class=\"dataframe\">\n",
       "  <thead>\n",
       "    <tr style=\"text-align: right;\">\n",
       "      <th></th>\n",
       "      <th>Country Code</th>\n",
       "      <th>Category</th>\n",
       "      <th>Name</th>\n",
       "      <th>Avg Price</th>\n",
       "      <th>Currency</th>\n",
       "      <th>Nb of Offers</th>\n",
       "      <th>Rank</th>\n",
       "      <th>Rating</th>\n",
       "      <th>Reviews</th>\n",
       "      <th>Description</th>\n",
       "      <th>scrape_link</th>\n",
       "      <th>date_scraped</th>\n",
       "      <th>Bildstorlek</th>\n",
       "      <th>Upplösning</th>\n",
       "      <th>Bildskärmsteknik</th>\n",
       "      <th>HDR</th>\n",
       "      <th>Smart TV</th>\n",
       "      <th>Lanseringsår</th>\n",
       "      <th>Varumärke</th>\n",
       "    </tr>\n",
       "  </thead>\n",
       "  <tbody>\n",
       "    <tr>\n",
       "      <th>0</th>\n",
       "      <td>SW</td>\n",
       "      <td>TV</td>\n",
       "      <td>LG OLED65C1 65\" 4K Ultra HD (3840x2160) OLED S...</td>\n",
       "      <td>17598.400000</td>\n",
       "      <td>SEK</td>\n",
       "      <td>15</td>\n",
       "      <td>Rank 1</td>\n",
       "      <td>4.2</td>\n",
       "      <td>(22 omdömen)</td>\n",
       "      <td>Det billigaste priset för LG OLED65C1 65\" 4K U...</td>\n",
       "      <td>https://www.prisjakt.nu/produkt.php?p=5732274</td>\n",
       "      <td>12/08/2022 21:43:56</td>\n",
       "      <td>65 tum</td>\n",
       "      <td>4K Ultra HD (3840x2160)</td>\n",
       "      <td>OLED</td>\n",
       "      <td>Ja</td>\n",
       "      <td>Ja</td>\n",
       "      <td>2021</td>\n",
       "      <td>LG</td>\n",
       "    </tr>\n",
       "    <tr>\n",
       "      <th>1</th>\n",
       "      <td>SW</td>\n",
       "      <td>TV</td>\n",
       "      <td>LG OLED55C1 55\" 4K Ultra HD (3840x2160) OLED S...</td>\n",
       "      <td>12901.133333</td>\n",
       "      <td>SEK</td>\n",
       "      <td>15</td>\n",
       "      <td>Rank 2</td>\n",
       "      <td>4.1</td>\n",
       "      <td>(3 omdömen)</td>\n",
       "      <td>Det billigaste priset för LG OLED55C1 55\" 4K U...</td>\n",
       "      <td>https://www.prisjakt.nu/produkt.php?p=5732268</td>\n",
       "      <td>12/08/2022 21:44:15</td>\n",
       "      <td>55 tum</td>\n",
       "      <td>4K Ultra HD (3840x2160)</td>\n",
       "      <td>OLED</td>\n",
       "      <td>Ja</td>\n",
       "      <td>Ja</td>\n",
       "      <td>2021</td>\n",
       "      <td>LG</td>\n",
       "    </tr>\n",
       "    <tr>\n",
       "      <th>2</th>\n",
       "      <td>SW</td>\n",
       "      <td>TV</td>\n",
       "      <td>Philips 58PUS9006 58\" 4K Ultra HD (3840x2160) ...</td>\n",
       "      <td>9675.714286</td>\n",
       "      <td>SEK</td>\n",
       "      <td>7</td>\n",
       "      <td>Rank 3</td>\n",
       "      <td>3.7</td>\n",
       "      <td>(2 omdömen)</td>\n",
       "      <td>Det billigaste priset för Philips 58PUS9006 58...</td>\n",
       "      <td>https://www.prisjakt.nu/produkt.php?p=5785188</td>\n",
       "      <td>12/08/2022 21:44:44</td>\n",
       "      <td>58 tum</td>\n",
       "      <td>4K Ultra HD (3840x2160)</td>\n",
       "      <td>LCD</td>\n",
       "      <td>Ja</td>\n",
       "      <td>Ja</td>\n",
       "      <td></td>\n",
       "      <td>Philips</td>\n",
       "    </tr>\n",
       "    <tr>\n",
       "      <th>3</th>\n",
       "      <td>SW</td>\n",
       "      <td>TV</td>\n",
       "      <td>LG OLED77B1 77\" 4K Ultra HD (3840x2160) OLED S...</td>\n",
       "      <td>23323.333333</td>\n",
       "      <td>SEK</td>\n",
       "      <td>3</td>\n",
       "      <td>Rank 4</td>\n",
       "      <td>4.1</td>\n",
       "      <td>(4 omdömen)</td>\n",
       "      <td>Det billigaste priset för LG OLED77B1 77\" 4K U...</td>\n",
       "      <td>https://www.prisjakt.nu/produkt.php?p=5724842</td>\n",
       "      <td>12/08/2022 21:45:20</td>\n",
       "      <td>77 tum</td>\n",
       "      <td>4K Ultra HD (3840x2160)</td>\n",
       "      <td>OLED</td>\n",
       "      <td>Ja</td>\n",
       "      <td>Ja</td>\n",
       "      <td>2021</td>\n",
       "      <td>LG</td>\n",
       "    </tr>\n",
       "    <tr>\n",
       "      <th>4</th>\n",
       "      <td>SW</td>\n",
       "      <td>TV</td>\n",
       "      <td>LG OLED55B1 55\" 4K Ultra HD (3840x2160) OLED S...</td>\n",
       "      <td>10875.500000</td>\n",
       "      <td>SEK</td>\n",
       "      <td>10</td>\n",
       "      <td>Rank 5</td>\n",
       "      <td>4.2</td>\n",
       "      <td>(5 omdömen)</td>\n",
       "      <td>Det billigaste priset för LG OLED55B1 55\" 4K U...</td>\n",
       "      <td>https://www.prisjakt.nu/produkt.php?p=5724832</td>\n",
       "      <td>12/08/2022 21:45:51</td>\n",
       "      <td>55 tum</td>\n",
       "      <td>4K Ultra HD (3840x2160)</td>\n",
       "      <td>OLED</td>\n",
       "      <td>Ja</td>\n",
       "      <td>Ja</td>\n",
       "      <td>2021</td>\n",
       "      <td>LG</td>\n",
       "    </tr>\n",
       "  </tbody>\n",
       "</table>\n",
       "</div>"
      ],
      "text/plain": [
       "  Country Code Category                                               Name  \\\n",
       "0           SW       TV  LG OLED65C1 65\" 4K Ultra HD (3840x2160) OLED S...   \n",
       "1           SW       TV  LG OLED55C1 55\" 4K Ultra HD (3840x2160) OLED S...   \n",
       "2           SW       TV  Philips 58PUS9006 58\" 4K Ultra HD (3840x2160) ...   \n",
       "3           SW       TV  LG OLED77B1 77\" 4K Ultra HD (3840x2160) OLED S...   \n",
       "4           SW       TV  LG OLED55B1 55\" 4K Ultra HD (3840x2160) OLED S...   \n",
       "\n",
       "      Avg Price Currency  Nb of Offers    Rank Rating       Reviews  \\\n",
       "0  17598.400000      SEK            15  Rank 1    4.2  (22 omdömen)   \n",
       "1  12901.133333      SEK            15  Rank 2    4.1   (3 omdömen)   \n",
       "2   9675.714286      SEK             7  Rank 3    3.7   (2 omdömen)   \n",
       "3  23323.333333      SEK             3  Rank 4    4.1   (4 omdömen)   \n",
       "4  10875.500000      SEK            10  Rank 5    4.2   (5 omdömen)   \n",
       "\n",
       "                                         Description  \\\n",
       "0  Det billigaste priset för LG OLED65C1 65\" 4K U...   \n",
       "1  Det billigaste priset för LG OLED55C1 55\" 4K U...   \n",
       "2  Det billigaste priset för Philips 58PUS9006 58...   \n",
       "3  Det billigaste priset för LG OLED77B1 77\" 4K U...   \n",
       "4  Det billigaste priset för LG OLED55B1 55\" 4K U...   \n",
       "\n",
       "                                     scrape_link         date_scraped  \\\n",
       "0  https://www.prisjakt.nu/produkt.php?p=5732274  12/08/2022 21:43:56   \n",
       "1  https://www.prisjakt.nu/produkt.php?p=5732268  12/08/2022 21:44:15   \n",
       "2  https://www.prisjakt.nu/produkt.php?p=5785188  12/08/2022 21:44:44   \n",
       "3  https://www.prisjakt.nu/produkt.php?p=5724842  12/08/2022 21:45:20   \n",
       "4  https://www.prisjakt.nu/produkt.php?p=5724832  12/08/2022 21:45:51   \n",
       "\n",
       "  Bildstorlek               Upplösning Bildskärmsteknik HDR Smart TV  \\\n",
       "0      65 tum  4K Ultra HD (3840x2160)             OLED  Ja       Ja   \n",
       "1      55 tum  4K Ultra HD (3840x2160)             OLED  Ja       Ja   \n",
       "2      58 tum  4K Ultra HD (3840x2160)              LCD  Ja       Ja   \n",
       "3      77 tum  4K Ultra HD (3840x2160)             OLED  Ja       Ja   \n",
       "4      55 tum  4K Ultra HD (3840x2160)             OLED  Ja       Ja   \n",
       "\n",
       "  Lanseringsår Varumärke  \n",
       "0         2021        LG  \n",
       "1         2021        LG  \n",
       "2                Philips  \n",
       "3         2021        LG  \n",
       "4         2021        LG  "
      ]
     },
     "execution_count": 18,
     "metadata": {},
     "output_type": "execute_result"
    }
   ],
   "source": [
    "df.head()"
   ]
  },
  {
   "cell_type": "code",
   "execution_count": 20,
   "metadata": {
    "pycharm": {
     "name": "#%%\n"
    }
   },
   "outputs": [],
   "source": [
    "df.to_csv(\"data_50_products.csv\")"
   ]
  },
  {
   "cell_type": "markdown",
   "metadata": {
    "pycharm": {
     "name": "#%% md\n"
    }
   },
   "source": [
    "    prod_specifications = hun.find_all(\"div\",{\"class\":\"Column-sc-1jnk5ag-2 bIOAXd\"})\n",
    "    def get_specs(prod_specifications):\n",
    "        nam = []\n",
    "        val = []\n",
    "        for spec in prod_specifications:\n",
    "            for prop in spec.find_all(\"span\", {\"class\":\"Text--bzqghn wmwsE bodysmalltext PropertyName-sc-1jnk5ag-5 hEdIXF\"}):\n",
    "                prop_n  = prop.get_text()\n",
    "                nam.append(prop_n)\n",
    "            for prop in spec.find_all(\"span\", {\"class\":\"Text--bzqghn ddqBq bodysmalltext PropertyValue-sc-1jnk5ag-6 etcKHO\"}):\n",
    "                prop_v  = prop.get_text()\n",
    "                val.append(prop_v)\n",
    "        specs = {nam[i]: val[i] for i in range(len(nam))}\n",
    "        return(specs)"
   ]
  },
  {
   "cell_type": "code",
   "execution_count": 21,
   "metadata": {
    "pycharm": {
     "name": "#%%\n"
    }
   },
   "outputs": [],
   "source": [
    "df_long.to_csv('df_long_first_50.csv')"
   ]
  }
 ],
 "metadata": {
  "kernelspec": {
   "display_name": "Python 3 (ipykernel)",
   "language": "python",
   "name": "python3"
  },
  "language_info": {
   "codemirror_mode": {
    "name": "ipython",
    "version": 3
   },
   "file_extension": ".py",
   "mimetype": "text/x-python",
   "name": "python",
   "nbconvert_exporter": "python",
   "pygments_lexer": "ipython3",
   "version": "3.9.6"
  },
  "vscode": {
   "interpreter": {
    "hash": "82ed002fa2d4956f5c6aec99bcefe0f73a9f79882f3c9e2319b14958a5896ac5"
   }
  }
 },
 "nbformat": 4,
 "nbformat_minor": 4
}