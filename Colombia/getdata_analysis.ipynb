{
 "cells": [
  {
   "cell_type": "markdown",
   "metadata": {},
   "source": [
    "Python 3.11.3 (tags/v3.11.3:f3909b8, Apr  4 2023, 23:49:59) [MSC v.1934 64 bit (AMD64)]  \n",
    "Type 'copyright', 'credits' or 'license' for more information  \n",
    "IPython 8.12.0 -- An enhanced Interactive Python. Type '?' for help.  \n"
   ]
  },
  {
   "cell_type": "code",
   "execution_count": 1,
   "metadata": {},
   "outputs": [
    {
     "data": {
      "text/plain": [
       "403"
      ]
     },
     "execution_count": 1,
     "metadata": {},
     "output_type": "execute_result"
    }
   ],
   "source": [
    "import requests\n",
    "link = \"https://www.falabella.com.co/falabella-co/product/33972788/Televisor-Hyundai-32-Pulgadas-Hd-Smart-Android-By-Google/33972788\"\n",
    "\n",
    "requests.get(link).status_code"
   ]
  },
  {
   "cell_type": "code",
   "execution_count": 2,
   "metadata": {},
   "outputs": [
    {
     "name": "stderr",
     "output_type": "stream",
     "text": [
      "<ipython-input-2-c7dfeb617fca>:19: DeprecationWarning: executable_path has been deprecated, please pass in a Service object\n",
      "  driver = webdriver.Chrome(executable_path=chrome_driver_path, options=chrome_options)\n"
     ]
    }
   ],
   "source": [
    "from selenium import webdriver\n",
    "from selenium.webdriver.chrome.options import Options\n",
    "from selenium.webdriver.common.action_chains import ActionChains\n",
    "from selenium.webdriver.common.by import By\n",
    "\n",
    "# Set the path to the chromedriver executable\n",
    "chrome_driver_path = '/path/to/chromedriver'\n",
    "\n",
    "# Configure Chrome options\n",
    "chrome_options = Options()\n",
    "#chrome_options.add_argument(\"--headless\")  # Run Chrome in headless mode (without a visible GUI)\n",
    "chrome_options.add_argument(\"--no-sandbox\")\n",
    "chrome_options.add_argument(\"--disable-dev-shm-usage\")\n",
    "chrome_options.add_argument(\"--start-maximized\")  # Maximize the browser window\n",
    "chrome_options.add_argument(\"--force-device-scale-factor=0.6\")  # Set zoom level to 60%\n",
    "\n",
    "# Create a new instance of the Chrome driver\n",
    "driver = webdriver.Chrome(executable_path=chrome_driver_path, options=chrome_options)\n",
    "\n",
    "# Load the webpage\n",
    "\n",
    "link = \"https://www.falabella.com.co/falabella-co/product/33972788/Televisor-Hyundai-32-Pulgadas-Hd-Smart-Android-By-Google/33972788\"\n",
    "\n",
    "driver.get(link)"
   ]
  },
  {
   "cell_type": "code",
   "execution_count": 3,
   "metadata": {},
   "outputs": [
    {
     "name": "stderr",
     "output_type": "stream",
     "text": [
      "<ipython-input-3-1d5ca32b87ad>:19: DeprecationWarning: executable_path has been deprecated, please pass in a Service object\n",
      "  driver = webdriver.Chrome(executable_path=chrome_driver_path, options=chrome_options)\n"
     ]
    }
   ],
   "source": [
    "from selenium import webdriver\n",
    "from selenium.webdriver.chrome.options import Options\n",
    "from selenium.webdriver.common.action_chains import ActionChains\n",
    "from selenium.webdriver.common.by import By\n",
    "\n",
    "# Set the path to the chromedriver executable\n",
    "chrome_driver_path = '/path/to/chromedriver'\n",
    "\n",
    "# Configure Chrome options\n",
    "chrome_options = Options()\n",
    "#chrome_options.add_argument(\"--headless\")  # Run Chrome in headless mode (without a visible GUI)\n",
    "chrome_options.add_argument(\"--no-sandbox\")\n",
    "chrome_options.add_argument(\"--disable-dev-shm-usage\")\n",
    "chrome_options.add_argument(\"--start-maximized\")  # Maximize the browser window\n",
    "chrome_options.add_argument(\"--force-device-scale-factor=0.3\")  # Set zoom level to 60%\n",
    "\n",
    "# Create a new instance of the Chrome driver\n",
    "driver = webdriver.Chrome(executable_path=chrome_driver_path, options=chrome_options)\n",
    "\n",
    "# Load the webpage\n",
    "\n",
    "link = \"https://www.falabella.com.co/falabella-co/product/33972788/Televisor-Hyundai-32-Pulgadas-Hd-Smart-Android-By-Google/33972788\"\n",
    "\n",
    "driver.get(link)"
   ]
  },
  {
   "cell_type": "code",
   "execution_count": 4,
   "metadata": {},
   "outputs": [
    {
     "ename": "NameError",
     "evalue": "name 'HTMLParser' is not defined",
     "output_type": "error",
     "traceback": [
      "\u001b[1;31m---------------------------------------------------------------------------\u001b[0m",
      "\u001b[1;31mNameError\u001b[0m                                 Traceback (most recent call last)",
      "\u001b[1;32md:\\ScrapingProjects\\Colombia\\getdata.py\u001b[0m in \u001b[0;36mline 2\n\u001b[0;32m      <a href='file:///d%3A/ScrapingProjects/Colombia/getdata.py?line=25'>26</a>\u001b[0m \u001b[39m# %%\u001b[39;00m\n\u001b[1;32m----> <a href='file:///d%3A/ScrapingProjects/Colombia/getdata.py?line=26'>27</a>\u001b[0m parser \u001b[39m=\u001b[39m HTMLParser(driver\u001b[39m.\u001b[39mpage_source)\n\u001b[0;32m      <a href='file:///d%3A/ScrapingProjects/Colombia/getdata.py?line=27'>28</a>\u001b[0m parser\u001b[39m.\u001b[39mcss_first(\u001b[39m\"\u001b[39m\u001b[39mtable[class = \u001b[39m\u001b[39m'\u001b[39m\u001b[39mjsx-428502957 specification-table\u001b[39m\u001b[39m'\u001b[39m\u001b[39m]\u001b[39m\u001b[39m\"\u001b[39m)\n",
      "\u001b[1;31mNameError\u001b[0m: name 'HTMLParser' is not defined"
     ]
    }
   ],
   "source": [
    "parser = HTMLParser(driver.page_source)\n",
    "parser.css_first(\"table[class = 'jsx-428502957 specification-table']\")"
   ]
  },
  {
   "cell_type": "code",
   "execution_count": 5,
   "metadata": {},
   "outputs": [
    {
     "name": "stderr",
     "output_type": "stream",
     "text": [
      "<ipython-input-5-3fdb3eafc8bd>:20: DeprecationWarning: executable_path has been deprecated, please pass in a Service object\n",
      "  driver = webdriver.Chrome(executable_path=chrome_driver_path, options=chrome_options)\n"
     ]
    }
   ],
   "source": [
    "from selenium import webdriver\n",
    "from selenium.webdriver.chrome.options import Options\n",
    "from selenium.webdriver.common.action_chains import ActionChains\n",
    "from selenium.webdriver.common.by import By\n",
    "from selectolax.parser import HTMLParser\n",
    "\n",
    "# Set the path to the chromedriver executable\n",
    "chrome_driver_path = '/path/to/chromedriver'\n",
    "\n",
    "# Configure Chrome options\n",
    "chrome_options = Options()\n",
    "#chrome_options.add_argument(\"--headless\")  # Run Chrome in headless mode (without a visible GUI)\n",
    "chrome_options.add_argument(\"--no-sandbox\")\n",
    "chrome_options.add_argument(\"--disable-dev-shm-usage\")\n",
    "chrome_options.add_argument(\"--start-maximized\")  # Maximize the browser window\n",
    "chrome_options.add_argument(\"--force-device-scale-factor=0.3\")  # Set zoom level to 60%\n",
    "\n",
    "# Create a new instance of the Chrome driver\n",
    "driver = webdriver.Chrome(executable_path=chrome_driver_path, options=chrome_options)\n",
    "\n",
    "# Load the webpage\n",
    "\n",
    "link = \"https://www.falabella.com.co/falabella-co/product/33972788/Televisor-Hyundai-32-Pulgadas-Hd-Smart-Android-By-Google/33972788\"\n",
    "driver.get(link)"
   ]
  },
  {
   "cell_type": "code",
   "execution_count": 6,
   "metadata": {},
   "outputs": [
    {
     "data": {
      "text/plain": [
       "<Node table>"
      ]
     },
     "execution_count": 6,
     "metadata": {},
     "output_type": "execute_result"
    }
   ],
   "source": [
    "parser = HTMLParser(driver.page_source)\n",
    "parser.css_first(\"table[class = 'jsx-428502957 specification-table']\")"
   ]
  },
  {
   "cell_type": "code",
   "execution_count": 7,
   "metadata": {},
   "outputs": [
    {
     "name": "stdout",
     "output_type": "stream",
     "text": [
      "[<Node tr>, <Node tr>, <Node tr>, <Node tr>, <Node tr>, <Node tr>, <Node tr>, <Node tr>, <Node tr>, <Node tr>, <Node tr>, <Node tr>, <Node tr>, <Node tr>, <Node tr>, <Node tr>, <Node tr>, <Node tr>, <Node tr>, <Node tr>, <Node tr>, <Node tr>, <Node tr>, <Node tr>, <Node tr>, <Node tr>, <Node tr>, <Node tr>, <Node tr>]\n"
     ]
    }
   ],
   "source": [
    "parser = HTMLParser(driver.page_source)\n",
    "spec_table = parser.css_first(\"table[class = 'jsx-428502957 specification-table']\")\n",
    "print(spec_table.css(\"tr\"))"
   ]
  },
  {
   "cell_type": "code",
   "execution_count": 8,
   "metadata": {},
   "outputs": [
    {
     "data": {
      "text/plain": [
       "29"
      ]
     },
     "execution_count": 8,
     "metadata": {},
     "output_type": "execute_result"
    }
   ],
   "source": [
    "parser = HTMLParser(driver.page_source)\n",
    "spec_table = parser.css_first(\"table[class = 'jsx-428502957 specification-table']\")\n",
    "rows = spec_table.css(\"tr\")\n",
    "len(rows)"
   ]
  },
  {
   "cell_type": "code",
   "execution_count": 9,
   "metadata": {},
   "outputs": [
    {
     "name": "stdout",
     "output_type": "stream",
     "text": [
      "Tamaño de la pantalla\n",
      "Resolución\n",
      "Tecnología\n",
      "Conexión Bluetooth\n",
      "Smart TV\n",
      "Control remoto incluido\n",
      "Modelo\n",
      "Tipo\n",
      "Procesador\n",
      "Entradas VGA\n",
      "Entradas RCA\n",
      "Entrada Internet\n",
      "Tasa de refresco\n",
      "Conexión WiFi\n",
      "Android TV\n",
      "Potencia de los parlantes\n",
      "Peso del producto\n",
      "Profundidad\n",
      "Ancho\n",
      "Alto (con/sin base)\n",
      "Lentes 3D incluidos\n",
      "Garantía del proveedor\n",
      "Tipo de pantalla\n",
      "Tamaño diagonal de pantalla en cm\n",
      "Sintonizador TDT\n",
      "Aplicaciones destacadas\n",
      "Hecho en\n",
      "Marca\n",
      "Condicion del producto\n"
     ]
    }
   ],
   "source": [
    "parser = HTMLParser(driver.page_source)\n",
    "spec_table = parser.css_first(\"table[class = 'jsx-428502957 specification-table']\")\n",
    "rows = spec_table.css(\"tr\")\n",
    "for row in rows:\n",
    "    spec_name = row.css_first(\"td[class = 'jsx-428502957 property-name']\").text()\n",
    "    print(spec_name)"
   ]
  },
  {
   "cell_type": "code",
   "execution_count": 10,
   "metadata": {},
   "outputs": [
    {
     "name": "stdout",
     "output_type": "stream",
     "text": [
      "32 pulgadas\n",
      "Hd\n",
      "Led\n",
      "Sí\n",
      "Sí\n",
      "Sí\n",
      "HYLED3251AiM\n",
      "Televisores\n",
      "4 nucleos\n",
      "Sin entradas\n",
      "Sin entradas\n",
      "Sí\n",
      "60 hz\n",
      "Sí\n",
      "Sí\n",
      "10 watts.\n",
      "4 kg.\n",
      "8 cm.\n",
      "73 cm.\n",
      "43 cm.\n",
      "No\n",
      "1 año\n",
      "Plana\n",
      "80 cm.\n",
      "Si\n",
      "Disney plus,  video, youtube, netflix\n",
      "China\n",
      "Hyundai\n",
      "Nuevo\n"
     ]
    }
   ],
   "source": [
    "parser = HTMLParser(driver.page_source)\n",
    "spec_table = parser.css_first(\"table[class = 'jsx-428502957 specification-table']\")\n",
    "rows = spec_table.css(\"tr\")\n",
    "spec_names = []\n",
    "for row in rows:\n",
    "    spec_name = row.css_first(\"td[class = 'jsx-428502957 property-name']\").text()\n",
    "    spec_names.append(spec_name)\n",
    "    spec_val = row.css_first(\"td[class = 'jsx-428502957 property-value']\").text()\n",
    "    print(spec_val)"
   ]
  },
  {
   "cell_type": "code",
   "execution_count": 11,
   "metadata": {},
   "outputs": [
    {
     "ename": "SyntaxError",
     "evalue": "expected ':' (<ipython-input-11-07e19d60caf7>, line 4)",
     "output_type": "error",
     "traceback": [
      "\u001b[1;36m  Cell \u001b[1;32mIn[11], line 4\u001b[1;36m\u001b[0m\n\u001b[1;33m    def get_specs(parser)\u001b[0m\n\u001b[1;37m                         ^\u001b[0m\n\u001b[1;31mSyntaxError\u001b[0m\u001b[1;31m:\u001b[0m expected ':'\n"
     ]
    }
   ],
   "source": [
    "parser = HTMLParser(driver.page_source)\n",
    "\n",
    "def get_specs(parser)\n",
    "    spec_table = parser.css_first(\"table[class = 'jsx-428502957 specification-table']\")\n",
    "    rows = spec_table.css(\"tr\")\n",
    "    spec_names = []\n",
    "    spec_vals = []\n",
    "    for row in rows:\n",
    "        spec_name = row.css_first(\"td[class = 'jsx-428502957 property-name']\").text()\n",
    "        spec_names.append(spec_name)\n",
    "        spec_val = row.css_first(\"td[class = 'jsx-428502957 property-value']\").text()\n",
    "        spec_vals.append(spec_val)\n",
    "    specs = {spec_names[i]: spec_vals[i] for i in range(len(spec_names))}\n",
    "    return specs\n",
    "\n",
    "brand = parser.css_first(\"div[class = 'jsx-1874573512 product-brand fa--brand false']\").attrs[\"data-brand\"]\n",
    "print(brand)"
   ]
  },
  {
   "cell_type": "code",
   "execution_count": 12,
   "metadata": {},
   "outputs": [
    {
     "name": "stdout",
     "output_type": "stream",
     "text": [
      "HYUNDAI\n"
     ]
    }
   ],
   "source": [
    "parser = HTMLParser(driver.page_source)\n",
    "\n",
    "def get_specs(parser):\n",
    "    spec_table = parser.css_first(\"table[class = 'jsx-428502957 specification-table']\")\n",
    "    rows = spec_table.css(\"tr\")\n",
    "    spec_names = []\n",
    "    spec_vals = []\n",
    "    for row in rows:\n",
    "        spec_name = row.css_first(\"td[class = 'jsx-428502957 property-name']\").text()\n",
    "        spec_names.append(spec_name)\n",
    "        spec_val = row.css_first(\"td[class = 'jsx-428502957 property-value']\").text()\n",
    "        spec_vals.append(spec_val)\n",
    "    specs = {spec_names[i]: spec_vals[i] for i in range(len(spec_names))}\n",
    "    return specs\n",
    "\n",
    "brand = parser.css_first(\"div[class = 'jsx-1874573512 product-brand fa--brand false']\").attrs[\"data-brand\"]\n",
    "print(brand)"
   ]
  },
  {
   "cell_type": "code",
   "execution_count": 13,
   "metadata": {},
   "outputs": [
    {
     "name": "stdout",
     "output_type": "stream",
     "text": [
      "HYUNDAI\n",
      "Televisor Hyundai 32 Pulgadas Hd Smart Android By Google \n"
     ]
    }
   ],
   "source": [
    "brand = parser.css_first(\"div[class = 'jsx-1874573512 product-brand fa--brand false']\").attrs[\"data-brand\"]\n",
    "print(brand)\n",
    "title = parser.css_first(\"h1\").text()\n",
    "print(title)"
   ]
  },
  {
   "cell_type": "code",
   "execution_count": 14,
   "metadata": {},
   "outputs": [
    {
     "name": "stdout",
     "output_type": "stream",
     "text": [
      "HYUNDAI | Televisor Hyundai 32 Pulgadas Hd Smart Android By Google \n"
     ]
    }
   ],
   "source": [
    "brand = parser.css_first(\"div[class = 'jsx-1874573512 product-brand fa--brand false']\").attrs[\"data-brand\"]\n",
    "title = parser.css_first(\"h1\").text()\n",
    "print(brand, \"|\", title)"
   ]
  },
  {
   "cell_type": "code",
   "execution_count": 15,
   "metadata": {},
   "outputs": [
    {
     "ename": "AttributeError",
     "evalue": "'NoneType' object has no attribute 'text'",
     "output_type": "error",
     "traceback": [
      "\u001b[1;31m---------------------------------------------------------------------------\u001b[0m",
      "\u001b[1;31mAttributeError\u001b[0m                            Traceback (most recent call last)",
      "\u001b[1;32md:\\ScrapingProjects\\Colombia\\getdata.py\u001b[0m in \u001b[0;36mline 4\n\u001b[0;32m      <a href='file:///d%3A/ScrapingProjects/Colombia/getdata.py?line=42'>43</a>\u001b[0m brand \u001b[39m=\u001b[39m parser\u001b[39m.\u001b[39mcss_first(\u001b[39m\"\u001b[39m\u001b[39mdiv[class = \u001b[39m\u001b[39m'\u001b[39m\u001b[39mjsx-1874573512 product-brand fa--brand false\u001b[39m\u001b[39m'\u001b[39m\u001b[39m]\u001b[39m\u001b[39m\"\u001b[39m)\u001b[39m.\u001b[39mattrs[\u001b[39m\"\u001b[39m\u001b[39mdata-brand\u001b[39m\u001b[39m\"\u001b[39m]\n\u001b[0;32m      <a href='file:///d%3A/ScrapingProjects/Colombia/getdata.py?line=43'>44</a>\u001b[0m title \u001b[39m=\u001b[39m parser\u001b[39m.\u001b[39mcss_first(\u001b[39m\"\u001b[39m\u001b[39mh1\u001b[39m\u001b[39m\"\u001b[39m)\u001b[39m.\u001b[39mtext()\n\u001b[1;32m----> <a href='file:///d%3A/ScrapingProjects/Colombia/getdata.py?line=44'>45</a>\u001b[0m price \u001b[39m=\u001b[39m parser\u001b[39m.\u001b[39;49mcss_first(\u001b[39m\"\u001b[39;49m\u001b[39mdiv[class = \u001b[39;49m\u001b[39m'\u001b[39;49m\u001b[39mjsx-749763969 prices-0\u001b[39;49m\u001b[39m'\u001b[39;49m\u001b[39m]\u001b[39;49m\u001b[39m\"\u001b[39;49m)\u001b[39m.\u001b[39;49mtext()\n\u001b[0;32m      <a href='file:///d%3A/ScrapingProjects/Colombia/getdata.py?line=45'>46</a>\u001b[0m \u001b[39mprint\u001b[39m(brand, \u001b[39m\"\u001b[39m\u001b[39m|\u001b[39m\u001b[39m\"\u001b[39m, title, \u001b[39m\"\u001b[39m\u001b[39m|\u001b[39m\u001b[39m\"\u001b[39m, price)\n",
      "\u001b[1;31mAttributeError\u001b[0m: 'NoneType' object has no attribute 'text'"
     ]
    }
   ],
   "source": [
    "brand = parser.css_first(\"div[class = 'jsx-1874573512 product-brand fa--brand false']\").attrs[\"data-brand\"]\n",
    "title = parser.css_first(\"h1\").text()\n",
    "price = parser.css_first(\"div[class = 'jsx-749763969 prices-0']\").text()\n",
    "print(brand, \"|\", title, \"|\", price)"
   ]
  },
  {
   "cell_type": "code",
   "execution_count": 16,
   "metadata": {},
   "outputs": [
    {
     "name": "stdout",
     "output_type": "stream",
     "text": [
      "HYUNDAI | Televisor Hyundai 32 Pulgadas Hd Smart Android By Google  | $  669.900  -41%\n"
     ]
    }
   ],
   "source": [
    "brand = parser.css_first(\"div[class = 'jsx-1874573512 product-brand fa--brand false']\").attrs[\"data-brand\"]\n",
    "title = parser.css_first(\"h1\").text()\n",
    "price = parser.css_first(\"li[class = 'jsx-749763969 prices-0']\").text()\n",
    "print(brand, \"|\", title, \"|\", price)"
   ]
  },
  {
   "cell_type": "code",
   "execution_count": 17,
   "metadata": {},
   "outputs": [
    {
     "name": "stdout",
     "output_type": "stream",
     "text": [
      "HYUNDAI | Televisor Hyundai 32 Pulgadas Hd Smart Android By Google  |  | $ | \n"
     ]
    }
   ],
   "source": [
    "brand = parser.css_first(\"div[class = 'jsx-1874573512 product-brand fa--brand false']\").attrs[\"data-brand\"]\n",
    "title = parser.css_first(\"h1\").text()\n",
    "price = parser.css_first(\"li[class = 'jsx-749763969 prices-0']\").text().split(\" \")\n",
    "avg_price = price[1]\n",
    "currency = price[0]\n",
    "print(brand, \"|\", title, \"|\", avg_price, \"|\", currency, \"|\", avg_price)"
   ]
  },
  {
   "cell_type": "code",
   "execution_count": 18,
   "metadata": {},
   "outputs": [
    {
     "name": "stdout",
     "output_type": "stream",
     "text": [
      "HYUNDAI | Televisor Hyundai 32 Pulgadas Hd Smart Android By Google  | 669.900 | $ | 669.900\n"
     ]
    }
   ],
   "source": [
    "brand = parser.css_first(\"div[class = 'jsx-1874573512 product-brand fa--brand false']\").attrs[\"data-brand\"]\n",
    "title = parser.css_first(\"h1\").text()\n",
    "price = parser.css_first(\"li[class = 'jsx-749763969 prices-0']\").text().split(\" \")\n",
    "avg_price = price[2]\n",
    "currency = price[0]\n",
    "print(brand, \"|\", title, \"|\", avg_price, \"|\", currency, \"|\", avg_price)"
   ]
  },
  {
   "cell_type": "code",
   "execution_count": 19,
   "metadata": {},
   "outputs": [
    {
     "name": "stdout",
     "output_type": "stream",
     "text": [
      "['$', '', '669.900', '', '-41%']\n"
     ]
    }
   ],
   "source": [
    "brand = parser.css_first(\"div[class = 'jsx-1874573512 product-brand fa--brand false']\").attrs[\"data-brand\"]\n",
    "title = parser.css_first(\"h1\").text()\n",
    "price = parser.css_first(\"li[class = 'jsx-749763969 prices-0']\").text().split(\" \")\n",
    "avg_price = price[2]\n",
    "currency = price[0]\n",
    "print(price)"
   ]
  },
  {
   "cell_type": "code",
   "execution_count": 20,
   "metadata": {},
   "outputs": [
    {
     "name": "stdout",
     "output_type": "stream",
     "text": [
      "$  669.900  -41%\n"
     ]
    }
   ],
   "source": [
    "brand = parser.css_first(\"div[class = 'jsx-1874573512 product-brand fa--brand false']\").attrs[\"data-brand\"]\n",
    "title = parser.css_first(\"h1\").text()\n",
    "price = parser.css_first(\"li[class = 'jsx-749763969 prices-0']\").text()\n",
    "avg_price = price[2]\n",
    "currency = price[0]\n",
    "print(price)"
   ]
  },
  {
   "cell_type": "code",
   "execution_count": 21,
   "metadata": {},
   "outputs": [
    {
     "name": "stdout",
     "output_type": "stream",
     "text": [
      "HYUNDAI | Televisor Hyundai 32 Pulgadas Hd Smart Android By Google  | 669.900 | $ | 669.900\n"
     ]
    }
   ],
   "source": [
    "brand = parser.css_first(\"div[class = 'jsx-1874573512 product-brand fa--brand false']\").attrs[\"data-brand\"]\n",
    "title = parser.css_first(\"h1\").text()\n",
    "price = parser.css_first(\"li[class = 'jsx-749763969 prices-0']\").text().split(\" \")\n",
    "avg_price = price[2]\n",
    "currency = price[0]\n",
    "print(brand, \"|\", title, \"|\", avg_price, \"|\", currency, \"|\", avg_price)"
   ]
  },
  {
   "cell_type": "code",
   "execution_count": 22,
   "metadata": {},
   "outputs": [
    {
     "name": "stdout",
     "output_type": "stream",
     "text": [
      "HYUNDAI | Televisor Hyundai 32 Pulgadas Hd Smart Android By Google  | 669.900 | $ |\n"
     ]
    }
   ],
   "source": [
    "brand = parser.css_first(\"div[class = 'jsx-1874573512 product-brand fa--brand false']\").attrs[\"data-brand\"]\n",
    "title = parser.css_first(\"h1\").text()\n",
    "price = parser.css_first(\"li[class = 'jsx-749763969 prices-0']\").text().split(\" \")\n",
    "avg_price = price[2]\n",
    "currency = price[0]\n",
    "print(brand, \"|\", title, \"|\", avg_price, \"|\", currency, \"|\")"
   ]
  },
  {
   "cell_type": "code",
   "execution_count": 23,
   "metadata": {},
   "outputs": [
    {
     "name": "stdout",
     "output_type": "stream",
     "text": [
      "HYUNDAI | Televisor Hyundai 32 Pulgadas Hd Smart Android By Google  | 669.900 | $ | 4.3\n"
     ]
    }
   ],
   "source": [
    "brand = parser.css_first(\"div[class = 'jsx-1874573512 product-brand fa--brand false']\").attrs[\"data-brand\"]\n",
    "title = parser.css_first(\"h1\").text()\n",
    "price = parser.css_first(\"li[class = 'jsx-749763969 prices-0']\").text().split(\" \")\n",
    "avg_price = price[2]\n",
    "currency = price[0]\n",
    "offers = 1\n",
    "rating = parser.css_first(\"div[itemprop = 'ratingValue']\").text()\n",
    "print(brand, \"|\", title, \"|\", avg_price, \"|\", currency, \"|\", rating)"
   ]
  },
  {
   "cell_type": "code",
   "execution_count": 24,
   "metadata": {},
   "outputs": [
    {
     "name": "stdout",
     "output_type": "stream",
     "text": [
      "HYUNDAI | Televisor Hyundai 32 Pulgadas Hd Smart Android By Google  | 669.900 | $ | 4.3 | (14)\n"
     ]
    }
   ],
   "source": [
    "brand = parser.css_first(\"div[class = 'jsx-1874573512 product-brand fa--brand false']\").attrs[\"data-brand\"]\n",
    "title = parser.css_first(\"h1\").text()\n",
    "price = parser.css_first(\"li[class = 'jsx-749763969 prices-0']\").text().split(\" \")\n",
    "avg_price = price[2]\n",
    "currency = price[0]\n",
    "offers = 1\n",
    "rating = parser.css_first(\"div[itemprop = 'ratingValue']\").text()\n",
    "reviews = parser.css_first(\"div[class = 'bv_numReviews_text']\").text()\n",
    "print(brand, \"|\", title, \"|\", avg_price, \"|\", currency, \"|\", rating, \"|\", reviews)"
   ]
  }
 ],
 "metadata": {
  "kernelspec": {
   "display_name": "scrapingenv",
   "language": "python",
   "name": "python3"
  },
  "language_info": {
   "name": "python",
   "version": "3.11.3"
  }
 },
 "nbformat": 4,
 "nbformat_minor": 2
}
